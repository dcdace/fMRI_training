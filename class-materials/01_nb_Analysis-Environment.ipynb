{
 "cells": [
  {
   "cell_type": "markdown",
   "metadata": {},
   "source": [
    "# Recommended tools for fMRI analysis environment\n",
    "\n",
    "## Programming languages\n",
    "\n",
    "\n",
    "### Bash (Unix shell)\n",
    "\n",
    "<img align=\"right\" padding = \"16px;\" src=\"https://d33wubrfki0l68.cloudfront.net/a1da522d0a3057a1bc3fb411fcbbf57a447c1146/65e71/img/symbol/svg/full_colored_dark.svg\" width=\"8%\">\n",
    "\n",
    "`Bash` is a `Unix shell` and command language. A `Unix shell` is a command-line interpreter or shell that provides a command line user interface for Unix-like operating systems (e.g., `Linux`, `macOS`). `Bash` is readily available on `Linux` and `macOS` systems. \n",
    "\n",
    "Many tutorials available online. For example, [this Shell Scripting Tutorial](https://www.shellscript.sh/). \n",
    "\n",
    "\n",
    "### Python\n",
    "<img align=\"right\" src=\"https://logos-world.net/wp-content/uploads/2021/10/Python-Symbol-700x394.png\" width=\"14%\">\n",
    "\n",
    "\n",
    "`Python` is a high-level, general-purpose programming language. It is license-free, unlike, for example, Matlab. That's one of the reasons why `Python` is nowadays a recommended choice for reproducible & open code. \n",
    "\n",
    "`High-level` means that it is 'easy' for humans (scientists) to work with. \n",
    "\n",
    "There are many ways to install `Python`.\n",
    "\n",
    "The method that many people use, is to use [Anaconda](https://www.anaconda.com/products/distribution#Downloads) to install `Python` and various important `Python` libraries. Anaconda is a particularly good option for Windows, because Windows is a relatively complicated platform for building code, such as Python and its libraries. \n",
    "\n",
    "But at least to start with, it would be good enough to install [Miniconda](https://docs.conda.io/en/latest/miniconda.html), which takes up much less resources. \n",
    "<img align=\"right\" src=\"https://upload.wikimedia.org/wikipedia/commons/2/21/Matlab_Logo.png\" width=\"8%\">\n",
    "\n",
    "### Matlab\n",
    "\n",
    "If you have it available, `Matlab` still provides loads of useful resources for Neuroimaging analysis. \n",
    "\n",
    "## Code editor\n",
    "\n",
    "<img align=\"right\" src=\"https://www.vectorlogo.zone/logos/visualstudio_code/visualstudio_code-ar21.svg\" width=\"16%\">\n",
    "\n",
    "I recommend using [Visual Studio Code (VSCode)](https://code.visualstudio.com/download) to write, edit, manage and run your code. \n",
    "\n",
    "With `VSCode` you can also access a remote computing environement, like CBU compute nodes or High Performance Computing (HPC) environement. Here is a blog on [how to use VSCode to access HPC](https://blog.wytamma.com/blog/hcp-vscode/). A similar approach would be for any other SSH connection, like connecting to CBU computing environment.\n",
    "\n",
    "## Version Control\n",
    "\n",
    "<img align=\"right\" src=\"https://upload.wikimedia.org/wikipedia/commons/thumb/e/e0/Git-logo.svg/2560px-Git-logo.svg.png\" width=\"10%\">\n",
    "\n",
    "Version control, also known as source control, is the practice of tracking and managing changes to software code - your analysis code. It allows you to revert selected files back to a previous state, revert the entire project back to a previous state, compare changes over time etc. \n",
    "\n",
    "See an introductory tutorial on `Git` and `GitHub` [here](https://www.youtube.com/watch?v=Lsmt2rHPJDU). \n",
    "\n",
    "    \n",
    "## Analysis Notebook\n",
    "<img align=\"right\" src=\"https://upload.wikimedia.org/wikipedia/commons/thumb/3/38/Jupyter_logo.svg/120px-Jupyter_logo.svg.png\" width=\"6%\">\n",
    "\n",
    "`Jupyter Notebook` is a very useful tool for integrating your notes and code and output in a web-based notebook like this. The Jupyter system supports over 100 programming languages (called “kernels” in the Jupyter ecosystem) including `Python` and `R`. \n",
    "\n",
    "`Jupyter Notebook` is one way to run (relatively simple) `Python` commands. It is a particularly good way of running code for beginners, because it gets you started very quickly, in a familiar interface (the web browser). However, it is not a good interface for writing more than a small amount of code. It's really more a 'notebook'.\n",
    "\n",
    "\n",
    "# Create your fMRI analysis `Python` (conda) environement\n",
    "\n",
    "<img align=\"right\" src=\"https://upload.wikimedia.org/wikipedia/commons/thumb/e/ea/Conda_logo.svg/2560px-Conda_logo.svg.png\" width=\"10%\">\n",
    "\n",
    "`Conda` is an open-source, cross-platform, language-agnostic package manager and environment management system. The Conda package and environment manager is included in all versions of `Anaconda` and `Miniconda`. \n",
    "\n",
    "With `conda`, you can create, export, list, remove, and update environments that have different versions of `Python` and/or packages installed in them. You can, for example, create your fMRI analysis environment that includes packages needed for your analysis work. \n",
    "\n",
    "Here are instructions on [managing `conda` environments](https://conda.io/projects/conda/en/latest/user-guide/tasks/manage-environments.html). \n",
    "\n",
    "I have shared with you the environment that you'd need to do the things we will do in this workshop. It is available on the [GitHub workshop materials page](https://github.com/dcdace/COGNESTIC-fMRI) as a file `environment.yml`.  \n",
    "\n",
    "```python\n",
    "# Create the 'fMRI' environment from the file\n",
    "conda env create -f environment.yml\n",
    "\n",
    "# activate the 'fMRI' environment\n",
    "conda activate fMRI\n",
    "```\n",
    "\n",
    "Now, when you are in your environment, you can add new packages to it if you like. \n"
   ]
  },
  {
   "cell_type": "markdown",
   "metadata": {},
   "source": [
    "Adding two numers\n"
   ]
  },
  {
   "cell_type": "code",
   "execution_count": 1,
   "metadata": {},
   "outputs": [
    {
     "data": {
      "text/plain": [
       "6102"
      ]
     },
     "execution_count": 1,
     "metadata": {},
     "output_type": "execute_result"
    }
   ],
   "source": [
    "345 + 5757"
   ]
  }
 ],
 "metadata": {
  "kernelspec": {
   "display_name": "Python 3 (ipykernel)",
   "language": "python",
   "name": "python3"
  },
  "language_info": {
   "codemirror_mode": {
    "name": "ipython",
    "version": 3
   },
   "file_extension": ".py",
   "mimetype": "text/x-python",
   "name": "python",
   "nbconvert_exporter": "python",
   "pygments_lexer": "ipython3",
   "version": "3.9.13"
  },
  "toc": {
   "base_numbering": 1,
   "nav_menu": {},
   "number_sections": true,
   "sideBar": true,
   "skip_h1_title": true,
   "title_cell": "Table of Contents",
   "title_sidebar": "Contents",
   "toc_cell": false,
   "toc_position": {},
   "toc_section_display": true,
   "toc_window_display": true
  },
  "varInspector": {
   "cols": {
    "lenName": 16,
    "lenType": 16,
    "lenVar": 40
   },
   "kernels_config": {
    "python": {
     "delete_cmd_postfix": "",
     "delete_cmd_prefix": "del ",
     "library": "var_list.py",
     "varRefreshCmd": "print(var_dic_list())"
    },
    "r": {
     "delete_cmd_postfix": ") ",
     "delete_cmd_prefix": "rm(",
     "library": "var_list.r",
     "varRefreshCmd": "cat(var_dic_list()) "
    }
   },
   "types_to_exclude": [
    "module",
    "function",
    "builtin_function_or_method",
    "instance",
    "_Feature"
   ],
   "window_display": false
  }
 },
 "nbformat": 4,
 "nbformat_minor": 2
}
