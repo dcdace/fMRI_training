{
 "cells": [
  {
   "cell_type": "markdown",
   "metadata": {},
   "source": [
    "# Recommended tools for fMRI analysis environment\n",
    "\n",
    "## Programming languages\n",
    "\n",
    "\n",
    "### Bash (Unix shell)\n",
    "\n",
    "<img align=\"right\" padding = \"16px;\" src=\"https://d33wubrfki0l68.cloudfront.net/a1da522d0a3057a1bc3fb411fcbbf57a447c1146/65e71/img/symbol/svg/full_colored_dark.svg\" width=\"8%\">\n",
    "\n",
    "`Bash` is a `Unix shell` and command language. A `Unix shell` is a command-line interpreter or shell that provides a command line user interface for Unix-like operating systems (e.g., `Linux`, `macOS`). `Bash` is readily available on `Linux` and `macOS` systems. \n",
    "\n",
    "Many tutorials available online. For example, [this Shell Scripting Tutorial](https://www.shellscript.sh/). \n",
    "\n",
    "\n",
    "### Python\n",
    "<img align=\"right\" src=\"https://logos-world.net/wp-content/uploads/2021/10/Python-Symbol-700x394.png\" width=\"14%\">\n",
    "\n",
    "\n",
    "`Python` is a high-level, general-purpose programming language. It is license-free, unlike, for example, Matlab. That's one of the reasons why `Python` is nowadays a recommended choice for reproducible & open code. \n",
    "\n",
    "`High-level` means that it is 'easy' for humans (scientists) to work with.  Its syntax is more human-readable and closer to natural language compared to low-level languages. \n",
    "\n",
    "There are several ways to install `Python`.\n",
    "\n",
    "The method that some people use, is to install [Anaconda](https://www.anaconda.com/products/distribution#Downloads) that comes with `Python` and `Conda` package manager and hundreds of packages and libraries. However,  my recommendation is to install [Miniconda](https://docs.conda.io/en/latest/miniconda.html). **Miniconda** is a minimalistic version of Anaconda. It comes with the `Conda` package manager and `Python`, but it does not include any pre-installed packages besides the few necessary to run `Conda`. Users can then install only the packages they need using `Conda`. Miniconda provides more control over the environment, as users can create tailored environments with only the packages they need for a specific project. It also takes up much less resources compared to Anaconda. \n",
    "\n",
    "<img align=\"right\" src=\"https://upload.wikimedia.org/wikipedia/commons/2/21/Matlab_Logo.png\" width=\"8%\">\n",
    "\n",
    "### Matlab\n",
    "\n",
    "If you have it available, `Matlab` still provides loads of useful resources for Neuroimaging analysis. \n",
    "\n",
    "## Code editor\n",
    "\n",
    "<img align=\"right\" src=\"https://www.vectorlogo.zone/logos/visualstudio_code/visualstudio_code-ar21.svg\" width=\"16%\">\n",
    "\n",
    "I recommend using [Visual Studio Code (VSCode)](https://code.visualstudio.com/download) to write, edit, manage and run your code. \n",
    "\n",
    "With `VSCode` you can also access a remote computing environement, like CBU compute nodes or High Performance Computing (HPC) environement. Here is a blog on [how to use VSCode to access HPC](https://blog.wytamma.com/blog/hcp-vscode/). A similar approach would be for any other SSH connection, like connecting to CBU computing environment.\n",
    "\n",
    "## Version Control\n",
    "\n",
    "<img align=\"right\" src=\"https://upload.wikimedia.org/wikipedia/commons/thumb/e/e0/Git-logo.svg/2560px-Git-logo.svg.png\" width=\"10%\">\n",
    "\n",
    "Version control, also known as source control, is the practice of tracking and managing changes to software code - your analysis code. It allows you to revert selected files back to a previous state, revert the entire project back to a previous state, compare changes over time etc. \n",
    "\n",
    "See an introductory tutorial on `Git` and `GitHub` [here](https://www.youtube.com/watch?v=Lsmt2rHPJDU).\n",
    " \n",
    "## Analysis Notebook\n",
    "<img align=\"right\" src=\"https://upload.wikimedia.org/wikipedia/commons/thumb/3/38/Jupyter_logo.svg/120px-Jupyter_logo.svg.png\" width=\"6%\">\n",
    "\n",
    "`Jupyter Notebook` is a very useful tool for integrating your notes and code and output in a web-based notebook like this. The Jupyter system supports over 100 programming languages (called “kernels” in the Jupyter ecosystem) including `Python` and `R`. \n",
    "\n",
    "`Jupyter Notebook` is one way to run (relatively simple) `Python` commands. It is a particularly good way of running code for beginners, because it gets you started very quickly, in a familiar interface (the web browser). However, it is not a good interface for writing more than a small amount of code. It's really more a 'notebook'.\n",
    "\n",
    "Below is a quick introduction on how to work with `Jupyter Notebooks`. This introduction is largely based on [https://github.com/jvns/pandas-cookbook](https://github.com/jvns/pandas-cookbook)."
   ]
  },
  {
   "cell_type": "markdown",
   "metadata": {},
   "source": [
    "### Keyboard shortcuts\n",
    "\n",
    "For a list of all keyboard shortcuts, click on the small keyboard icon in the notebook header or click on `Help > Keyboard Shortcuts`.\n",
    "\n",
    "`Command mode` means the highlight aroun the selected cell should be blue. When the highlight is green, the cell is in edit mode. To switch between the modes you can either select the side of the cell with a mouse or use `Esc` to switch to command mode and `Enter` to switch back to edit mode.\n",
    "\n",
    "For example, if you're editing a cell, the key presses to change the cell from a code cell to a markdown cell are `Esc`, `m`, `Enter`."
   ]
  },
  {
   "cell_type": "markdown",
   "metadata": {},
   "source": [
    "### How to run a cell\n",
    "\n",
    "The notebook is capable of running code in a wide range of languages. However, each notebook is associated with a single kernel. This notebook is associated with the Python3 kernel, therefore runs Python code. The kernel maintains the state of a notebook’s computations. You can reset this state by restarting the kernel (in the menu `Kernel-Restart`). \n",
    "\n",
    "Try to run the cell below!"
   ]
  },
  {
   "cell_type": "code",
   "execution_count": 9,
   "metadata": {},
   "outputs": [
    {
     "name": "stdout",
     "output_type": "stream",
     "text": [
      "Hi! This is a cell. Click on it and press the ▶ button above to run it\n"
     ]
    }
   ],
   "source": [
    "\n",
    "print(\"Hi! This is a cell. Click on it and press the ▶ button above to run it\")"
   ]
  },
  {
   "cell_type": "markdown",
   "metadata": {},
   "source": [
    "You can also run a cell with `Ctrl+Enter` or `Shift+Enter`. Experiment a bit with that.\n",
    "\n",
    "Text can be added to Jupyter Notebooks using Markdown cells. You can change the cell type to Markdown by using the `Cell` menu, the toolbar, or the key shortcut `m` (in command mode). Markdown is a popular markup language that is a superset of HTML. See here for a basic markdown syntax https://www.markdownguide.org/basic-syntax/"
   ]
  },
  {
   "cell_type": "markdown",
   "metadata": {},
   "source": [
    "### Tab Completion"
   ]
  },
  {
   "cell_type": "markdown",
   "metadata": {},
   "source": [
    "One of the most useful things about Jupyter Notebook is its tab completion. \n",
    "\n",
    "Try this: click just after `read_csv(` in the cell below and press `Shift+Tab` 4 times, slowly."
   ]
  },
  {
   "cell_type": "code",
   "execution_count": 5,
   "metadata": {},
   "outputs": [],
   "source": [
    "import pandas as pd\n",
    "\n",
    "pd.read_csv("
   ]
  },
  {
   "cell_type": "markdown",
   "metadata": {},
   "source": [
    "After the fourth time, a big help box should pop up at the bottom of the screen, with the full documentation for the `read_csv` function.\n",
    "\n",
    "This is very useful. You can think of it as \"the more confused I am, the more times I should press `Shift+Tab`\".\n",
    "\n",
    "Now, let's try tab completion for function names. Click just after the `pd.r` in the cell below and press `Tab`."
   ]
  },
  {
   "cell_type": "code",
   "execution_count": null,
   "metadata": {},
   "outputs": [],
   "source": [
    "pd.r"
   ]
  },
  {
   "cell_type": "markdown",
   "metadata": {},
   "source": [
    "### Get Help\n",
    "\n",
    "There's an additional way on how you can reach the help box shown above after the fourth `Shift+Tab` press. Instead, you can also use `obj?` or `obj??` to get help or more help for an object."
   ]
  },
  {
   "cell_type": "code",
   "execution_count": null,
   "metadata": {},
   "outputs": [],
   "source": [
    "pd.read_csv?\n",
    "\n",
    "#help(pd.read_csv)"
   ]
  },
  {
   "cell_type": "markdown",
   "metadata": {},
   "source": [
    "### Writing code\n",
    "\n",
    "Writing code in the notebook is pretty normal."
   ]
  },
  {
   "cell_type": "code",
   "execution_count": 7,
   "metadata": {},
   "outputs": [],
   "source": [
    "def print_10_nums():\n",
    "    for i in range(10):\n",
    "        print(i)"
   ]
  },
  {
   "cell_type": "code",
   "execution_count": null,
   "metadata": {},
   "outputs": [],
   "source": [
    "print_10_nums()"
   ]
  },
  {
   "cell_type": "markdown",
   "metadata": {},
   "source": [
    "If you messed something up and want to revert to an older version of a code in a cell, use `Ctrl+Z` or to redo, use `Ctrl+Y`."
   ]
  },
  {
   "cell_type": "markdown",
   "metadata": {},
   "source": [
    "### Saving a Notebook\n",
    "\n",
    "Jupyter Notebooks autosave. At the top of the page you can usually see the current save status:\n",
    "\n",
    "- Last Checkpoint: 2 minutes ago (unsaved changes)\n",
    "- Last Checkpoint: a few seconds ago (autosaved)\n",
    "\n",
    "If you want to save a notebook on purpose, either click on `File > Save and Checkpoint` or press `Ctrl+S`."
   ]
  },
  {
   "cell_type": "markdown",
   "metadata": {},
   "source": [
    "### Magic functions"
   ]
  },
  {
   "cell_type": "markdown",
   "metadata": {},
   "source": [
    "IPython (Interactive Python) has all kinds of magic functions. Magic functions are prefixed by % or %%, and typically take their arguments without parentheses, quotes or even commas for convenience.  Line magics take a single % and cell magics are prefixed with two %%.\n",
    "\n",
    "Some useful magic functions are:\n",
    "\n",
    "Magic Name | Effect\n",
    "---------- | -------------------------------------------------------------\n",
    "%env       | Get, set, or list environment variables\n",
    "%pdb       | Control the automatic calling of the Python interactive debugger\n",
    "%pylab     | Load numpy and matplotlib to work interactively\n",
    "%%debug    | Activates debugging mode in cell\n",
    "%%html     | Render the cell as a block of HTML\n",
    "%%latex    | Render the cell as a block of latex\n",
    "%%sh       | %%sh script magic\n",
    "%%time     | Time execution of a Python statement or expression\n",
    "\n",
    "You can run `%magic` to get a list of magic functions or `%quickref` for a reference sheet."
   ]
  },
  {
   "cell_type": "markdown",
   "metadata": {},
   "source": [
    "Let's see how long a specific command takes with `%time` "
   ]
  },
  {
   "cell_type": "code",
   "execution_count": null,
   "metadata": {},
   "outputs": [],
   "source": [
    "%time sum([x for x in range(100000)])"
   ]
  },
  {
   "cell_type": "markdown",
   "metadata": {},
   "source": [
    "### Enable notebook extensions\n",
    "\n",
    "There are several useful [Jupyter Notebook extensions](https://jupyter-contrib-nbextensions.readthedocs.io/en/latest/). For exampmple, a table of contents. \n",
    "To install the extensions, in a terminal write these two commands: \n",
    "\n",
    "`pip install jupyter_contrib_nbextensions`\n",
    "\n",
    "`jupyter nbextension enable toc2/main`\n",
    "\n",
    "After that, you will need to restart the notebooks to have the extension there. \n"
   ]
  },
  {
   "cell_type": "markdown",
   "metadata": {},
   "source": [
    "# Create your fMRI analysis `Python` (conda) environement\n",
    "\n",
    "<img align=\"right\" src=\"https://upload.wikimedia.org/wikipedia/commons/thumb/e/ea/Conda_logo.svg/2560px-Conda_logo.svg.png\" width=\"10%\">\n",
    "\n",
    "`Conda` is an open-source, cross-platform, language-agnostic package manager and environment management system. The `Conda` package and environment manager is included in all versions of `Anaconda` and `Miniconda`. \n",
    "\n",
    "With `conda`, you can create, export, list, remove, and update environments that have different versions of `Python` and/or packages installed in them. \n",
    "\n",
    "Here are instructions on [managing `conda` environments](https://conda.io/projects/conda/en/latest/user-guide/tasks/manage-environments.html).\n",
    "\n",
    "For your fMRI analysis project, you would create an analysis environment that includes packages needed for your analysis work.\n",
    "\n",
    "For example, to create a new `conda` environment `fmri` with a specific version of Python and multiple packages, you'd use a command like this:\n",
    "\n",
    "`conda create -n fmri python=3.10 heudiconv dcm2niix nibabel nilearn`\n",
    "\n",
    "Once created, new packages can be added, as needed. \n",
    "\n",
    "Alternatively you can create an environment from an environment file (extension `.yml`). Here is an example environment file I am using for most fMRI projects: \n",
    "\n",
    "```python\n",
    "name: fmri\n",
    "channels:\n",
    "  - conda-forge\n",
    "  - defaults\n",
    "dependencies:\n",
    "  - dcm2niix\n",
    "  - git\n",
    "  - python=3.10\n",
    "  - ipython\n",
    "  - jupyter\n",
    "  - matplotlib\n",
    "  - numpy\n",
    "  - pandas\n",
    "  - pip\n",
    "  - pytest\n",
    "  - scikit-image\n",
    "  - scikit-learn\n",
    "  - scipy\n",
    "  - seaborn\n",
    "  - pip:\n",
    "    - atlasreader\n",
    "    - heudiconv\n",
    "    - nibabel\n",
    "    - niflow-nipype1-workflows\n",
    "    - nilearn\n",
    "    - nipy\n",
    "    - nipype\n",
    "    - nistats\n",
    "    - pybids\n",
    "    - plotly\n",
    "    - requests\n",
    "\n",
    "```\n",
    "To create an environment from this file `environment.yml`, you'd navigate to where the file is located and use the command:\n",
    "\n",
    "`conda env create -f environment.yml`\n",
    "\n",
    "Each time you want to work in the specific environment, you first need to activate it. So, to activate the newly created `fmri` environment and do your analyses there, you'd first execute this command:\n",
    "\n",
    "`conda activate fmri`\n",
    "\n",
    "An example 'fmri' environment is available on the [GitHub repository](https://github.com/dcdace/fMRI_training) for this workshop a file [`environment.yml`](https://github.com/dcdace/fMRI_training/blob/main/environment.yml).  \n",
    "\n",
    "To use it, download the file. Open a terminal, navigate to the location where you saved the file and execute these commands:\n",
    "\n",
    "```python\n",
    "# Create the 'fmri' environment from the file\n",
    "conda env create -f environment.yml\n",
    "\n",
    "# activate the 'fmri' environment\n",
    "conda activate fmri\n",
    "```\n",
    "\n",
    "Once you are in your environment, you can add new packages to it if you need. "
   ]
  }
 ],
 "metadata": {
  "kernelspec": {
   "display_name": "Python 3 (ipykernel)",
   "language": "python",
   "name": "python3"
  },
  "language_info": {
   "codemirror_mode": {
    "name": "ipython",
    "version": 3
   },
   "file_extension": ".py",
   "mimetype": "text/x-python",
   "name": "python",
   "nbconvert_exporter": "python",
   "pygments_lexer": "ipython3",
   "version": "3.10.7"
  },
  "toc": {
   "base_numbering": 1,
   "nav_menu": {},
   "number_sections": true,
   "sideBar": true,
   "skip_h1_title": true,
   "title_cell": "Table of Contents",
   "title_sidebar": "Contents",
   "toc_cell": false,
   "toc_position": {},
   "toc_section_display": true,
   "toc_window_display": true
  },
  "varInspector": {
   "cols": {
    "lenName": 16,
    "lenType": 16,
    "lenVar": 40
   },
   "kernels_config": {
    "python": {
     "delete_cmd_postfix": "",
     "delete_cmd_prefix": "del ",
     "library": "var_list.py",
     "varRefreshCmd": "print(var_dic_list())"
    },
    "r": {
     "delete_cmd_postfix": ") ",
     "delete_cmd_prefix": "rm(",
     "library": "var_list.r",
     "varRefreshCmd": "cat(var_dic_list()) "
    }
   },
   "types_to_exclude": [
    "module",
    "function",
    "builtin_function_or_method",
    "instance",
    "_Feature"
   ],
   "window_display": false
  }
 },
 "nbformat": 4,
 "nbformat_minor": 4
}
