{
 "cells": [
  {
   "cell_type": "code",
   "execution_count": 1,
   "id": "a867bcbb",
   "metadata": {},
   "outputs": [],
   "source": [
    "import os\n",
    "from bids.layout import BIDSLayout\n",
    "# using BIDS example dataset\n",
    "from bids.tests import get_test_data_path\n",
    "ds_path = os.path.join(get_test_data_path(), 'ds000117')\n",
    "layout = BIDSLayout(ds_path)"
   ]
  },
  {
   "cell_type": "code",
   "execution_count": null,
   "id": "845e2849",
   "metadata": {},
   "outputs": [],
   "source": [
    "import seedir as sd\n",
    "sd.seedir(ds_path, style='emoji')"
   ]
  },
  {
   "cell_type": "markdown",
   "id": "553a653e",
   "metadata": {},
   "source": [
    "Get all subject IDs"
   ]
  },
  {
   "cell_type": "code",
   "execution_count": null,
   "id": "a425e382",
   "metadata": {},
   "outputs": [],
   "source": [
    "layout.get_subjects()"
   ]
  },
  {
   "cell_type": "code",
   "execution_count": null,
   "id": "a7e80942",
   "metadata": {},
   "outputs": [],
   "source": [
    "# Print some basic information about the layout\n",
    "layout"
   ]
  },
  {
   "cell_type": "code",
   "execution_count": null,
   "id": "f4042bf8",
   "metadata": {},
   "outputs": [],
   "source": [
    "layout.get_tasks()"
   ]
  },
  {
   "cell_type": "code",
   "execution_count": null,
   "id": "5323f90e",
   "metadata": {},
   "outputs": [],
   "source": [
    "from bids.reports import BIDSReport\n",
    "#from bids.tests import get_test_data_path\n",
    "#layout = BIDSLayout(os.path.join(get_test_data_path(), 'synthetic'))\n",
    "\n",
    "report = BIDSReport(layout)\n",
    "\n",
    "counter = report.generate()"
   ]
  },
  {
   "cell_type": "code",
   "execution_count": null,
   "id": "fc4df850",
   "metadata": {},
   "outputs": [],
   "source": [
    "main_report = counter.most_common()[0][0]\n",
    "print(main_report)"
   ]
  },
  {
   "cell_type": "code",
   "execution_count": null,
   "id": "d132bcf1",
   "metadata": {},
   "outputs": [],
   "source": [
    "# Convert the layout to a pandas dataframe\n",
    "df = layout.to_df()\n",
    "df.head(10)"
   ]
  },
  {
   "cell_type": "code",
   "execution_count": null,
   "id": "9aa92bff",
   "metadata": {},
   "outputs": [],
   "source": [
    "layout.to_df(metadata=True).head(10)"
   ]
  },
  {
   "cell_type": "code",
   "execution_count": null,
   "id": "c1931adf",
   "metadata": {},
   "outputs": [],
   "source": []
  }
 ],
 "metadata": {
  "kernelspec": {
   "display_name": "Python 3 (ipykernel)",
   "language": "python",
   "name": "python3"
  },
  "language_info": {
   "codemirror_mode": {
    "name": "ipython",
    "version": 3
   },
   "file_extension": ".py",
   "mimetype": "text/x-python",
   "name": "python",
   "nbconvert_exporter": "python",
   "pygments_lexer": "ipython3",
   "version": "3.9.7"
  },
  "toc": {
   "base_numbering": 1,
   "nav_menu": {},
   "number_sections": false,
   "sideBar": true,
   "skip_h1_title": false,
   "title_cell": "Table of Contents",
   "title_sidebar": "Contents",
   "toc_cell": false,
   "toc_position": {},
   "toc_section_display": true,
   "toc_window_display": false
  }
 },
 "nbformat": 4,
 "nbformat_minor": 5
}
