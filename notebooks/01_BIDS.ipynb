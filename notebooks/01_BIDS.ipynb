{
 "cells": [
  {
   "cell_type": "markdown",
   "id": "dff9f7b8",
   "metadata": {},
   "source": [
    "# Introduction to BIDS and `pybids`"
   ]
  },
  {
   "cell_type": "markdown",
   "id": "3c06213f",
   "metadata": {},
   "source": [
    "Brain Imaging Data Structure (**BIDS**) is a a standard for organizing and describing MRI datasets standardised https://bids.neuroimaging.io/\n",
    "Gorgolewski, K., Auer, T., Calhoun, V. et al. *The brain imaging data structure, a format for organizing and describing outputs of neuroimaging experiments.* Sci Data 3, 160044 (2016). https://doi.org/10.1038/sdata.2016.44\n",
    "\n",
    "`pybids` is a tool to query, summarize and manipulate data using the BIDS standard. \n",
    "\n",
    "**In this tutorial I will illustrate some of the functionality of pybids.layout**\n",
    "\n",
    "The material is adapted from https://github.com/bids-standard/pybids/tree/master/examples"
   ]
  },
  {
   "cell_type": "markdown",
   "id": "c36952af",
   "metadata": {},
   "source": [
    "## Example dataset"
   ]
  },
  {
   "cell_type": "markdown",
   "id": "489cd3d2",
   "metadata": {},
   "source": [
    "When `pybids` is installed, some example datasets are added to the library. They are useful to test the structure of the dataset, but they do not contain the actual image files. \n",
    "I will use 'syntetic' dataset for some examples. "
   ]
  },
  {
   "cell_type": "code",
   "execution_count": 1,
   "id": "a867bcbb",
   "metadata": {},
   "outputs": [],
   "source": [
    "from bids.layout import BIDSLayout\n",
    "from bids.tests import get_test_data_path\n",
    "import os\n",
    "\n",
    "ds_path = os.path.join(get_test_data_path(), 'synthetic')"
   ]
  },
  {
   "cell_type": "markdown",
   "id": "23dbadb4",
   "metadata": {},
   "source": []
  },
  {
   "cell_type": "code",
   "execution_count": 3,
   "id": "ec137684",
   "metadata": {},
   "outputs": [
    {
     "name": "stdout",
     "output_type": "stream",
     "text": [
      "📁 synthetic/\n",
      "├─📄 dataset_description.json\n",
      "├─📁 derivatives/\n",
      "│ └─📁 fmriprep/\n",
      "│   ├─📄 dataset_description.json\n",
      "│   ├─📁 sub-01/\n",
      "│   │ ├─📁 ses-01/\n",
      "│   │ │ └─📁 func/\n",
      "│   │ │   ├─📄 sub-01_ses-01_task-nback_run-01_desc-confounds_regressors.tsv\n",
      "│   │ │   ├─📄 sub-01_ses-01_task-nback_run-01_space-MNI152NLin2009cAsym_desc-brain_mask.nii\n",
      "│   │ │   ├─📄 sub-01_ses-01_task-nback_run-01_space-MNI152NLin2009cAsym_desc-brain_mask.nii.gz\n",
      "│   │ │   ├─📄 sub-01_ses-01_task-nback_run-01_space-MNI152NLin2009cAsym_desc-preproc_bold.nii\n",
      "│   │ │   ├─📄 sub-01_ses-01_task-nback_run-01_space-MNI152NLin2009cAsym_desc-preproc_bold.nii.gz\n",
      "│   │ │   ├─📄 sub-01_ses-01_task-nback_run-01_space-T1w_desc-brain_mask.nii\n",
      "│   │ │   ├─📄 sub-01_ses-01_task-nback_run-01_space-T1w_desc-brain_mask.nii.gz\n",
      "│   │ │   ├─📄 sub-01_ses-01_task-nback_run-01_space-T1w_desc-preproc_bold.nii\n",
      "│   │ │   ├─📄 sub-01_ses-01_task-nback_run-01_space-T1w_desc-preproc_bold.nii.gz\n",
      "│   │ │   ├─📄 sub-01_ses-01_task-nback_run-02_desc-confounds_regressors.tsv\n",
      "│   │ │   ├─📄 sub-01_ses-01_task-nback_run-02_space-MNI152NLin2009cAsym_desc-brain_mask.nii\n",
      "│   │ │   ├─📄 sub-01_ses-01_task-nback_run-02_space-MNI152NLin2009cAsym_desc-brain_mask.nii.gz\n",
      "│   │ │   ├─📄 sub-01_ses-01_task-nback_run-02_space-MNI152NLin2009cAsym_desc-preproc_bold.nii\n",
      "│   │ │   ├─📄 sub-01_ses-01_task-nback_run-02_space-MNI152NLin2009cAsym_desc-preproc_bold.nii.gz\n",
      "│   │ │   ├─📄 sub-01_ses-01_task-nback_run-02_space-T1w_desc-brain_mask.nii\n",
      "│   │ │   ├─📄 sub-01_ses-01_task-nback_run-02_space-T1w_desc-brain_mask.nii.gz\n",
      "│   │ │   ├─📄 sub-01_ses-01_task-nback_run-02_space-T1w_desc-preproc_bold.nii\n",
      "│   │ │   ├─📄 sub-01_ses-01_task-nback_run-02_space-T1w_desc-preproc_bold.nii.gz\n",
      "│   │ │   ├─📄 sub-01_ses-01_task-rest_desc-confounds_regressors.tsv\n",
      "│   │ │   ├─📄 sub-01_ses-01_task-rest_space-MNI152NLin2009cAsym_desc-brain_mask.nii\n",
      "│   │ │   ├─📄 sub-01_ses-01_task-rest_space-MNI152NLin2009cAsym_desc-brain_mask.nii.gz\n",
      "│   │ │   ├─📄 sub-01_ses-01_task-rest_space-MNI152NLin2009cAsym_desc-preproc_bold.nii\n",
      "│   │ │   ├─📄 sub-01_ses-01_task-rest_space-MNI152NLin2009cAsym_desc-preproc_bold.nii.gz\n",
      "│   │ │   ├─📄 sub-01_ses-01_task-rest_space-T1w_desc-brain_mask.nii\n",
      "│   │ │   ├─📄 sub-01_ses-01_task-rest_space-T1w_desc-brain_mask.nii.gz\n",
      "│   │ │   ├─📄 sub-01_ses-01_task-rest_space-T1w_desc-preproc_bold.nii\n",
      "│   │ │   └─📄 sub-01_ses-01_task-rest_space-T1w_desc-preproc_bold.nii.gz\n",
      "│   │ └─📁 ses-02/\n",
      "│   │   └─📁 func/\n",
      "│   │     ├─📄 sub-01_ses-02_task-nback_run-01_desc-confounds_regressors.tsv\n",
      "│   │     ├─📄 sub-01_ses-02_task-nback_run-01_space-MNI152NLin2009cAsym_desc-brain_mask.nii\n",
      "│   │     ├─📄 sub-01_ses-02_task-nback_run-01_space-MNI152NLin2009cAsym_desc-brain_mask.nii.gz\n",
      "│   │     ├─📄 sub-01_ses-02_task-nback_run-01_space-MNI152NLin2009cAsym_desc-preproc_bold.nii\n",
      "│   │     ├─📄 sub-01_ses-02_task-nback_run-01_space-MNI152NLin2009cAsym_desc-preproc_bold.nii.gz\n",
      "│   │     ├─📄 sub-01_ses-02_task-nback_run-01_space-T1w_desc-brain_mask.nii\n",
      "│   │     ├─📄 sub-01_ses-02_task-nback_run-01_space-T1w_desc-brain_mask.nii.gz\n",
      "│   │     ├─📄 sub-01_ses-02_task-nback_run-01_space-T1w_desc-preproc_bold.nii\n",
      "│   │     ├─📄 sub-01_ses-02_task-nback_run-01_space-T1w_desc-preproc_bold.nii.gz\n",
      "│   │     ├─📄 sub-01_ses-02_task-nback_run-02_desc-confounds_regressors.tsv\n",
      "│   │     ├─📄 sub-01_ses-02_task-nback_run-02_space-MNI152NLin2009cAsym_desc-brain_mask.nii\n",
      "│   │     ├─📄 sub-01_ses-02_task-nback_run-02_space-MNI152NLin2009cAsym_desc-brain_mask.nii.gz\n",
      "│   │     ├─📄 sub-01_ses-02_task-nback_run-02_space-MNI152NLin2009cAsym_desc-preproc_bold.nii\n",
      "│   │     ├─📄 sub-01_ses-02_task-nback_run-02_space-MNI152NLin2009cAsym_desc-preproc_bold.nii.gz\n",
      "│   │     ├─📄 sub-01_ses-02_task-nback_run-02_space-T1w_desc-brain_mask.nii\n",
      "│   │     ├─📄 sub-01_ses-02_task-nback_run-02_space-T1w_desc-brain_mask.nii.gz\n",
      "│   │     ├─📄 sub-01_ses-02_task-nback_run-02_space-T1w_desc-preproc_bold.nii\n",
      "│   │     ├─📄 sub-01_ses-02_task-nback_run-02_space-T1w_desc-preproc_bold.nii.gz\n",
      "│   │     ├─📄 sub-01_ses-02_task-rest_desc-confounds_regressors.tsv\n",
      "│   │     ├─📄 sub-01_ses-02_task-rest_space-MNI152NLin2009cAsym_desc-brain_mask.nii\n",
      "│   │     ├─📄 sub-01_ses-02_task-rest_space-MNI152NLin2009cAsym_desc-brain_mask.nii.gz\n",
      "│   │     ├─📄 sub-01_ses-02_task-rest_space-MNI152NLin2009cAsym_desc-preproc_bold.nii\n",
      "│   │     ├─📄 sub-01_ses-02_task-rest_space-MNI152NLin2009cAsym_desc-preproc_bold.nii.gz\n",
      "│   │     ├─📄 sub-01_ses-02_task-rest_space-T1w_desc-brain_mask.nii\n",
      "│   │     ├─📄 sub-01_ses-02_task-rest_space-T1w_desc-brain_mask.nii.gz\n",
      "│   │     ├─📄 sub-01_ses-02_task-rest_space-T1w_desc-preproc_bold.nii\n",
      "│   │     └─📄 sub-01_ses-02_task-rest_space-T1w_desc-preproc_bold.nii.gz\n",
      "│   ├─📁 sub-02/\n",
      "│   │ ├─📁 ses-01/\n",
      "│   │ │ └─📁 func/\n",
      "│   │ │   ├─📄 sub-02_ses-01_task-nback_run-01_desc-confounds_regressors.tsv\n",
      "│   │ │   ├─📄 sub-02_ses-01_task-nback_run-01_space-MNI152NLin2009cAsym_desc-brain_mask.nii\n",
      "│   │ │   ├─📄 sub-02_ses-01_task-nback_run-01_space-MNI152NLin2009cAsym_desc-brain_mask.nii.gz\n",
      "│   │ │   ├─📄 sub-02_ses-01_task-nback_run-01_space-MNI152NLin2009cAsym_desc-preproc_bold.nii\n",
      "│   │ │   ├─📄 sub-02_ses-01_task-nback_run-01_space-MNI152NLin2009cAsym_desc-preproc_bold.nii.gz\n",
      "│   │ │   ├─📄 sub-02_ses-01_task-nback_run-01_space-T1w_desc-brain_mask.nii\n",
      "│   │ │   ├─📄 sub-02_ses-01_task-nback_run-01_space-T1w_desc-brain_mask.nii.gz\n",
      "│   │ │   ├─📄 sub-02_ses-01_task-nback_run-01_space-T1w_desc-preproc_bold.nii\n",
      "│   │ │   ├─📄 sub-02_ses-01_task-nback_run-01_space-T1w_desc-preproc_bold.nii.gz\n",
      "│   │ │   ├─📄 sub-02_ses-01_task-nback_run-02_desc-confounds_regressors.tsv\n",
      "│   │ │   ├─📄 sub-02_ses-01_task-nback_run-02_space-MNI152NLin2009cAsym_desc-brain_mask.nii\n",
      "│   │ │   ├─📄 sub-02_ses-01_task-nback_run-02_space-MNI152NLin2009cAsym_desc-brain_mask.nii.gz\n",
      "│   │ │   ├─📄 sub-02_ses-01_task-nback_run-02_space-MNI152NLin2009cAsym_desc-preproc_bold.nii\n",
      "│   │ │   ├─📄 sub-02_ses-01_task-nback_run-02_space-MNI152NLin2009cAsym_desc-preproc_bold.nii.gz\n",
      "│   │ │   ├─📄 sub-02_ses-01_task-nback_run-02_space-T1w_desc-brain_mask.nii\n",
      "│   │ │   ├─📄 sub-02_ses-01_task-nback_run-02_space-T1w_desc-brain_mask.nii.gz\n",
      "│   │ │   ├─📄 sub-02_ses-01_task-nback_run-02_space-T1w_desc-preproc_bold.nii\n",
      "│   │ │   ├─📄 sub-02_ses-01_task-nback_run-02_space-T1w_desc-preproc_bold.nii.gz\n",
      "│   │ │   ├─📄 sub-02_ses-01_task-rest_desc-confounds_regressors.tsv\n",
      "│   │ │   ├─📄 sub-02_ses-01_task-rest_space-MNI152NLin2009cAsym_desc-brain_mask.nii\n",
      "│   │ │   ├─📄 sub-02_ses-01_task-rest_space-MNI152NLin2009cAsym_desc-brain_mask.nii.gz\n",
      "│   │ │   ├─📄 sub-02_ses-01_task-rest_space-MNI152NLin2009cAsym_desc-preproc_bold.nii\n",
      "│   │ │   ├─📄 sub-02_ses-01_task-rest_space-MNI152NLin2009cAsym_desc-preproc_bold.nii.gz\n",
      "│   │ │   ├─📄 sub-02_ses-01_task-rest_space-T1w_desc-brain_mask.nii\n",
      "│   │ │   ├─📄 sub-02_ses-01_task-rest_space-T1w_desc-brain_mask.nii.gz\n",
      "│   │ │   ├─📄 sub-02_ses-01_task-rest_space-T1w_desc-preproc_bold.nii\n",
      "│   │ │   └─📄 sub-02_ses-01_task-rest_space-T1w_desc-preproc_bold.nii.gz\n",
      "│   │ └─📁 ses-02/\n",
      "│   │   └─📁 func/\n",
      "│   │     ├─📄 sub-02_ses-02_task-nback_run-01_desc-confounds_regressors.tsv\n",
      "│   │     ├─📄 sub-02_ses-02_task-nback_run-01_space-MNI152NLin2009cAsym_desc-brain_mask.nii\n",
      "│   │     ├─📄 sub-02_ses-02_task-nback_run-01_space-MNI152NLin2009cAsym_desc-brain_mask.nii.gz\n",
      "│   │     ├─📄 sub-02_ses-02_task-nback_run-01_space-MNI152NLin2009cAsym_desc-preproc_bold.nii\n",
      "│   │     ├─📄 sub-02_ses-02_task-nback_run-01_space-MNI152NLin2009cAsym_desc-preproc_bold.nii.gz\n",
      "│   │     ├─📄 sub-02_ses-02_task-nback_run-01_space-T1w_desc-brain_mask.nii\n",
      "│   │     ├─📄 sub-02_ses-02_task-nback_run-01_space-T1w_desc-brain_mask.nii.gz\n",
      "│   │     ├─📄 sub-02_ses-02_task-nback_run-01_space-T1w_desc-preproc_bold.nii\n",
      "│   │     ├─📄 sub-02_ses-02_task-nback_run-01_space-T1w_desc-preproc_bold.nii.gz\n",
      "│   │     ├─📄 sub-02_ses-02_task-nback_run-02_desc-confounds_regressors.tsv\n",
      "│   │     ├─📄 sub-02_ses-02_task-nback_run-02_space-MNI152NLin2009cAsym_desc-brain_mask.nii\n",
      "│   │     ├─📄 sub-02_ses-02_task-nback_run-02_space-MNI152NLin2009cAsym_desc-brain_mask.nii.gz\n",
      "│   │     ├─📄 sub-02_ses-02_task-nback_run-02_space-MNI152NLin2009cAsym_desc-preproc_bold.nii\n",
      "│   │     ├─📄 sub-02_ses-02_task-nback_run-02_space-MNI152NLin2009cAsym_desc-preproc_bold.nii.gz\n",
      "│   │     ├─📄 sub-02_ses-02_task-nback_run-02_space-T1w_desc-brain_mask.nii\n",
      "│   │     ├─📄 sub-02_ses-02_task-nback_run-02_space-T1w_desc-brain_mask.nii.gz\n",
      "│   │     ├─📄 sub-02_ses-02_task-nback_run-02_space-T1w_desc-preproc_bold.nii\n",
      "│   │     ├─📄 sub-02_ses-02_task-nback_run-02_space-T1w_desc-preproc_bold.nii.gz\n",
      "│   │     ├─📄 sub-02_ses-02_task-rest_desc-confounds_regressors.tsv\n",
      "│   │     ├─📄 sub-02_ses-02_task-rest_space-MNI152NLin2009cAsym_desc-brain_mask.nii\n",
      "│   │     ├─📄 sub-02_ses-02_task-rest_space-MNI152NLin2009cAsym_desc-brain_mask.nii.gz\n",
      "│   │     ├─📄 sub-02_ses-02_task-rest_space-MNI152NLin2009cAsym_desc-preproc_bold.nii\n",
      "│   │     ├─📄 sub-02_ses-02_task-rest_space-MNI152NLin2009cAsym_desc-preproc_bold.nii.gz\n",
      "│   │     ├─📄 sub-02_ses-02_task-rest_space-T1w_desc-brain_mask.nii\n",
      "│   │     ├─📄 sub-02_ses-02_task-rest_space-T1w_desc-brain_mask.nii.gz\n",
      "│   │     ├─📄 sub-02_ses-02_task-rest_space-T1w_desc-preproc_bold.nii\n",
      "│   │     └─📄 sub-02_ses-02_task-rest_space-T1w_desc-preproc_bold.nii.gz\n",
      "│   ├─📁 sub-03/\n",
      "│   │ ├─📁 ses-01/\n",
      "│   │ │ └─📁 func/\n",
      "│   │ │   ├─📄 sub-03_ses-01_task-nback_run-01_desc-confounds_regressors.tsv\n",
      "│   │ │   ├─📄 sub-03_ses-01_task-nback_run-01_space-MNI152NLin2009cAsym_desc-brain_mask.nii\n",
      "│   │ │   ├─📄 sub-03_ses-01_task-nback_run-01_space-MNI152NLin2009cAsym_desc-brain_mask.nii.gz\n",
      "│   │ │   ├─📄 sub-03_ses-01_task-nback_run-01_space-MNI152NLin2009cAsym_desc-preproc_bold.nii\n",
      "│   │ │   ├─📄 sub-03_ses-01_task-nback_run-01_space-MNI152NLin2009cAsym_desc-preproc_bold.nii.gz\n",
      "│   │ │   ├─📄 sub-03_ses-01_task-nback_run-01_space-T1w_desc-brain_mask.nii\n",
      "│   │ │   ├─📄 sub-03_ses-01_task-nback_run-01_space-T1w_desc-brain_mask.nii.gz\n",
      "│   │ │   ├─📄 sub-03_ses-01_task-nback_run-01_space-T1w_desc-preproc_bold.nii\n",
      "│   │ │   ├─📄 sub-03_ses-01_task-nback_run-01_space-T1w_desc-preproc_bold.nii.gz\n",
      "│   │ │   ├─📄 sub-03_ses-01_task-nback_run-02_desc-confounds_regressors.tsv\n",
      "│   │ │   ├─📄 sub-03_ses-01_task-nback_run-02_space-MNI152NLin2009cAsym_desc-brain_mask.nii\n",
      "│   │ │   ├─📄 sub-03_ses-01_task-nback_run-02_space-MNI152NLin2009cAsym_desc-brain_mask.nii.gz\n",
      "│   │ │   ├─📄 sub-03_ses-01_task-nback_run-02_space-MNI152NLin2009cAsym_desc-preproc_bold.nii\n",
      "│   │ │   ├─📄 sub-03_ses-01_task-nback_run-02_space-MNI152NLin2009cAsym_desc-preproc_bold.nii.gz\n",
      "│   │ │   ├─📄 sub-03_ses-01_task-nback_run-02_space-T1w_desc-brain_mask.nii\n",
      "│   │ │   ├─📄 sub-03_ses-01_task-nback_run-02_space-T1w_desc-brain_mask.nii.gz\n",
      "│   │ │   ├─📄 sub-03_ses-01_task-nback_run-02_space-T1w_desc-preproc_bold.nii\n",
      "│   │ │   ├─📄 sub-03_ses-01_task-nback_run-02_space-T1w_desc-preproc_bold.nii.gz\n",
      "│   │ │   ├─📄 sub-03_ses-01_task-rest_desc-confounds_regressors.tsv\n",
      "│   │ │   ├─📄 sub-03_ses-01_task-rest_space-MNI152NLin2009cAsym_desc-brain_mask.nii\n",
      "│   │ │   ├─📄 sub-03_ses-01_task-rest_space-MNI152NLin2009cAsym_desc-brain_mask.nii.gz\n",
      "│   │ │   ├─📄 sub-03_ses-01_task-rest_space-MNI152NLin2009cAsym_desc-preproc_bold.nii\n",
      "│   │ │   ├─📄 sub-03_ses-01_task-rest_space-MNI152NLin2009cAsym_desc-preproc_bold.nii.gz\n",
      "│   │ │   ├─📄 sub-03_ses-01_task-rest_space-T1w_desc-brain_mask.nii\n",
      "│   │ │   ├─📄 sub-03_ses-01_task-rest_space-T1w_desc-brain_mask.nii.gz\n",
      "│   │ │   ├─📄 sub-03_ses-01_task-rest_space-T1w_desc-preproc_bold.nii\n",
      "│   │ │   └─📄 sub-03_ses-01_task-rest_space-T1w_desc-preproc_bold.nii.gz\n",
      "│   │ └─📁 ses-02/\n",
      "│   │   └─📁 func/\n",
      "│   │     ├─📄 sub-03_ses-02_task-nback_run-01_desc-confounds_regressors.tsv\n",
      "│   │     ├─📄 sub-03_ses-02_task-nback_run-01_space-MNI152NLin2009cAsym_desc-brain_mask.nii\n",
      "│   │     ├─📄 sub-03_ses-02_task-nback_run-01_space-MNI152NLin2009cAsym_desc-brain_mask.nii.gz\n",
      "│   │     ├─📄 sub-03_ses-02_task-nback_run-01_space-MNI152NLin2009cAsym_desc-preproc_bold.nii\n",
      "│   │     ├─📄 sub-03_ses-02_task-nback_run-01_space-MNI152NLin2009cAsym_desc-preproc_bold.nii.gz\n",
      "│   │     ├─📄 sub-03_ses-02_task-nback_run-01_space-T1w_desc-brain_mask.nii\n",
      "│   │     ├─📄 sub-03_ses-02_task-nback_run-01_space-T1w_desc-brain_mask.nii.gz\n",
      "│   │     ├─📄 sub-03_ses-02_task-nback_run-01_space-T1w_desc-preproc_bold.nii\n",
      "│   │     ├─📄 sub-03_ses-02_task-nback_run-01_space-T1w_desc-preproc_bold.nii.gz\n",
      "│   │     ├─📄 sub-03_ses-02_task-nback_run-02_desc-confounds_regressors.tsv\n",
      "│   │     ├─📄 sub-03_ses-02_task-nback_run-02_space-MNI152NLin2009cAsym_desc-brain_mask.nii\n",
      "│   │     ├─📄 sub-03_ses-02_task-nback_run-02_space-MNI152NLin2009cAsym_desc-brain_mask.nii.gz\n",
      "│   │     ├─📄 sub-03_ses-02_task-nback_run-02_space-MNI152NLin2009cAsym_desc-preproc_bold.nii\n",
      "│   │     ├─📄 sub-03_ses-02_task-nback_run-02_space-MNI152NLin2009cAsym_desc-preproc_bold.nii.gz\n",
      "│   │     ├─📄 sub-03_ses-02_task-nback_run-02_space-T1w_desc-brain_mask.nii\n",
      "│   │     ├─📄 sub-03_ses-02_task-nback_run-02_space-T1w_desc-brain_mask.nii.gz\n",
      "│   │     ├─📄 sub-03_ses-02_task-nback_run-02_space-T1w_desc-preproc_bold.nii\n",
      "│   │     ├─📄 sub-03_ses-02_task-nback_run-02_space-T1w_desc-preproc_bold.nii.gz\n",
      "│   │     ├─📄 sub-03_ses-02_task-rest_desc-confounds_regressors.tsv\n",
      "│   │     ├─📄 sub-03_ses-02_task-rest_space-MNI152NLin2009cAsym_desc-brain_mask.nii\n",
      "│   │     ├─📄 sub-03_ses-02_task-rest_space-MNI152NLin2009cAsym_desc-brain_mask.nii.gz\n",
      "│   │     ├─📄 sub-03_ses-02_task-rest_space-MNI152NLin2009cAsym_desc-preproc_bold.nii\n",
      "│   │     ├─📄 sub-03_ses-02_task-rest_space-MNI152NLin2009cAsym_desc-preproc_bold.nii.gz\n",
      "│   │     ├─📄 sub-03_ses-02_task-rest_space-T1w_desc-brain_mask.nii\n",
      "│   │     ├─📄 sub-03_ses-02_task-rest_space-T1w_desc-brain_mask.nii.gz\n",
      "│   │     ├─📄 sub-03_ses-02_task-rest_space-T1w_desc-preproc_bold.nii\n",
      "│   │     └─📄 sub-03_ses-02_task-rest_space-T1w_desc-preproc_bold.nii.gz\n",
      "│   ├─📁 sub-04/\n",
      "│   │ ├─📁 ses-01/\n",
      "│   │ │ └─📁 func/\n",
      "│   │ │   ├─📄 sub-04_ses-01_task-nback_run-01_desc-confounds_regressors.tsv\n",
      "│   │ │   ├─📄 sub-04_ses-01_task-nback_run-01_space-MNI152NLin2009cAsym_desc-brain_mask.nii\n",
      "│   │ │   ├─📄 sub-04_ses-01_task-nback_run-01_space-MNI152NLin2009cAsym_desc-brain_mask.nii.gz\n",
      "│   │ │   ├─📄 sub-04_ses-01_task-nback_run-01_space-MNI152NLin2009cAsym_desc-preproc_bold.nii\n",
      "│   │ │   ├─📄 sub-04_ses-01_task-nback_run-01_space-MNI152NLin2009cAsym_desc-preproc_bold.nii.gz\n",
      "│   │ │   ├─📄 sub-04_ses-01_task-nback_run-01_space-T1w_desc-brain_mask.nii\n",
      "│   │ │   ├─📄 sub-04_ses-01_task-nback_run-01_space-T1w_desc-brain_mask.nii.gz\n",
      "│   │ │   ├─📄 sub-04_ses-01_task-nback_run-01_space-T1w_desc-preproc_bold.nii\n",
      "│   │ │   ├─📄 sub-04_ses-01_task-nback_run-01_space-T1w_desc-preproc_bold.nii.gz\n",
      "│   │ │   ├─📄 sub-04_ses-01_task-nback_run-02_desc-confounds_regressors.tsv\n",
      "│   │ │   ├─📄 sub-04_ses-01_task-nback_run-02_space-MNI152NLin2009cAsym_desc-brain_mask.nii\n",
      "│   │ │   ├─📄 sub-04_ses-01_task-nback_run-02_space-MNI152NLin2009cAsym_desc-brain_mask.nii.gz\n",
      "│   │ │   ├─📄 sub-04_ses-01_task-nback_run-02_space-MNI152NLin2009cAsym_desc-preproc_bold.nii\n",
      "│   │ │   ├─📄 sub-04_ses-01_task-nback_run-02_space-MNI152NLin2009cAsym_desc-preproc_bold.nii.gz\n",
      "│   │ │   ├─📄 sub-04_ses-01_task-nback_run-02_space-T1w_desc-brain_mask.nii\n",
      "│   │ │   ├─📄 sub-04_ses-01_task-nback_run-02_space-T1w_desc-brain_mask.nii.gz\n",
      "│   │ │   ├─📄 sub-04_ses-01_task-nback_run-02_space-T1w_desc-preproc_bold.nii\n",
      "│   │ │   ├─📄 sub-04_ses-01_task-nback_run-02_space-T1w_desc-preproc_bold.nii.gz\n",
      "│   │ │   ├─📄 sub-04_ses-01_task-rest_desc-confounds_regressors.tsv\n",
      "│   │ │   ├─📄 sub-04_ses-01_task-rest_space-MNI152NLin2009cAsym_desc-brain_mask.nii\n",
      "│   │ │   ├─📄 sub-04_ses-01_task-rest_space-MNI152NLin2009cAsym_desc-brain_mask.nii.gz\n",
      "│   │ │   ├─📄 sub-04_ses-01_task-rest_space-MNI152NLin2009cAsym_desc-preproc_bold.nii\n",
      "│   │ │   ├─📄 sub-04_ses-01_task-rest_space-MNI152NLin2009cAsym_desc-preproc_bold.nii.gz\n",
      "│   │ │   ├─📄 sub-04_ses-01_task-rest_space-T1w_desc-brain_mask.nii\n",
      "│   │ │   ├─📄 sub-04_ses-01_task-rest_space-T1w_desc-brain_mask.nii.gz\n",
      "│   │ │   ├─📄 sub-04_ses-01_task-rest_space-T1w_desc-preproc_bold.nii\n",
      "│   │ │   └─📄 sub-04_ses-01_task-rest_space-T1w_desc-preproc_bold.nii.gz\n",
      "│   │ └─📁 ses-02/\n",
      "│   │   └─📁 func/\n",
      "│   │     ├─📄 sub-04_ses-02_task-nback_run-01_desc-confounds_regressors.tsv\n",
      "│   │     ├─📄 sub-04_ses-02_task-nback_run-01_space-MNI152NLin2009cAsym_desc-brain_mask.nii\n",
      "│   │     ├─📄 sub-04_ses-02_task-nback_run-01_space-MNI152NLin2009cAsym_desc-brain_mask.nii.gz\n",
      "│   │     ├─📄 sub-04_ses-02_task-nback_run-01_space-MNI152NLin2009cAsym_desc-preproc_bold.nii\n",
      "│   │     ├─📄 sub-04_ses-02_task-nback_run-01_space-MNI152NLin2009cAsym_desc-preproc_bold.nii.gz\n",
      "│   │     ├─📄 sub-04_ses-02_task-nback_run-01_space-T1w_desc-brain_mask.nii\n",
      "│   │     ├─📄 sub-04_ses-02_task-nback_run-01_space-T1w_desc-brain_mask.nii.gz\n",
      "│   │     ├─📄 sub-04_ses-02_task-nback_run-01_space-T1w_desc-preproc_bold.nii\n",
      "│   │     ├─📄 sub-04_ses-02_task-nback_run-01_space-T1w_desc-preproc_bold.nii.gz\n",
      "│   │     ├─📄 sub-04_ses-02_task-nback_run-02_desc-confounds_regressors.tsv\n",
      "│   │     ├─📄 sub-04_ses-02_task-nback_run-02_space-MNI152NLin2009cAsym_desc-brain_mask.nii\n",
      "│   │     ├─📄 sub-04_ses-02_task-nback_run-02_space-MNI152NLin2009cAsym_desc-brain_mask.nii.gz\n",
      "│   │     ├─📄 sub-04_ses-02_task-nback_run-02_space-MNI152NLin2009cAsym_desc-preproc_bold.nii\n",
      "│   │     ├─📄 sub-04_ses-02_task-nback_run-02_space-MNI152NLin2009cAsym_desc-preproc_bold.nii.gz\n",
      "│   │     ├─📄 sub-04_ses-02_task-nback_run-02_space-T1w_desc-brain_mask.nii\n",
      "│   │     ├─📄 sub-04_ses-02_task-nback_run-02_space-T1w_desc-brain_mask.nii.gz\n",
      "│   │     ├─📄 sub-04_ses-02_task-nback_run-02_space-T1w_desc-preproc_bold.nii\n",
      "│   │     ├─📄 sub-04_ses-02_task-nback_run-02_space-T1w_desc-preproc_bold.nii.gz\n",
      "│   │     ├─📄 sub-04_ses-02_task-rest_desc-confounds_regressors.tsv\n",
      "│   │     ├─📄 sub-04_ses-02_task-rest_space-MNI152NLin2009cAsym_desc-brain_mask.nii\n",
      "│   │     ├─📄 sub-04_ses-02_task-rest_space-MNI152NLin2009cAsym_desc-brain_mask.nii.gz\n",
      "│   │     ├─📄 sub-04_ses-02_task-rest_space-MNI152NLin2009cAsym_desc-preproc_bold.nii\n",
      "│   │     ├─📄 sub-04_ses-02_task-rest_space-MNI152NLin2009cAsym_desc-preproc_bold.nii.gz\n",
      "│   │     ├─📄 sub-04_ses-02_task-rest_space-T1w_desc-brain_mask.nii\n",
      "│   │     ├─📄 sub-04_ses-02_task-rest_space-T1w_desc-brain_mask.nii.gz\n",
      "│   │     ├─📄 sub-04_ses-02_task-rest_space-T1w_desc-preproc_bold.nii\n",
      "│   │     └─📄 sub-04_ses-02_task-rest_space-T1w_desc-preproc_bold.nii.gz\n",
      "│   ├─📁 sub-05/\n",
      "│   │ ├─📁 ses-01/\n",
      "│   │ │ └─📁 func/\n",
      "│   │ │   ├─📄 sub-05_ses-01_task-nback_run-01_desc-confounds_regressors.tsv\n",
      "│   │ │   ├─📄 sub-05_ses-01_task-nback_run-01_space-MNI152NLin2009cAsym_desc-brain_mask.nii\n",
      "│   │ │   ├─📄 sub-05_ses-01_task-nback_run-01_space-MNI152NLin2009cAsym_desc-brain_mask.nii.gz\n",
      "│   │ │   ├─📄 sub-05_ses-01_task-nback_run-01_space-MNI152NLin2009cAsym_desc-preproc_bold.nii\n",
      "│   │ │   ├─📄 sub-05_ses-01_task-nback_run-01_space-MNI152NLin2009cAsym_desc-preproc_bold.nii.gz\n",
      "│   │ │   ├─📄 sub-05_ses-01_task-nback_run-01_space-T1w_desc-brain_mask.nii\n",
      "│   │ │   ├─📄 sub-05_ses-01_task-nback_run-01_space-T1w_desc-brain_mask.nii.gz\n",
      "│   │ │   ├─📄 sub-05_ses-01_task-nback_run-01_space-T1w_desc-preproc_bold.nii\n",
      "│   │ │   ├─📄 sub-05_ses-01_task-nback_run-01_space-T1w_desc-preproc_bold.nii.gz\n",
      "│   │ │   ├─📄 sub-05_ses-01_task-nback_run-02_desc-confounds_regressors.tsv\n",
      "│   │ │   ├─📄 sub-05_ses-01_task-nback_run-02_space-MNI152NLin2009cAsym_desc-brain_mask.nii\n",
      "│   │ │   ├─📄 sub-05_ses-01_task-nback_run-02_space-MNI152NLin2009cAsym_desc-brain_mask.nii.gz\n",
      "│   │ │   ├─📄 sub-05_ses-01_task-nback_run-02_space-MNI152NLin2009cAsym_desc-preproc_bold.nii\n",
      "│   │ │   ├─📄 sub-05_ses-01_task-nback_run-02_space-MNI152NLin2009cAsym_desc-preproc_bold.nii.gz\n",
      "│   │ │   ├─📄 sub-05_ses-01_task-nback_run-02_space-T1w_desc-brain_mask.nii\n",
      "│   │ │   ├─📄 sub-05_ses-01_task-nback_run-02_space-T1w_desc-brain_mask.nii.gz\n",
      "│   │ │   ├─📄 sub-05_ses-01_task-nback_run-02_space-T1w_desc-preproc_bold.nii\n",
      "│   │ │   ├─📄 sub-05_ses-01_task-nback_run-02_space-T1w_desc-preproc_bold.nii.gz\n",
      "│   │ │   ├─📄 sub-05_ses-01_task-rest_desc-confounds_regressors.tsv\n",
      "│   │ │   ├─📄 sub-05_ses-01_task-rest_space-MNI152NLin2009cAsym_desc-brain_mask.nii\n",
      "│   │ │   ├─📄 sub-05_ses-01_task-rest_space-MNI152NLin2009cAsym_desc-brain_mask.nii.gz\n",
      "│   │ │   ├─📄 sub-05_ses-01_task-rest_space-MNI152NLin2009cAsym_desc-preproc_bold.nii\n",
      "│   │ │   ├─📄 sub-05_ses-01_task-rest_space-MNI152NLin2009cAsym_desc-preproc_bold.nii.gz\n",
      "│   │ │   ├─📄 sub-05_ses-01_task-rest_space-T1w_desc-brain_mask.nii\n",
      "│   │ │   ├─📄 sub-05_ses-01_task-rest_space-T1w_desc-brain_mask.nii.gz\n",
      "│   │ │   ├─📄 sub-05_ses-01_task-rest_space-T1w_desc-preproc_bold.nii\n",
      "│   │ │   └─📄 sub-05_ses-01_task-rest_space-T1w_desc-preproc_bold.nii.gz\n",
      "│   │ └─📁 ses-02/\n",
      "│   │   └─📁 func/\n",
      "│   │     ├─📄 sub-05_ses-02_task-nback_run-01_desc-confounds_regressors.tsv\n",
      "│   │     ├─📄 sub-05_ses-02_task-nback_run-01_space-MNI152NLin2009cAsym_desc-brain_mask.nii\n",
      "│   │     ├─📄 sub-05_ses-02_task-nback_run-01_space-MNI152NLin2009cAsym_desc-brain_mask.nii.gz\n",
      "│   │     ├─📄 sub-05_ses-02_task-nback_run-01_space-MNI152NLin2009cAsym_desc-preproc_bold.nii\n",
      "│   │     ├─📄 sub-05_ses-02_task-nback_run-01_space-MNI152NLin2009cAsym_desc-preproc_bold.nii.gz\n",
      "│   │     ├─📄 sub-05_ses-02_task-nback_run-01_space-T1w_desc-brain_mask.nii\n",
      "│   │     ├─📄 sub-05_ses-02_task-nback_run-01_space-T1w_desc-brain_mask.nii.gz\n",
      "│   │     ├─📄 sub-05_ses-02_task-nback_run-01_space-T1w_desc-preproc_bold.nii\n",
      "│   │     ├─📄 sub-05_ses-02_task-nback_run-01_space-T1w_desc-preproc_bold.nii.gz\n",
      "│   │     ├─📄 sub-05_ses-02_task-nback_run-02_desc-confounds_regressors.tsv\n",
      "│   │     ├─📄 sub-05_ses-02_task-nback_run-02_space-MNI152NLin2009cAsym_desc-brain_mask.nii\n",
      "│   │     ├─📄 sub-05_ses-02_task-nback_run-02_space-MNI152NLin2009cAsym_desc-brain_mask.nii.gz\n",
      "│   │     ├─📄 sub-05_ses-02_task-nback_run-02_space-MNI152NLin2009cAsym_desc-preproc_bold.nii\n",
      "│   │     ├─📄 sub-05_ses-02_task-nback_run-02_space-MNI152NLin2009cAsym_desc-preproc_bold.nii.gz\n",
      "│   │     ├─📄 sub-05_ses-02_task-nback_run-02_space-T1w_desc-brain_mask.nii\n",
      "│   │     ├─📄 sub-05_ses-02_task-nback_run-02_space-T1w_desc-brain_mask.nii.gz\n",
      "│   │     ├─📄 sub-05_ses-02_task-nback_run-02_space-T1w_desc-preproc_bold.nii\n",
      "│   │     ├─📄 sub-05_ses-02_task-nback_run-02_space-T1w_desc-preproc_bold.nii.gz\n",
      "│   │     ├─📄 sub-05_ses-02_task-rest_desc-confounds_regressors.tsv\n",
      "│   │     ├─📄 sub-05_ses-02_task-rest_space-MNI152NLin2009cAsym_desc-brain_mask.nii\n",
      "│   │     ├─📄 sub-05_ses-02_task-rest_space-MNI152NLin2009cAsym_desc-brain_mask.nii.gz\n",
      "│   │     ├─📄 sub-05_ses-02_task-rest_space-MNI152NLin2009cAsym_desc-preproc_bold.nii\n",
      "│   │     ├─📄 sub-05_ses-02_task-rest_space-MNI152NLin2009cAsym_desc-preproc_bold.nii.gz\n",
      "│   │     ├─📄 sub-05_ses-02_task-rest_space-T1w_desc-brain_mask.nii\n",
      "│   │     ├─📄 sub-05_ses-02_task-rest_space-T1w_desc-brain_mask.nii.gz\n",
      "│   │     ├─📄 sub-05_ses-02_task-rest_space-T1w_desc-preproc_bold.nii\n",
      "│   │     └─📄 sub-05_ses-02_task-rest_space-T1w_desc-preproc_bold.nii.gz\n",
      "│   ├─📄 task-nback_bold.json\n",
      "│   └─📄 task-rest_bold.json\n",
      "├─📄 participants.tsv\n",
      "├─📁 sub-01/\n",
      "│ ├─📁 ses-01/\n",
      "│ │ ├─📁 anat/\n",
      "│ │ │ ├─📄 sub-01_ses-01_T1w.nii\n",
      "│ │ │ └─📄 sub-01_ses-01_T1w.nii.gz\n",
      "│ │ ├─📁 func/\n",
      "│ │ │ ├─📄 sub-01_ses-01_task-nback_run-01_bold.nii\n",
      "│ │ │ ├─📄 sub-01_ses-01_task-nback_run-01_bold.nii.gz\n",
      "│ │ │ ├─📄 sub-01_ses-01_task-nback_run-01_physio.tsv.gz\n",
      "│ │ │ ├─📄 sub-01_ses-01_task-nback_run-01_stim.tsv.gz\n",
      "│ │ │ ├─📄 sub-01_ses-01_task-nback_run-02_bold.nii\n",
      "│ │ │ ├─📄 sub-01_ses-01_task-nback_run-02_bold.nii.gz\n",
      "│ │ │ ├─📄 sub-01_ses-01_task-nback_run-02_physio.tsv.gz\n",
      "│ │ │ ├─📄 sub-01_ses-01_task-nback_run-02_stim.tsv.gz\n",
      "│ │ │ ├─📄 sub-01_ses-01_task-rest_bold.nii\n",
      "│ │ │ ├─📄 sub-01_ses-01_task-rest_bold.nii.gz\n",
      "│ │ │ └─📄 sub-01_ses-01_task-rest_physio.tsv.gz\n",
      "│ │ └─📄 sub-01_ses-01_scans.tsv\n",
      "│ ├─📁 ses-02/\n",
      "│ │ ├─📁 anat/\n",
      "│ │ │ ├─📄 sub-01_ses-02_T1w.nii\n",
      "│ │ │ └─📄 sub-01_ses-02_T1w.nii.gz\n",
      "│ │ ├─📁 func/\n",
      "│ │ │ ├─📄 sub-01_ses-02_task-nback_run-01_bold.nii\n",
      "│ │ │ ├─📄 sub-01_ses-02_task-nback_run-01_bold.nii.gz\n",
      "│ │ │ ├─📄 sub-01_ses-02_task-nback_run-01_physio.tsv.gz\n",
      "│ │ │ ├─📄 sub-01_ses-02_task-nback_run-01_stim.tsv.gz\n",
      "│ │ │ ├─📄 sub-01_ses-02_task-nback_run-02_bold.nii\n",
      "│ │ │ ├─📄 sub-01_ses-02_task-nback_run-02_bold.nii.gz\n",
      "│ │ │ ├─📄 sub-01_ses-02_task-nback_run-02_physio.tsv.gz\n",
      "│ │ │ ├─📄 sub-01_ses-02_task-nback_run-02_stim.tsv.gz\n",
      "│ │ │ ├─📄 sub-01_ses-02_task-rest_bold.nii\n",
      "│ │ │ ├─📄 sub-01_ses-02_task-rest_bold.nii.gz\n",
      "│ │ │ └─📄 sub-01_ses-02_task-rest_physio.tsv.gz\n",
      "│ │ └─📄 sub-01_ses-02_scans.tsv\n",
      "│ └─📄 sub-01_sessions.tsv\n",
      "├─📁 sub-02/\n",
      "│ ├─📁 ses-01/\n",
      "│ │ ├─📁 anat/\n",
      "│ │ │ ├─📄 sub-02_ses-01_T1w.nii\n",
      "│ │ │ └─📄 sub-02_ses-01_T1w.nii.gz\n",
      "│ │ ├─📁 func/\n",
      "│ │ │ ├─📄 sub-02_ses-01_task-nback_run-01_bold.nii\n",
      "│ │ │ ├─📄 sub-02_ses-01_task-nback_run-01_bold.nii.gz\n",
      "│ │ │ ├─📄 sub-02_ses-01_task-nback_run-01_physio.tsv.gz\n",
      "│ │ │ ├─📄 sub-02_ses-01_task-nback_run-01_stim.tsv.gz\n",
      "│ │ │ ├─📄 sub-02_ses-01_task-nback_run-02_bold.nii\n",
      "│ │ │ ├─📄 sub-02_ses-01_task-nback_run-02_bold.nii.gz\n",
      "│ │ │ ├─📄 sub-02_ses-01_task-nback_run-02_physio.tsv.gz\n",
      "│ │ │ ├─📄 sub-02_ses-01_task-nback_run-02_stim.tsv.gz\n",
      "│ │ │ ├─📄 sub-02_ses-01_task-rest_bold.nii\n",
      "│ │ │ ├─📄 sub-02_ses-01_task-rest_bold.nii.gz\n",
      "│ │ │ └─📄 sub-02_ses-01_task-rest_physio.tsv.gz\n",
      "│ │ └─📄 sub-02_ses-01_scans.tsv\n",
      "│ ├─📁 ses-02/\n",
      "│ │ ├─📁 anat/\n",
      "│ │ │ ├─📄 sub-02_ses-02_T1w.nii\n",
      "│ │ │ └─📄 sub-02_ses-02_T1w.nii.gz\n",
      "│ │ ├─📁 func/\n",
      "│ │ │ ├─📄 sub-02_ses-02_task-nback_run-01_bold.nii\n",
      "│ │ │ ├─📄 sub-02_ses-02_task-nback_run-01_bold.nii.gz\n",
      "│ │ │ ├─📄 sub-02_ses-02_task-nback_run-01_physio.tsv.gz\n",
      "│ │ │ ├─📄 sub-02_ses-02_task-nback_run-01_stim.tsv.gz\n",
      "│ │ │ ├─📄 sub-02_ses-02_task-nback_run-02_bold.nii\n",
      "│ │ │ ├─📄 sub-02_ses-02_task-nback_run-02_bold.nii.gz\n",
      "│ │ │ ├─📄 sub-02_ses-02_task-nback_run-02_physio.tsv.gz\n",
      "│ │ │ ├─📄 sub-02_ses-02_task-nback_run-02_stim.tsv.gz\n",
      "│ │ │ ├─📄 sub-02_ses-02_task-rest_bold.nii\n",
      "│ │ │ ├─📄 sub-02_ses-02_task-rest_bold.nii.gz\n",
      "│ │ │ └─📄 sub-02_ses-02_task-rest_physio.tsv.gz\n",
      "│ │ └─📄 sub-02_ses-02_scans.tsv\n",
      "│ └─📄 sub-02_sessions.tsv\n",
      "├─📁 sub-03/\n",
      "│ ├─📁 ses-01/\n",
      "│ │ ├─📁 anat/\n",
      "│ │ │ ├─📄 sub-03_ses-01_T1w.nii\n",
      "│ │ │ └─📄 sub-03_ses-01_T1w.nii.gz\n",
      "│ │ ├─📁 func/\n",
      "│ │ │ ├─📄 sub-03_ses-01_task-nback_run-01_bold.nii\n",
      "│ │ │ ├─📄 sub-03_ses-01_task-nback_run-01_bold.nii.gz\n",
      "│ │ │ ├─📄 sub-03_ses-01_task-nback_run-01_physio.tsv.gz\n",
      "│ │ │ ├─📄 sub-03_ses-01_task-nback_run-01_stim.tsv.gz\n",
      "│ │ │ ├─📄 sub-03_ses-01_task-nback_run-02_bold.nii\n",
      "│ │ │ ├─📄 sub-03_ses-01_task-nback_run-02_bold.nii.gz\n",
      "│ │ │ ├─📄 sub-03_ses-01_task-nback_run-02_physio.tsv.gz\n",
      "│ │ │ ├─📄 sub-03_ses-01_task-nback_run-02_stim.tsv.gz\n",
      "│ │ │ ├─📄 sub-03_ses-01_task-rest_bold.nii\n",
      "│ │ │ ├─📄 sub-03_ses-01_task-rest_bold.nii.gz\n",
      "│ │ │ └─📄 sub-03_ses-01_task-rest_physio.tsv.gz\n",
      "│ │ └─📄 sub-03_ses-01_scans.tsv\n",
      "│ ├─📁 ses-02/\n",
      "│ │ ├─📁 anat/\n",
      "│ │ │ ├─📄 sub-03_ses-02_T1w.nii\n",
      "│ │ │ └─📄 sub-03_ses-02_T1w.nii.gz\n",
      "│ │ ├─📁 func/\n",
      "│ │ │ ├─📄 sub-03_ses-02_task-nback_run-01_bold.nii\n",
      "│ │ │ ├─📄 sub-03_ses-02_task-nback_run-01_bold.nii.gz\n",
      "│ │ │ ├─📄 sub-03_ses-02_task-nback_run-01_physio.tsv.gz\n",
      "│ │ │ ├─📄 sub-03_ses-02_task-nback_run-01_stim.tsv.gz\n",
      "│ │ │ ├─📄 sub-03_ses-02_task-nback_run-02_bold.nii\n",
      "│ │ │ ├─📄 sub-03_ses-02_task-nback_run-02_bold.nii.gz\n",
      "│ │ │ ├─📄 sub-03_ses-02_task-nback_run-02_physio.tsv.gz\n",
      "│ │ │ ├─📄 sub-03_ses-02_task-nback_run-02_stim.tsv.gz\n",
      "│ │ │ ├─📄 sub-03_ses-02_task-rest_bold.nii\n",
      "│ │ │ ├─📄 sub-03_ses-02_task-rest_bold.nii.gz\n",
      "│ │ │ └─📄 sub-03_ses-02_task-rest_physio.tsv.gz\n",
      "│ │ └─📄 sub-03_ses-02_scans.tsv\n",
      "│ └─📄 sub-03_sessions.tsv\n",
      "├─📁 sub-04/\n",
      "│ ├─📁 ses-01/\n",
      "│ │ ├─📁 anat/\n",
      "│ │ │ ├─📄 sub-04_ses-01_T1w.nii\n",
      "│ │ │ └─📄 sub-04_ses-01_T1w.nii.gz\n",
      "│ │ ├─📁 func/\n",
      "│ │ │ ├─📄 sub-04_ses-01_task-nback_run-01_bold.nii\n",
      "│ │ │ ├─📄 sub-04_ses-01_task-nback_run-01_bold.nii.gz\n",
      "│ │ │ ├─📄 sub-04_ses-01_task-nback_run-01_physio.tsv.gz\n",
      "│ │ │ ├─📄 sub-04_ses-01_task-nback_run-01_stim.tsv.gz\n",
      "│ │ │ ├─📄 sub-04_ses-01_task-nback_run-02_bold.nii\n",
      "│ │ │ ├─📄 sub-04_ses-01_task-nback_run-02_bold.nii.gz\n",
      "│ │ │ ├─📄 sub-04_ses-01_task-nback_run-02_physio.tsv.gz\n",
      "│ │ │ ├─📄 sub-04_ses-01_task-nback_run-02_stim.tsv.gz\n",
      "│ │ │ ├─📄 sub-04_ses-01_task-rest_bold.nii\n",
      "│ │ │ ├─📄 sub-04_ses-01_task-rest_bold.nii.gz\n",
      "│ │ │ └─📄 sub-04_ses-01_task-rest_physio.tsv.gz\n",
      "│ │ └─📄 sub-04_ses-01_scans.tsv\n",
      "│ ├─📁 ses-02/\n",
      "│ │ ├─📁 anat/\n",
      "│ │ │ ├─📄 sub-04_ses-02_T1w.nii\n",
      "│ │ │ └─📄 sub-04_ses-02_T1w.nii.gz\n",
      "│ │ ├─📁 func/\n",
      "│ │ │ ├─📄 sub-04_ses-02_task-nback_run-01_bold.nii\n",
      "│ │ │ ├─📄 sub-04_ses-02_task-nback_run-01_bold.nii.gz\n",
      "│ │ │ ├─📄 sub-04_ses-02_task-nback_run-01_physio.tsv.gz\n",
      "│ │ │ ├─📄 sub-04_ses-02_task-nback_run-01_stim.tsv.gz\n",
      "│ │ │ ├─📄 sub-04_ses-02_task-nback_run-02_bold.nii\n",
      "│ │ │ ├─📄 sub-04_ses-02_task-nback_run-02_bold.nii.gz\n",
      "│ │ │ ├─📄 sub-04_ses-02_task-nback_run-02_physio.tsv.gz\n",
      "│ │ │ ├─📄 sub-04_ses-02_task-nback_run-02_stim.tsv.gz\n",
      "│ │ │ ├─📄 sub-04_ses-02_task-rest_bold.nii\n",
      "│ │ │ ├─📄 sub-04_ses-02_task-rest_bold.nii.gz\n",
      "│ │ │ └─📄 sub-04_ses-02_task-rest_physio.tsv.gz\n",
      "│ │ └─📄 sub-04_ses-02_scans.tsv\n",
      "│ └─📄 sub-04_sessions.tsv\n",
      "├─📁 sub-05/\n",
      "│ ├─📁 ses-01/\n",
      "│ │ ├─📁 anat/\n",
      "│ │ │ ├─📄 sub-05_ses-01_T1w.nii\n",
      "│ │ │ └─📄 sub-05_ses-01_T1w.nii.gz\n",
      "│ │ ├─📁 func/\n",
      "│ │ │ ├─📄 sub-05_ses-01_task-nback_run-01_bold.nii\n",
      "│ │ │ ├─📄 sub-05_ses-01_task-nback_run-01_bold.nii.gz\n",
      "│ │ │ ├─📄 sub-05_ses-01_task-nback_run-01_physio.tsv.gz\n",
      "│ │ │ ├─📄 sub-05_ses-01_task-nback_run-01_stim.tsv.gz\n",
      "│ │ │ ├─📄 sub-05_ses-01_task-nback_run-02_bold.nii\n",
      "│ │ │ ├─📄 sub-05_ses-01_task-nback_run-02_bold.nii.gz\n",
      "│ │ │ ├─📄 sub-05_ses-01_task-nback_run-02_physio.tsv.gz\n",
      "│ │ │ ├─📄 sub-05_ses-01_task-nback_run-02_stim.tsv.gz\n",
      "│ │ │ ├─📄 sub-05_ses-01_task-rest_bold.nii\n",
      "│ │ │ ├─📄 sub-05_ses-01_task-rest_bold.nii.gz\n",
      "│ │ │ └─📄 sub-05_ses-01_task-rest_physio.tsv.gz\n",
      "│ │ └─📄 sub-05_ses-01_scans.tsv\n",
      "│ ├─📁 ses-02/\n",
      "│ │ ├─📁 anat/\n",
      "│ │ │ ├─📄 sub-05_ses-02_T1w.nii\n",
      "│ │ │ └─📄 sub-05_ses-02_T1w.nii.gz\n",
      "│ │ ├─📁 func/\n",
      "│ │ │ ├─📄 sub-05_ses-02_task-nback_run-01_bold.nii\n",
      "│ │ │ ├─📄 sub-05_ses-02_task-nback_run-01_bold.nii.gz\n",
      "│ │ │ ├─📄 sub-05_ses-02_task-nback_run-01_physio.tsv.gz\n",
      "│ │ │ ├─📄 sub-05_ses-02_task-nback_run-01_stim.tsv.gz\n",
      "│ │ │ ├─📄 sub-05_ses-02_task-nback_run-02_bold.nii\n",
      "│ │ │ ├─📄 sub-05_ses-02_task-nback_run-02_bold.nii.gz\n",
      "│ │ │ ├─📄 sub-05_ses-02_task-nback_run-02_physio.tsv.gz\n",
      "│ │ │ ├─📄 sub-05_ses-02_task-nback_run-02_stim.tsv.gz\n",
      "│ │ │ ├─📄 sub-05_ses-02_task-rest_bold.nii\n",
      "│ │ │ ├─📄 sub-05_ses-02_task-rest_bold.nii.gz\n",
      "│ │ │ └─📄 sub-05_ses-02_task-rest_physio.tsv.gz\n",
      "│ │ └─📄 sub-05_ses-02_scans.tsv\n",
      "│ └─📄 sub-05_sessions.tsv\n",
      "├─📄 task-nback_bold.json\n",
      "├─📄 task-nback_events.tsv\n",
      "├─📄 task-nback_physio.json\n",
      "├─📄 task-nback_stim.json\n",
      "├─📄 task-rest_bold.json\n",
      "└─📄 task-rest_physio.json\n"
     ]
    }
   ],
   "source": [
    "import seedir as sd\n",
    "sd.seedir(ds_path, style='emoji')"
   ]
  },
  {
   "cell_type": "markdown",
   "id": "404aadfd",
   "metadata": {},
   "source": [
    "## The `BIDSLayout`"
   ]
  },
  {
   "cell_type": "markdown",
   "id": "89ac046e",
   "metadata": {},
   "source": [
    "A `BIDSLayout` is a Python class that represents a BIDS project file tree and provides a variety of helpful methods for querying and manipulating BIDS files. The `BIDSLayout` initializer has a large number of arguments you can use to control the way files are indexed and accessed. But usually you'd initialise a `BIDSLayout` with just its root path location."
   ]
  },
  {
   "cell_type": "code",
   "execution_count": 2,
   "id": "f16de833",
   "metadata": {},
   "outputs": [
    {
     "data": {
      "text/plain": [
       "BIDS Layout: ...ages\\bids\\tests\\data\\synthetic | Subjects: 5 | Sessions: 10 | Runs: 10"
      ]
     },
     "execution_count": 2,
     "metadata": {},
     "output_type": "execute_result"
    }
   ],
   "source": [
    "# Initialize the layout\n",
    "layout = BIDSLayout(ds_path)\n",
    "\n",
    "# Print some basic information about the layout\n",
    "layout"
   ]
  },
  {
   "cell_type": "markdown",
   "id": "3307fd8c",
   "metadata": {},
   "source": [
    "### Querying the BIDSLayout"
   ]
  },
  {
   "cell_type": "markdown",
   "id": "29cdd50a",
   "metadata": {},
   "source": [
    "The main method for querying `BIDSLayout` is `.get()`.\n",
    "\n",
    "If we call `.get()` with no additional arguments, we get back a list of all the BIDS files in our dataset."
   ]
  },
  {
   "cell_type": "markdown",
   "id": "553a653e",
   "metadata": {},
   "source": [
    "Get all subject IDs"
   ]
  },
  {
   "cell_type": "code",
   "execution_count": 4,
   "id": "a01d8b25",
   "metadata": {},
   "outputs": [
    {
     "name": "stdout",
     "output_type": "stream",
     "text": [
      "There are 153 files in the layout.\n",
      "\n",
      "The first 5 files are:\n"
     ]
    },
    {
     "data": {
      "text/plain": [
       "[<BIDSJSONFile filename='D:\\miniconda3\\lib\\site-packages\\bids\\tests\\data\\synthetic\\dataset_description.json'>,\n",
       " <BIDSDataFile filename='D:\\miniconda3\\lib\\site-packages\\bids\\tests\\data\\synthetic\\participants.tsv'>,\n",
       " <BIDSImageFile filename='D:\\miniconda3\\lib\\site-packages\\bids\\tests\\data\\synthetic\\sub-01\\ses-01\\anat\\sub-01_ses-01_T1w.nii'>,\n",
       " <BIDSImageFile filename='D:\\miniconda3\\lib\\site-packages\\bids\\tests\\data\\synthetic\\sub-01\\ses-01\\anat\\sub-01_ses-01_T1w.nii.gz'>,\n",
       " <BIDSImageFile filename='D:\\miniconda3\\lib\\site-packages\\bids\\tests\\data\\synthetic\\sub-01\\ses-01\\func\\sub-01_ses-01_task-nback_run-01_bold.nii'>]"
      ]
     },
     "execution_count": 4,
     "metadata": {},
     "output_type": "execute_result"
    }
   ],
   "source": [
    "all_files = layout.get()\n",
    "print(\"There are {} files in the layout.\".format(len(all_files)))\n",
    "print(\"\\nThe first 5 files are:\")\n",
    "all_files[:5]"
   ]
  },
  {
   "cell_type": "markdown",
   "id": "8ed4689f",
   "metadata": {},
   "source": [
    "The returned object is a **Python list**. Each element in the list is a `BIDSFile` object. \n",
    "\n",
    "We can also get just filenames."
   ]
  },
  {
   "cell_type": "code",
   "execution_count": 6,
   "id": "e242c774",
   "metadata": {},
   "outputs": [
    {
     "data": {
      "text/plain": [
       "['D:\\\\miniconda3\\\\lib\\\\site-packages\\\\bids\\\\tests\\\\data\\\\synthetic\\\\dataset_description.json',\n",
       " 'D:\\\\miniconda3\\\\lib\\\\site-packages\\\\bids\\\\tests\\\\data\\\\synthetic\\\\participants.tsv',\n",
       " 'D:\\\\miniconda3\\\\lib\\\\site-packages\\\\bids\\\\tests\\\\data\\\\synthetic\\\\sub-01\\\\ses-01\\\\anat\\\\sub-01_ses-01_T1w.nii',\n",
       " 'D:\\\\miniconda3\\\\lib\\\\site-packages\\\\bids\\\\tests\\\\data\\\\synthetic\\\\sub-01\\\\ses-01\\\\anat\\\\sub-01_ses-01_T1w.nii.gz',\n",
       " 'D:\\\\miniconda3\\\\lib\\\\site-packages\\\\bids\\\\tests\\\\data\\\\synthetic\\\\sub-01\\\\ses-01\\\\func\\\\sub-01_ses-01_task-nback_run-01_bold.nii']"
      ]
     },
     "execution_count": 6,
     "metadata": {},
     "output_type": "execute_result"
    }
   ],
   "source": [
    "layout.get(return_type='filename')[:5]"
   ]
  },
  {
   "cell_type": "markdown",
   "id": "dea56e2c",
   "metadata": {},
   "source": [
    "We can also get such information as\n",
    "* all `subject` IDs\n",
    "* all `task` names\n",
    "* dataset `description`\n",
    "* the BOLD repetition time tr"
   ]
  },
  {
   "cell_type": "code",
   "execution_count": 34,
   "id": "9e050fec",
   "metadata": {},
   "outputs": [
    {
     "data": {
      "text/plain": [
       "['03', '04', '02', '05', '01']"
      ]
     },
     "execution_count": 34,
     "metadata": {},
     "output_type": "execute_result"
    }
   ],
   "source": [
    "layout.get_subjects()"
   ]
  },
  {
   "cell_type": "code",
   "execution_count": 35,
   "id": "d5b160fb",
   "metadata": {},
   "outputs": [
    {
     "data": {
      "text/plain": [
       "['nback', 'rest']"
      ]
     },
     "execution_count": 35,
     "metadata": {},
     "output_type": "execute_result"
    }
   ],
   "source": [
    "layout.get_tasks()"
   ]
  },
  {
   "cell_type": "code",
   "execution_count": 29,
   "id": "8d74404a",
   "metadata": {},
   "outputs": [
    {
     "data": {
      "text/plain": [
       "{'Name': 'Synthetic dataset for inclusion in BIDS-examples',\n",
       " 'BIDSVersion': '1.0.2',\n",
       " 'License': 'PD',\n",
       " 'Authors': ['Markiewicz, C. J.']}"
      ]
     },
     "execution_count": 29,
     "metadata": {},
     "output_type": "execute_result"
    }
   ],
   "source": [
    "layout.get_dataset_description()"
   ]
  },
  {
   "cell_type": "code",
   "execution_count": 38,
   "id": "5a070cff",
   "metadata": {},
   "outputs": [
    {
     "data": {
      "text/plain": [
       "2.5"
      ]
     },
     "execution_count": 38,
     "metadata": {},
     "output_type": "execute_result"
    }
   ],
   "source": [
    "layout.get_tr()"
   ]
  },
  {
   "cell_type": "markdown",
   "id": "5bf6e378",
   "metadata": {},
   "source": [
    "### Filtering files by entities"
   ]
  },
  {
   "cell_type": "markdown",
   "id": "1e519b40",
   "metadata": {},
   "source": [
    "We can pass any BIDS-defined entities (keywords) to `.get()` method. For example, here's how we would retrieve all BOLD runs with `.nii.gz` extensions for subject `01`."
   ]
  },
  {
   "cell_type": "code",
   "execution_count": 14,
   "id": "93a41944",
   "metadata": {},
   "outputs": [
    {
     "data": {
      "text/plain": [
       "['D:\\\\miniconda3\\\\lib\\\\site-packages\\\\bids\\\\tests\\\\data\\\\synthetic\\\\sub-01\\\\ses-01\\\\func\\\\sub-01_ses-01_task-nback_run-01_bold.nii.gz',\n",
       " 'D:\\\\miniconda3\\\\lib\\\\site-packages\\\\bids\\\\tests\\\\data\\\\synthetic\\\\sub-01\\\\ses-01\\\\func\\\\sub-01_ses-01_task-nback_run-02_bold.nii.gz',\n",
       " 'D:\\\\miniconda3\\\\lib\\\\site-packages\\\\bids\\\\tests\\\\data\\\\synthetic\\\\sub-01\\\\ses-01\\\\func\\\\sub-01_ses-01_task-rest_bold.nii.gz',\n",
       " 'D:\\\\miniconda3\\\\lib\\\\site-packages\\\\bids\\\\tests\\\\data\\\\synthetic\\\\sub-01\\\\ses-02\\\\func\\\\sub-01_ses-02_task-nback_run-01_bold.nii.gz',\n",
       " 'D:\\\\miniconda3\\\\lib\\\\site-packages\\\\bids\\\\tests\\\\data\\\\synthetic\\\\sub-01\\\\ses-02\\\\func\\\\sub-01_ses-02_task-nback_run-02_bold.nii.gz',\n",
       " 'D:\\\\miniconda3\\\\lib\\\\site-packages\\\\bids\\\\tests\\\\data\\\\synthetic\\\\sub-01\\\\ses-02\\\\func\\\\sub-01_ses-02_task-rest_bold.nii.gz']"
      ]
     },
     "execution_count": 14,
     "metadata": {},
     "output_type": "execute_result"
    }
   ],
   "source": [
    "# Retrieve filenames of all BOLD runs for subject 01\n",
    "layout.get(subject='01', extension='nii.gz', suffix='bold', return_type='filename')"
   ]
  },
  {
   "cell_type": "markdown",
   "id": "8ec15f46",
   "metadata": {},
   "source": [
    "All of the entities are found in the names of BIDS files. For example *'sub-01_ses-01_task-nback_run-01_bold.nii'* is **subject** **session** **task** **run** **suffix**."
   ]
  },
  {
   "cell_type": "markdown",
   "id": "6c49eaa6",
   "metadata": {},
   "source": [
    "You can get the list of all availabe entities by `layout.get_entities()`.\n",
    "\n",
    "Here are a few of the most common entities:\n",
    "\n",
    "* `suffix`: The part of a BIDS filename just before the extension (e.g., 'bold', 'events', 'T1w', etc.).\n",
    "* `subject`: The subject label\n",
    "* `session`: The session label\n",
    "* `run`: The run index\n",
    "* `task`: The task name"
   ]
  },
  {
   "cell_type": "code",
   "execution_count": 12,
   "id": "c6bf4d3b",
   "metadata": {},
   "outputs": [
    {
     "data": {
      "text/plain": [
       "{'subject': <bids.layout.models.Entity at 0x20dff673c70>,\n",
       " 'session': <bids.layout.models.Entity at 0x20dff673f70>,\n",
       " 'task': <bids.layout.models.Entity at 0x20dff673520>,\n",
       " 'acquisition': <bids.layout.models.Entity at 0x20dff9999a0>,\n",
       " 'ceagent': <bids.layout.models.Entity at 0x20dff9996d0>,\n",
       " 'reconstruction': <bids.layout.models.Entity at 0x20dff999850>,\n",
       " 'direction': <bids.layout.models.Entity at 0x20dff9997f0>,\n",
       " 'run': <bids.layout.models.Entity at 0x20dff999d00>,\n",
       " 'proc': <bids.layout.models.Entity at 0x20dff999be0>,\n",
       " 'modality': <bids.layout.models.Entity at 0x20dff9995e0>,\n",
       " 'echo': <bids.layout.models.Entity at 0x20dff999e80>,\n",
       " 'flip': <bids.layout.models.Entity at 0x20dff999c70>,\n",
       " 'inv': <bids.layout.models.Entity at 0x20dff999070>,\n",
       " 'mt': <bids.layout.models.Entity at 0x20dff999640>,\n",
       " 'part': <bids.layout.models.Entity at 0x20dff999a00>,\n",
       " 'recording': <bids.layout.models.Entity at 0x20dff9994f0>,\n",
       " 'space': <bids.layout.models.Entity at 0x20dff77b790>,\n",
       " 'suffix': <bids.layout.models.Entity at 0x20dff77bd30>,\n",
       " 'scans': <bids.layout.models.Entity at 0x20dff77ba60>,\n",
       " 'fmap': <bids.layout.models.Entity at 0x20dff77b190>,\n",
       " 'datatype': <bids.layout.models.Entity at 0x20dff77bb50>,\n",
       " 'extension': <bids.layout.models.Entity at 0x20dff77b340>,\n",
       " 'TaskName': <bids.layout.models.Entity at 0x20dff77b940>,\n",
       " 'RepetitionTime': <bids.layout.models.Entity at 0x20dff77b460>,\n",
       " 'SamplingFrequency': <bids.layout.models.Entity at 0x20dff8f7850>,\n",
       " 'StartTime': <bids.layout.models.Entity at 0x20dff8f75b0>,\n",
       " 'Columns': <bids.layout.models.Entity at 0x20dff8f7ee0>}"
      ]
     },
     "execution_count": 12,
     "metadata": {},
     "output_type": "execute_result"
    }
   ],
   "source": [
    "# a list of all awailable entities\n",
    "layout.get_entities()"
   ]
  },
  {
   "cell_type": "markdown",
   "id": "4f59736a",
   "metadata": {},
   "source": [
    "### Filtering by metadata"
   ]
  },
  {
   "cell_type": "markdown",
   "id": "128173b8",
   "metadata": {},
   "source": [
    "Sometimes we want to search for files based not just on their names, but also based on metadata defined in JSON files. We can pass any key that occurs in any JSON file in our project as an argument to `.get()`. We can combine these with any number of core BIDS entities (like `subject`, `run`, etc.).\n",
    "\n",
    "For example, say we want to retrieve all files where (a) the value of `SamplingFrequency` (a metadata key) is `10`, and (b) the subject is `01` or `02`.\n",
    "\n",
    "Indeed, we can pass a list for `subject` rather than just a string. This principle applies to all filters: you can always pass in a list instead of a single value, and this will be interpreted as a logical disjunction (i.e., a file must match any one of the provided values)."
   ]
  },
  {
   "cell_type": "code",
   "execution_count": 18,
   "id": "69a1c99f",
   "metadata": {},
   "outputs": [
    {
     "data": {
      "text/plain": [
       "[<BIDSDataFile filename='D:\\miniconda3\\lib\\site-packages\\bids\\tests\\data\\synthetic\\sub-01\\ses-01\\func\\sub-01_ses-01_task-nback_run-01_physio.tsv.gz'>,\n",
       " <BIDSDataFile filename='D:\\miniconda3\\lib\\site-packages\\bids\\tests\\data\\synthetic\\sub-01\\ses-01\\func\\sub-01_ses-01_task-nback_run-02_physio.tsv.gz'>,\n",
       " <BIDSDataFile filename='D:\\miniconda3\\lib\\site-packages\\bids\\tests\\data\\synthetic\\sub-01\\ses-01\\func\\sub-01_ses-01_task-rest_physio.tsv.gz'>,\n",
       " <BIDSDataFile filename='D:\\miniconda3\\lib\\site-packages\\bids\\tests\\data\\synthetic\\sub-01\\ses-02\\func\\sub-01_ses-02_task-nback_run-01_physio.tsv.gz'>,\n",
       " <BIDSDataFile filename='D:\\miniconda3\\lib\\site-packages\\bids\\tests\\data\\synthetic\\sub-01\\ses-02\\func\\sub-01_ses-02_task-nback_run-02_physio.tsv.gz'>,\n",
       " <BIDSDataFile filename='D:\\miniconda3\\lib\\site-packages\\bids\\tests\\data\\synthetic\\sub-01\\ses-02\\func\\sub-01_ses-02_task-rest_physio.tsv.gz'>,\n",
       " <BIDSDataFile filename='D:\\miniconda3\\lib\\site-packages\\bids\\tests\\data\\synthetic\\sub-02\\ses-01\\func\\sub-02_ses-01_task-nback_run-01_physio.tsv.gz'>,\n",
       " <BIDSDataFile filename='D:\\miniconda3\\lib\\site-packages\\bids\\tests\\data\\synthetic\\sub-02\\ses-01\\func\\sub-02_ses-01_task-nback_run-02_physio.tsv.gz'>,\n",
       " <BIDSDataFile filename='D:\\miniconda3\\lib\\site-packages\\bids\\tests\\data\\synthetic\\sub-02\\ses-01\\func\\sub-02_ses-01_task-rest_physio.tsv.gz'>,\n",
       " <BIDSDataFile filename='D:\\miniconda3\\lib\\site-packages\\bids\\tests\\data\\synthetic\\sub-02\\ses-02\\func\\sub-02_ses-02_task-nback_run-01_physio.tsv.gz'>,\n",
       " <BIDSDataFile filename='D:\\miniconda3\\lib\\site-packages\\bids\\tests\\data\\synthetic\\sub-02\\ses-02\\func\\sub-02_ses-02_task-nback_run-02_physio.tsv.gz'>,\n",
       " <BIDSDataFile filename='D:\\miniconda3\\lib\\site-packages\\bids\\tests\\data\\synthetic\\sub-02\\ses-02\\func\\sub-02_ses-02_task-rest_physio.tsv.gz'>]"
      ]
     },
     "execution_count": 18,
     "metadata": {},
     "output_type": "execute_result"
    }
   ],
   "source": [
    "# Retrieve all files where SamplingFrequency (a metadata key) = 100\n",
    "# and acquisition = prefrontal, for the first two subjects\n",
    "layout.get(subject=['01', '02'], SamplingFrequency=10.0)"
   ]
  },
  {
   "cell_type": "markdown",
   "id": "a60961d9",
   "metadata": {},
   "source": [
    "### Other `return_type` values¶"
   ]
  },
  {
   "cell_type": "markdown",
   "id": "8cd37417",
   "metadata": {},
   "source": [
    "We can also ask `get()` to return unique values (or ids) of particular entities. For example, say we want to know which subjects have at least one `T1w` file. We can request that information by setting `return_type='id'`. When using this option, we also need to specify a target entity (or metadata keyword) called `target`. This combination tells the `BIDSLayout` to return the unique values for the specified `target` entity. For example, in the next example, we ask for all of the unique subject IDs that have at least one file with a `T1w` suffix. "
   ]
  },
  {
   "cell_type": "code",
   "execution_count": 19,
   "id": "a622bec4",
   "metadata": {},
   "outputs": [
    {
     "data": {
      "text/plain": [
       "['03', '04', '02', '05', '01']"
      ]
     },
     "execution_count": 19,
     "metadata": {},
     "output_type": "execute_result"
    }
   ],
   "source": [
    "# Ask get() to return the ids of subjects that have T1w files\n",
    "layout.get(return_type='id', target='subject', suffix='T1w')"
   ]
  },
  {
   "cell_type": "markdown",
   "id": "37ae183d",
   "metadata": {},
   "source": [
    "If our `target` is a BIDS entity that corresponds to a particular directory in the BIDS spec (e.g., `subject` or `session`) we can also use `return_type='dir'` to get all matching subdirectories. "
   ]
  },
  {
   "cell_type": "code",
   "execution_count": 20,
   "id": "9690bbf8",
   "metadata": {},
   "outputs": [
    {
     "data": {
      "text/plain": [
       "['D:\\\\miniconda3\\\\lib\\\\site-packages\\\\bids\\\\tests\\\\data\\\\synthetic\\\\sub-01',\n",
       " 'D:\\\\miniconda3\\\\lib\\\\site-packages\\\\bids\\\\tests\\\\data\\\\synthetic\\\\sub-02',\n",
       " 'D:\\\\miniconda3\\\\lib\\\\site-packages\\\\bids\\\\tests\\\\data\\\\synthetic\\\\sub-03',\n",
       " 'D:\\\\miniconda3\\\\lib\\\\site-packages\\\\bids\\\\tests\\\\data\\\\synthetic\\\\sub-04',\n",
       " 'D:\\\\miniconda3\\\\lib\\\\site-packages\\\\bids\\\\tests\\\\data\\\\synthetic\\\\sub-05']"
      ]
     },
     "execution_count": 20,
     "metadata": {},
     "output_type": "execute_result"
    }
   ],
   "source": [
    "layout.get(return_type='dir', target='subject')"
   ]
  },
  {
   "cell_type": "code",
   "execution_count": null,
   "id": "7f222fc4",
   "metadata": {},
   "outputs": [],
   "source": []
  },
  {
   "cell_type": "code",
   "execution_count": null,
   "id": "5323f90e",
   "metadata": {},
   "outputs": [],
   "source": [
    "from bids.reports import BIDSReport\n",
    "#from bids.tests import get_test_data_path\n",
    "#layout = BIDSLayout(os.path.join(get_test_data_path(), 'synthetic'))\n",
    "\n",
    "report = BIDSReport(layout)\n",
    "\n",
    "counter = report.generate()"
   ]
  },
  {
   "cell_type": "code",
   "execution_count": null,
   "id": "fc4df850",
   "metadata": {},
   "outputs": [],
   "source": [
    "main_report = counter.most_common()[0][0]\n",
    "print(main_report)"
   ]
  },
  {
   "cell_type": "code",
   "execution_count": null,
   "id": "d132bcf1",
   "metadata": {},
   "outputs": [],
   "source": [
    "# Convert the layout to a pandas dataframe\n",
    "df = layout.to_df()\n",
    "df.head(10)"
   ]
  },
  {
   "cell_type": "code",
   "execution_count": null,
   "id": "9aa92bff",
   "metadata": {},
   "outputs": [],
   "source": [
    "layout.to_df(metadata=True).head(10)"
   ]
  },
  {
   "cell_type": "code",
   "execution_count": null,
   "id": "c1931adf",
   "metadata": {},
   "outputs": [],
   "source": []
  }
 ],
 "metadata": {
  "kernelspec": {
   "display_name": "Python 3 (ipykernel)",
   "language": "python",
   "name": "python3"
  },
  "language_info": {
   "codemirror_mode": {
    "name": "ipython",
    "version": 3
   },
   "file_extension": ".py",
   "mimetype": "text/x-python",
   "name": "python",
   "nbconvert_exporter": "python",
   "pygments_lexer": "ipython3",
   "version": "3.9.7"
  },
  "toc": {
   "base_numbering": 1,
   "nav_menu": {},
   "number_sections": true,
   "sideBar": true,
   "skip_h1_title": true,
   "title_cell": "Table of Contents",
   "title_sidebar": "Contents",
   "toc_cell": false,
   "toc_position": {
    "height": "calc(100% - 180px)",
    "left": "10px",
    "top": "150px",
    "width": "512px"
   },
   "toc_section_display": true,
   "toc_window_display": true
  }
 },
 "nbformat": 4,
 "nbformat_minor": 5
}
