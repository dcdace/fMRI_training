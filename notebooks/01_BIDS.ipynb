{
 "cells": [
  {
   "cell_type": "markdown",
   "id": "64519477",
   "metadata": {},
   "source": [
    "# Introduction to BIDS and `pybids`\n",
    "Brain Imaging Data Structure (**BIDS**) is a a standard for organizing and describing MRI datasets standardised https://bids.neuroimaging.io/\n",
    "Gorgolewski, K., Auer, T., Calhoun, V. et al. *The brain imaging data structure, a format for organizing and describing outputs of neuroimaging experiments.* Sci Data 3, 160044 (2016). https://doi.org/10.1038/sdata.2016.44\n",
    "\n",
    "`pybids` is a tool to query, summarize and manipulate data using the BIDS standard. \n",
    "\n",
    "**In this tutorial I will illustrate some of the functionality of pybids.layout**\n",
    "\n",
    "The material is adapted from https://github.com/bids-standard/pybids/tree/master/examples"
   ]
  },
  {
   "cell_type": "markdown",
   "id": "82c927da",
   "metadata": {},
   "source": [
    "## Example dataset\n",
    "When `pybids` is installed, some example datasets are added to the library. They are useful to test the structure of the dataset, but they do not contain the actual image files. \n",
    "I will use 'syntetic' dataset for some examples. "
   ]
  },
  {
   "cell_type": "code",
   "execution_count": 1,
   "id": "a867bcbb",
   "metadata": {},
   "outputs": [],
   "source": [
    "from bids.layout import BIDSLayout\n",
    "from bids.tests import get_test_data_path\n",
    "import os\n",
    "\n",
    "ds_path = os.path.join(get_test_data_path(), 'synthetic')"
   ]
  },
  {
   "cell_type": "markdown",
   "id": "d07d11ed",
   "metadata": {},
   "source": [
    "## The `BIDSLayout`\n",
    "A `BIDSLayout` is a Python class that represents a BIDS project file tree and provides a variety of helpful methods for querying and manipulating BIDS files. The `BIDSLayout` initializer has a large number of arguments you can use to control the way files are indexed and accessed. But usually you'd initialise a `BIDSLayout` with just its root path location."
   ]
  },
  {
   "cell_type": "code",
   "execution_count": 2,
   "id": "f2e9bfb1",
   "metadata": {},
   "outputs": [
    {
     "data": {
      "text/plain": [
       "BIDS Layout: ...ages\\bids\\tests\\data\\synthetic | Subjects: 5 | Sessions: 10 | Runs: 10"
      ]
     },
     "execution_count": 2,
     "metadata": {},
     "output_type": "execute_result"
    }
   ],
   "source": [
    "# Initialize the layout\n",
    "layout = BIDSLayout(ds_path)\n",
    "\n",
    "# Print some basic information about the layout\n",
    "layout"
   ]
  },
  {
   "cell_type": "markdown",
   "id": "72e289ca",
   "metadata": {},
   "source": [
    "### Querying the BIDSLayout\n",
    "The main method for querying `BIDSLayout` is `.get()`.\n",
    "\n",
    "If we call `.get()` with no additional arguments, we get back a list of all the BIDS files in our dataset."
   ]
  },
  {
   "cell_type": "code",
   "execution_count": 3,
   "id": "d8b58b95",
   "metadata": {},
   "outputs": [
    {
     "name": "stdout",
     "output_type": "stream",
     "text": [
      "There are 153 files in the layout.\n",
      "\n",
      "The first 5 files are:\n"
     ]
    },
    {
     "data": {
      "text/plain": [
       "[<BIDSJSONFile filename='D:\\miniconda3\\lib\\site-packages\\bids\\tests\\data\\synthetic\\dataset_description.json'>,\n",
       " <BIDSDataFile filename='D:\\miniconda3\\lib\\site-packages\\bids\\tests\\data\\synthetic\\participants.tsv'>,\n",
       " <BIDSImageFile filename='D:\\miniconda3\\lib\\site-packages\\bids\\tests\\data\\synthetic\\sub-01\\ses-01\\anat\\sub-01_ses-01_T1w.nii'>,\n",
       " <BIDSImageFile filename='D:\\miniconda3\\lib\\site-packages\\bids\\tests\\data\\synthetic\\sub-01\\ses-01\\anat\\sub-01_ses-01_T1w.nii.gz'>,\n",
       " <BIDSImageFile filename='D:\\miniconda3\\lib\\site-packages\\bids\\tests\\data\\synthetic\\sub-01\\ses-01\\func\\sub-01_ses-01_task-nback_run-01_bold.nii'>]"
      ]
     },
     "execution_count": 3,
     "metadata": {},
     "output_type": "execute_result"
    }
   ],
   "source": [
    "all_files = layout.get()\n",
    "print(\"There are {} files in the layout.\".format(len(all_files)))\n",
    "print(\"\\nThe first 5 files are:\")\n",
    "all_files[:5]"
   ]
  },
  {
   "cell_type": "markdown",
   "id": "41fb1f17",
   "metadata": {},
   "source": [
    "The returned object is a **Python list**. Each element in the list is a `BIDSFile` object. \n",
    "\n",
    "We can also get just filenames."
   ]
  },
  {
   "cell_type": "code",
   "execution_count": 4,
   "id": "9cc55f03",
   "metadata": {},
   "outputs": [
    {
     "data": {
      "text/plain": [
       "['D:\\\\miniconda3\\\\lib\\\\site-packages\\\\bids\\\\tests\\\\data\\\\synthetic\\\\dataset_description.json',\n",
       " 'D:\\\\miniconda3\\\\lib\\\\site-packages\\\\bids\\\\tests\\\\data\\\\synthetic\\\\participants.tsv',\n",
       " 'D:\\\\miniconda3\\\\lib\\\\site-packages\\\\bids\\\\tests\\\\data\\\\synthetic\\\\sub-01\\\\ses-01\\\\anat\\\\sub-01_ses-01_T1w.nii',\n",
       " 'D:\\\\miniconda3\\\\lib\\\\site-packages\\\\bids\\\\tests\\\\data\\\\synthetic\\\\sub-01\\\\ses-01\\\\anat\\\\sub-01_ses-01_T1w.nii.gz',\n",
       " 'D:\\\\miniconda3\\\\lib\\\\site-packages\\\\bids\\\\tests\\\\data\\\\synthetic\\\\sub-01\\\\ses-01\\\\func\\\\sub-01_ses-01_task-nback_run-01_bold.nii']"
      ]
     },
     "execution_count": 4,
     "metadata": {},
     "output_type": "execute_result"
    }
   ],
   "source": [
    "layout.get(return_type='filename')[:5]"
   ]
  },
  {
   "cell_type": "markdown",
   "id": "b6f76d4f",
   "metadata": {},
   "source": [
    "We can also get such information as\n",
    "* all `subject` IDs\n",
    "* all `task` names\n",
    "* dataset `description`\n",
    "* the BOLD repetition time tr"
   ]
  },
  {
   "cell_type": "code",
   "execution_count": 5,
   "id": "6b126ec7",
   "metadata": {},
   "outputs": [
    {
     "data": {
      "text/plain": [
       "['02', '04', '01', '03', '05']"
      ]
     },
     "execution_count": 5,
     "metadata": {},
     "output_type": "execute_result"
    }
   ],
   "source": [
    "layout.get_subjects()"
   ]
  },
  {
   "cell_type": "code",
   "execution_count": 6,
   "id": "4ebd2ac6",
   "metadata": {},
   "outputs": [
    {
     "data": {
      "text/plain": [
       "['rest', 'nback']"
      ]
     },
     "execution_count": 6,
     "metadata": {},
     "output_type": "execute_result"
    }
   ],
   "source": [
    "layout.get_tasks()"
   ]
  },
  {
   "cell_type": "code",
   "execution_count": 7,
   "id": "f4832769",
   "metadata": {},
   "outputs": [
    {
     "data": {
      "text/plain": [
       "{'Name': 'Synthetic dataset for inclusion in BIDS-examples',\n",
       " 'BIDSVersion': '1.0.2',\n",
       " 'License': 'PD',\n",
       " 'Authors': ['Markiewicz, C. J.']}"
      ]
     },
     "execution_count": 7,
     "metadata": {},
     "output_type": "execute_result"
    }
   ],
   "source": [
    "layout.get_dataset_description()"
   ]
  },
  {
   "cell_type": "code",
   "execution_count": 8,
   "id": "3791863f",
   "metadata": {},
   "outputs": [
    {
     "data": {
      "text/plain": [
       "2.5"
      ]
     },
     "execution_count": 8,
     "metadata": {},
     "output_type": "execute_result"
    }
   ],
   "source": [
    "layout.get_tr()"
   ]
  },
  {
   "cell_type": "markdown",
   "id": "88cb5f02",
   "metadata": {},
   "source": [
    "### Filtering files by entities\n",
    "We can pass any BIDS-defined entities (keywords) to `.get()` method. For example, here's how we would retrieve all BOLD runs with `.nii.gz` extensions for subject `01`."
   ]
  },
  {
   "cell_type": "code",
   "execution_count": 9,
   "id": "f0d5a0ed",
   "metadata": {},
   "outputs": [
    {
     "data": {
      "text/plain": [
       "['D:\\\\miniconda3\\\\lib\\\\site-packages\\\\bids\\\\tests\\\\data\\\\synthetic\\\\sub-01\\\\ses-01\\\\func\\\\sub-01_ses-01_task-nback_run-01_bold.nii.gz',\n",
       " 'D:\\\\miniconda3\\\\lib\\\\site-packages\\\\bids\\\\tests\\\\data\\\\synthetic\\\\sub-01\\\\ses-01\\\\func\\\\sub-01_ses-01_task-nback_run-02_bold.nii.gz',\n",
       " 'D:\\\\miniconda3\\\\lib\\\\site-packages\\\\bids\\\\tests\\\\data\\\\synthetic\\\\sub-01\\\\ses-01\\\\func\\\\sub-01_ses-01_task-rest_bold.nii.gz',\n",
       " 'D:\\\\miniconda3\\\\lib\\\\site-packages\\\\bids\\\\tests\\\\data\\\\synthetic\\\\sub-01\\\\ses-02\\\\func\\\\sub-01_ses-02_task-nback_run-01_bold.nii.gz',\n",
       " 'D:\\\\miniconda3\\\\lib\\\\site-packages\\\\bids\\\\tests\\\\data\\\\synthetic\\\\sub-01\\\\ses-02\\\\func\\\\sub-01_ses-02_task-nback_run-02_bold.nii.gz',\n",
       " 'D:\\\\miniconda3\\\\lib\\\\site-packages\\\\bids\\\\tests\\\\data\\\\synthetic\\\\sub-01\\\\ses-02\\\\func\\\\sub-01_ses-02_task-rest_bold.nii.gz']"
      ]
     },
     "execution_count": 9,
     "metadata": {},
     "output_type": "execute_result"
    }
   ],
   "source": [
    "# Retrieve filenames of all BOLD runs for subject 01\n",
    "layout.get(subject='01', extension='nii.gz', suffix='bold', return_type='filename')"
   ]
  },
  {
   "cell_type": "markdown",
   "id": "a81a10a2",
   "metadata": {},
   "source": [
    "All of the entities are found in the names of BIDS files. For example *'sub-01_ses-01_task-nback_run-01_bold.nii'* is **subject** **session** **task** **run** **suffix**."
   ]
  },
  {
   "cell_type": "markdown",
   "id": "507ffa5c",
   "metadata": {},
   "source": [
    "You can get the list of all availabe entities by `layout.get_entities()`.\n",
    "\n",
    "Here are a few of the most common entities:\n",
    "\n",
    "* `suffix`: The part of a BIDS filename just before the extension (e.g., 'bold', 'events', 'T1w', etc.).\n",
    "* `subject`: The subject label\n",
    "* `session`: The session label\n",
    "* `run`: The run index\n",
    "* `task`: The task name"
   ]
  },
  {
   "cell_type": "code",
   "execution_count": 10,
   "id": "a81b7b1d",
   "metadata": {},
   "outputs": [
    {
     "data": {
      "text/plain": [
       "{'subject': <bids.layout.models.Entity at 0x1fd83721430>,\n",
       " 'session': <bids.layout.models.Entity at 0x1fd83721520>,\n",
       " 'task': <bids.layout.models.Entity at 0x1fd837213a0>,\n",
       " 'acquisition': <bids.layout.models.Entity at 0x1fd83718580>,\n",
       " 'ceagent': <bids.layout.models.Entity at 0x1fd83718220>,\n",
       " 'reconstruction': <bids.layout.models.Entity at 0x1fd83718eb0>,\n",
       " 'direction': <bids.layout.models.Entity at 0x1fd83718d60>,\n",
       " 'run': <bids.layout.models.Entity at 0x1fd8373ee20>,\n",
       " 'proc': <bids.layout.models.Entity at 0x1fd8373e340>,\n",
       " 'modality': <bids.layout.models.Entity at 0x1fd8373eca0>,\n",
       " 'echo': <bids.layout.models.Entity at 0x1fd8373eaf0>,\n",
       " 'flip': <bids.layout.models.Entity at 0x1fd8373e070>,\n",
       " 'inv': <bids.layout.models.Entity at 0x1fd8373e1c0>,\n",
       " 'mt': <bids.layout.models.Entity at 0x1fd8373ed00>,\n",
       " 'part': <bids.layout.models.Entity at 0x1fd8373ec10>,\n",
       " 'recording': <bids.layout.models.Entity at 0x1fd8373ea90>,\n",
       " 'space': <bids.layout.models.Entity at 0x1fd8373e370>,\n",
       " 'suffix': <bids.layout.models.Entity at 0x1fd8373ef10>,\n",
       " 'scans': <bids.layout.models.Entity at 0x1fd8373eee0>,\n",
       " 'fmap': <bids.layout.models.Entity at 0x1fd8373e5b0>,\n",
       " 'datatype': <bids.layout.models.Entity at 0x1fd8373e730>,\n",
       " 'extension': <bids.layout.models.Entity at 0x1fd8373ea00>,\n",
       " 'TaskName': <bids.layout.models.Entity at 0x1fd8373e8e0>,\n",
       " 'RepetitionTime': <bids.layout.models.Entity at 0x1fd8373ecd0>,\n",
       " 'SamplingFrequency': <bids.layout.models.Entity at 0x1fd8342b700>,\n",
       " 'StartTime': <bids.layout.models.Entity at 0x1fd8342b1c0>,\n",
       " 'Columns': <bids.layout.models.Entity at 0x1fd8342b1f0>}"
      ]
     },
     "execution_count": 10,
     "metadata": {},
     "output_type": "execute_result"
    }
   ],
   "source": [
    "# a list of all awailable entities\n",
    "layout.get_entities()"
   ]
  },
  {
   "cell_type": "markdown",
   "id": "5f3f000f",
   "metadata": {},
   "source": [
    "### Filtering by metadata\n",
    "Sometimes we want to search for files based not just on their names, but also based on metadata defined in JSON files. We can pass any key that occurs in any JSON file in our project as an argument to `.get()`. We can combine these with any number of core BIDS entities (like `subject`, `run`, etc.).\n",
    "\n",
    "For example, say we want to retrieve all files where (a) the value of `SamplingFrequency` (a metadata key) is `10`, and (b) the subject is `01` or `02`.\n",
    "\n",
    "Indeed, we can pass a list for `subject` rather than just a string. This principle applies to all filters: you can always pass in a list instead of a single value, and this will be interpreted as a logical disjunction (i.e., a file must match any one of the provided values)."
   ]
  },
  {
   "cell_type": "code",
   "execution_count": 11,
   "id": "88b00c1b",
   "metadata": {},
   "outputs": [
    {
     "data": {
      "text/plain": [
       "[<BIDSDataFile filename='D:\\miniconda3\\lib\\site-packages\\bids\\tests\\data\\synthetic\\sub-01\\ses-01\\func\\sub-01_ses-01_task-nback_run-01_physio.tsv.gz'>,\n",
       " <BIDSDataFile filename='D:\\miniconda3\\lib\\site-packages\\bids\\tests\\data\\synthetic\\sub-01\\ses-01\\func\\sub-01_ses-01_task-nback_run-02_physio.tsv.gz'>,\n",
       " <BIDSDataFile filename='D:\\miniconda3\\lib\\site-packages\\bids\\tests\\data\\synthetic\\sub-01\\ses-01\\func\\sub-01_ses-01_task-rest_physio.tsv.gz'>,\n",
       " <BIDSDataFile filename='D:\\miniconda3\\lib\\site-packages\\bids\\tests\\data\\synthetic\\sub-01\\ses-02\\func\\sub-01_ses-02_task-nback_run-01_physio.tsv.gz'>,\n",
       " <BIDSDataFile filename='D:\\miniconda3\\lib\\site-packages\\bids\\tests\\data\\synthetic\\sub-01\\ses-02\\func\\sub-01_ses-02_task-nback_run-02_physio.tsv.gz'>,\n",
       " <BIDSDataFile filename='D:\\miniconda3\\lib\\site-packages\\bids\\tests\\data\\synthetic\\sub-01\\ses-02\\func\\sub-01_ses-02_task-rest_physio.tsv.gz'>,\n",
       " <BIDSDataFile filename='D:\\miniconda3\\lib\\site-packages\\bids\\tests\\data\\synthetic\\sub-02\\ses-01\\func\\sub-02_ses-01_task-nback_run-01_physio.tsv.gz'>,\n",
       " <BIDSDataFile filename='D:\\miniconda3\\lib\\site-packages\\bids\\tests\\data\\synthetic\\sub-02\\ses-01\\func\\sub-02_ses-01_task-nback_run-02_physio.tsv.gz'>,\n",
       " <BIDSDataFile filename='D:\\miniconda3\\lib\\site-packages\\bids\\tests\\data\\synthetic\\sub-02\\ses-01\\func\\sub-02_ses-01_task-rest_physio.tsv.gz'>,\n",
       " <BIDSDataFile filename='D:\\miniconda3\\lib\\site-packages\\bids\\tests\\data\\synthetic\\sub-02\\ses-02\\func\\sub-02_ses-02_task-nback_run-01_physio.tsv.gz'>,\n",
       " <BIDSDataFile filename='D:\\miniconda3\\lib\\site-packages\\bids\\tests\\data\\synthetic\\sub-02\\ses-02\\func\\sub-02_ses-02_task-nback_run-02_physio.tsv.gz'>,\n",
       " <BIDSDataFile filename='D:\\miniconda3\\lib\\site-packages\\bids\\tests\\data\\synthetic\\sub-02\\ses-02\\func\\sub-02_ses-02_task-rest_physio.tsv.gz'>]"
      ]
     },
     "execution_count": 11,
     "metadata": {},
     "output_type": "execute_result"
    }
   ],
   "source": [
    "# Retrieve all files where SamplingFrequency (a metadata key) = 100\n",
    "# and acquisition = prefrontal, for the first two subjects\n",
    "layout.get(subject=['01', '02'], SamplingFrequency=10.0)"
   ]
  },
  {
   "cell_type": "markdown",
   "id": "b973c33f",
   "metadata": {},
   "source": [
    "### Other `return_type` values\n",
    "We can also ask `get()` to return unique values (or ids) of particular entities. For example, say we want to know which subjects have at least one `T1w` file. We can request that information by setting `return_type='id'`. When using this option, we also need to specify a target entity (or metadata keyword) called `target`. This combination tells the `BIDSLayout` to return the unique values for the specified `target` entity. For example, in the next example, we ask for all of the unique subject IDs that have at least one file with a `T1w` suffix. "
   ]
  },
  {
   "cell_type": "code",
   "execution_count": 12,
   "id": "cb7b7d4a",
   "metadata": {},
   "outputs": [
    {
     "data": {
      "text/plain": [
       "['02', '04', '01', '03', '05']"
      ]
     },
     "execution_count": 12,
     "metadata": {},
     "output_type": "execute_result"
    }
   ],
   "source": [
    "# Ask get() to return the ids of subjects that have T1w files\n",
    "layout.get(return_type='id', target='subject', suffix='T1w')"
   ]
  },
  {
   "cell_type": "markdown",
   "id": "f1f68a95",
   "metadata": {},
   "source": [
    "If our `target` is a BIDS entity that corresponds to a particular directory in the BIDS spec (e.g., `subject` or `session`) we can also use `return_type='dir'` to get all matching subdirectories. "
   ]
  },
  {
   "cell_type": "code",
   "execution_count": 13,
   "id": "ffe9d502",
   "metadata": {},
   "outputs": [
    {
     "data": {
      "text/plain": [
       "['D:\\\\miniconda3\\\\lib\\\\site-packages\\\\bids\\\\tests\\\\data\\\\synthetic\\\\sub-01',\n",
       " 'D:\\\\miniconda3\\\\lib\\\\site-packages\\\\bids\\\\tests\\\\data\\\\synthetic\\\\sub-02',\n",
       " 'D:\\\\miniconda3\\\\lib\\\\site-packages\\\\bids\\\\tests\\\\data\\\\synthetic\\\\sub-03',\n",
       " 'D:\\\\miniconda3\\\\lib\\\\site-packages\\\\bids\\\\tests\\\\data\\\\synthetic\\\\sub-04',\n",
       " 'D:\\\\miniconda3\\\\lib\\\\site-packages\\\\bids\\\\tests\\\\data\\\\synthetic\\\\sub-05']"
      ]
     },
     "execution_count": 13,
     "metadata": {},
     "output_type": "execute_result"
    }
   ],
   "source": [
    "layout.get(return_type='dir', target='subject')"
   ]
  },
  {
   "cell_type": "markdown",
   "id": "6c852633",
   "metadata": {},
   "source": [
    "## The `BIDSFile`\n",
    "When you call `.get()` on a `BIDSLayout`, the default returned values are objects of class `BIDSFile`. A `BIDSFile` is a lightweight container for individual files in a BIDS dataset. It provides easy access to a variety of useful attributes and methods. Let's take a closer look. First, let's pick a random file from our existing `layout`."
   ]
  },
  {
   "cell_type": "code",
   "execution_count": 14,
   "id": "25aeb3fc",
   "metadata": {},
   "outputs": [
    {
     "data": {
      "text/plain": [
       "<BIDSImageFile filename='D:\\miniconda3\\lib\\site-packages\\bids\\tests\\data\\synthetic\\sub-01\\ses-01\\func\\sub-01_ses-01_task-nback_run-01_bold.nii.gz'>"
      ]
     },
     "execution_count": 14,
     "metadata": {},
     "output_type": "execute_result"
    }
   ],
   "source": [
    "# Pick the 5h file in the dataset\n",
    "bf = layout.get()[5]\n",
    "\n",
    "# Print it\n",
    "bf"
   ]
  },
  {
   "cell_type": "markdown",
   "id": "45e9d47f",
   "metadata": {},
   "source": [
    "Here are some of the attributes and methods available to us in a `BIDSFile` (note that some of these are only available for certain subclasses of `BIDSFile`; e.g., you can't call `get_image()` on a `BIDSFile` that doesn't correspond to an image file!):\n",
    "* `.path`: The full path of the associated file\n",
    "* `.filename`: The associated file's filename (without directory)\n",
    "* `.dirname`: The directory containing the file\n",
    "* `.get_entities()`: Returns information about entities associated with this `BIDSFile` (optionally including metadata)\n",
    "* `.get_image()`: Returns the file contents as a nibabel image (only works for image files)\n",
    "* `.get_df()`: Get file contents as a pandas DataFrame (only works for TSV files)\n",
    "* `.get_metadata()`: Returns a dictionary of all metadata found in associated JSON files\n",
    "* `.get_associations()`: Returns a list of all files associated with this one in some way\n",
    "\n",
    "Let's see some of these in action."
   ]
  },
  {
   "cell_type": "code",
   "execution_count": 15,
   "id": "36f773ca",
   "metadata": {},
   "outputs": [
    {
     "data": {
      "text/plain": [
       "{'datatype': 'func',\n",
       " 'extension': '.nii.gz',\n",
       " 'run': 1,\n",
       " 'session': '01',\n",
       " 'subject': '01',\n",
       " 'suffix': 'bold',\n",
       " 'task': 'nback'}"
      ]
     },
     "execution_count": 15,
     "metadata": {},
     "output_type": "execute_result"
    }
   ],
   "source": [
    "# Print all the entities associated with this file, and their values\n",
    "bf.get_entities()"
   ]
  },
  {
   "cell_type": "code",
   "execution_count": 16,
   "id": "32a4bc4e",
   "metadata": {},
   "outputs": [
    {
     "data": {
      "text/plain": [
       "{'RepetitionTime': 2.5, 'TaskName': 'N-Back'}"
      ]
     },
     "execution_count": 16,
     "metadata": {},
     "output_type": "execute_result"
    }
   ],
   "source": [
    "# Print all the metadata associated with this file\n",
    "bf.get_metadata()"
   ]
  },
  {
   "cell_type": "markdown",
   "id": "7a3f5ec2",
   "metadata": {},
   "source": [
    "Here are all the files associated with our target file in some way."
   ]
  },
  {
   "cell_type": "code",
   "execution_count": 17,
   "id": "ae6160e3",
   "metadata": {},
   "outputs": [
    {
     "data": {
      "text/plain": [
       "[<BIDSJSONFile filename='D:\\miniconda3\\lib\\site-packages\\bids\\tests\\data\\synthetic\\task-nback_bold.json'>,\n",
       " <BIDSDataFile filename='D:\\miniconda3\\lib\\site-packages\\bids\\tests\\data\\synthetic\\sub-01\\ses-01\\func\\sub-01_ses-01_task-nback_run-01_physio.tsv.gz'>,\n",
       " <BIDSDataFile filename='D:\\miniconda3\\lib\\site-packages\\bids\\tests\\data\\synthetic\\sub-01\\ses-01\\func\\sub-01_ses-01_task-nback_run-01_stim.tsv.gz'>]"
      ]
     },
     "execution_count": 17,
     "metadata": {},
     "output_type": "execute_result"
    }
   ],
   "source": [
    "bf.get_associations()"
   ]
  },
  {
   "cell_type": "markdown",
   "id": "d2d657a2",
   "metadata": {},
   "source": [
    "In cases where a file has a `.tsv.gz` or `.tsv` extension, it will automatically be created as a `BIDSDataFile`, and we can easily grab the contents as a pandas `DataFrame`.\n"
   ]
  },
  {
   "cell_type": "code",
   "execution_count": 18,
   "id": "2bd7e7b5",
   "metadata": {},
   "outputs": [
    {
     "data": {
      "text/html": [
       "<div>\n",
       "<style scoped>\n",
       "    .dataframe tbody tr th:only-of-type {\n",
       "        vertical-align: middle;\n",
       "    }\n",
       "\n",
       "    .dataframe tbody tr th {\n",
       "        vertical-align: top;\n",
       "    }\n",
       "\n",
       "    .dataframe thead th {\n",
       "        text-align: right;\n",
       "    }\n",
       "</style>\n",
       "<table border=\"1\" class=\"dataframe\">\n",
       "  <thead>\n",
       "    <tr style=\"text-align: right;\">\n",
       "      <th></th>\n",
       "      <th>onset</th>\n",
       "      <th>respiratory</th>\n",
       "      <th>cardiac</th>\n",
       "    </tr>\n",
       "  </thead>\n",
       "  <tbody>\n",
       "    <tr>\n",
       "      <th>0</th>\n",
       "      <td>0.0</td>\n",
       "      <td>-0.714844</td>\n",
       "      <td>-0.262109</td>\n",
       "    </tr>\n",
       "    <tr>\n",
       "      <th>1</th>\n",
       "      <td>0.1</td>\n",
       "      <td>-0.757342</td>\n",
       "      <td>0.048933</td>\n",
       "    </tr>\n",
       "    <tr>\n",
       "      <th>2</th>\n",
       "      <td>0.2</td>\n",
       "      <td>-0.796851</td>\n",
       "      <td>0.355185</td>\n",
       "    </tr>\n",
       "    <tr>\n",
       "      <th>3</th>\n",
       "      <td>0.3</td>\n",
       "      <td>-0.833215</td>\n",
       "      <td>0.626669</td>\n",
       "    </tr>\n",
       "    <tr>\n",
       "      <th>4</th>\n",
       "      <td>0.4</td>\n",
       "      <td>-0.866291</td>\n",
       "      <td>0.836810</td>\n",
       "    </tr>\n",
       "  </tbody>\n",
       "</table>\n",
       "</div>"
      ],
      "text/plain": [
       "   onset  respiratory   cardiac\n",
       "0    0.0    -0.714844 -0.262109\n",
       "1    0.1    -0.757342  0.048933\n",
       "2    0.2    -0.796851  0.355185\n",
       "3    0.3    -0.833215  0.626669\n",
       "4    0.4    -0.866291  0.836810"
      ]
     },
     "execution_count": 18,
     "metadata": {},
     "output_type": "execute_result"
    }
   ],
   "source": [
    "# Get the first physiological recording file\n",
    "recfile = layout.get(suffix='physio')[0]\n",
    "\n",
    "# Get contents as a DataFrame and show the first few rows\n",
    "df = recfile.get_df()\n",
    "df.head()"
   ]
  },
  {
   "cell_type": "markdown",
   "id": "871c98d2",
   "metadata": {},
   "source": [
    "## Other utilities"
   ]
  },
  {
   "cell_type": "markdown",
   "id": "fcf3c781",
   "metadata": {},
   "source": [
    "### Exporting a `BIDSLayout` to a pandas `Dataframe`\n",
    "If you want a summary of all the files in your `BIDSLayout`, but don't want to have to iterate `BIDSFile` objects and extract their entities, you can get a nice bird's-eye view of your dataset using the `to_df()` method."
   ]
  },
  {
   "cell_type": "code",
   "execution_count": 19,
   "id": "6d649d73",
   "metadata": {},
   "outputs": [
    {
     "data": {
      "text/html": [
       "<div>\n",
       "<style scoped>\n",
       "    .dataframe tbody tr th:only-of-type {\n",
       "        vertical-align: middle;\n",
       "    }\n",
       "\n",
       "    .dataframe tbody tr th {\n",
       "        vertical-align: top;\n",
       "    }\n",
       "\n",
       "    .dataframe thead th {\n",
       "        text-align: right;\n",
       "    }\n",
       "</style>\n",
       "<table border=\"1\" class=\"dataframe\">\n",
       "  <thead>\n",
       "    <tr style=\"text-align: right;\">\n",
       "      <th>entity</th>\n",
       "      <th>path</th>\n",
       "      <th>datatype</th>\n",
       "      <th>extension</th>\n",
       "      <th>run</th>\n",
       "      <th>scans</th>\n",
       "      <th>session</th>\n",
       "      <th>subject</th>\n",
       "      <th>suffix</th>\n",
       "      <th>task</th>\n",
       "    </tr>\n",
       "  </thead>\n",
       "  <tbody>\n",
       "    <tr>\n",
       "      <th>0</th>\n",
       "      <td>D:\\miniconda3\\lib\\site-packages\\bids\\tests\\dat...</td>\n",
       "      <td>NaN</td>\n",
       "      <td>.json</td>\n",
       "      <td>NaN</td>\n",
       "      <td>NaN</td>\n",
       "      <td>NaN</td>\n",
       "      <td>NaN</td>\n",
       "      <td>description</td>\n",
       "      <td>NaN</td>\n",
       "    </tr>\n",
       "    <tr>\n",
       "      <th>1</th>\n",
       "      <td>D:\\miniconda3\\lib\\site-packages\\bids\\tests\\dat...</td>\n",
       "      <td>NaN</td>\n",
       "      <td>.tsv</td>\n",
       "      <td>NaN</td>\n",
       "      <td>NaN</td>\n",
       "      <td>NaN</td>\n",
       "      <td>NaN</td>\n",
       "      <td>participants</td>\n",
       "      <td>NaN</td>\n",
       "    </tr>\n",
       "    <tr>\n",
       "      <th>2</th>\n",
       "      <td>D:\\miniconda3\\lib\\site-packages\\bids\\tests\\dat...</td>\n",
       "      <td>anat</td>\n",
       "      <td>.nii</td>\n",
       "      <td>NaN</td>\n",
       "      <td>NaN</td>\n",
       "      <td>01</td>\n",
       "      <td>01</td>\n",
       "      <td>T1w</td>\n",
       "      <td>NaN</td>\n",
       "    </tr>\n",
       "    <tr>\n",
       "      <th>3</th>\n",
       "      <td>D:\\miniconda3\\lib\\site-packages\\bids\\tests\\dat...</td>\n",
       "      <td>anat</td>\n",
       "      <td>.nii.gz</td>\n",
       "      <td>NaN</td>\n",
       "      <td>NaN</td>\n",
       "      <td>01</td>\n",
       "      <td>01</td>\n",
       "      <td>T1w</td>\n",
       "      <td>NaN</td>\n",
       "    </tr>\n",
       "    <tr>\n",
       "      <th>4</th>\n",
       "      <td>D:\\miniconda3\\lib\\site-packages\\bids\\tests\\dat...</td>\n",
       "      <td>func</td>\n",
       "      <td>.nii</td>\n",
       "      <td>1</td>\n",
       "      <td>NaN</td>\n",
       "      <td>01</td>\n",
       "      <td>01</td>\n",
       "      <td>bold</td>\n",
       "      <td>nback</td>\n",
       "    </tr>\n",
       "  </tbody>\n",
       "</table>\n",
       "</div>"
      ],
      "text/plain": [
       "entity                                               path datatype extension  \\\n",
       "0       D:\\miniconda3\\lib\\site-packages\\bids\\tests\\dat...      NaN     .json   \n",
       "1       D:\\miniconda3\\lib\\site-packages\\bids\\tests\\dat...      NaN      .tsv   \n",
       "2       D:\\miniconda3\\lib\\site-packages\\bids\\tests\\dat...     anat      .nii   \n",
       "3       D:\\miniconda3\\lib\\site-packages\\bids\\tests\\dat...     anat   .nii.gz   \n",
       "4       D:\\miniconda3\\lib\\site-packages\\bids\\tests\\dat...     func      .nii   \n",
       "\n",
       "entity  run scans session subject        suffix   task  \n",
       "0       NaN   NaN     NaN     NaN   description    NaN  \n",
       "1       NaN   NaN     NaN     NaN  participants    NaN  \n",
       "2       NaN   NaN      01      01           T1w    NaN  \n",
       "3       NaN   NaN      01      01           T1w    NaN  \n",
       "4         1   NaN      01      01          bold  nback  "
      ]
     },
     "execution_count": 19,
     "metadata": {},
     "output_type": "execute_result"
    }
   ],
   "source": [
    "# Convert the layout to a pandas dataframe\n",
    "df = layout.to_df()\n",
    "df.head()"
   ]
  },
  {
   "cell_type": "markdown",
   "id": "7de3d462",
   "metadata": {},
   "source": [
    "We can also include metadata in the result if we like (which may blow up our `DataFrame` if we have a large dataset). Note that in this case, most of our cells will have missing values."
   ]
  },
  {
   "cell_type": "code",
   "execution_count": 20,
   "id": "ba426a89",
   "metadata": {},
   "outputs": [
    {
     "data": {
      "text/html": [
       "<div>\n",
       "<style scoped>\n",
       "    .dataframe tbody tr th:only-of-type {\n",
       "        vertical-align: middle;\n",
       "    }\n",
       "\n",
       "    .dataframe tbody tr th {\n",
       "        vertical-align: top;\n",
       "    }\n",
       "\n",
       "    .dataframe thead th {\n",
       "        text-align: right;\n",
       "    }\n",
       "</style>\n",
       "<table border=\"1\" class=\"dataframe\">\n",
       "  <thead>\n",
       "    <tr style=\"text-align: right;\">\n",
       "      <th>entity</th>\n",
       "      <th>path</th>\n",
       "      <th>Columns</th>\n",
       "      <th>RepetitionTime</th>\n",
       "      <th>SamplingFrequency</th>\n",
       "      <th>StartTime</th>\n",
       "      <th>TaskName</th>\n",
       "      <th>datatype</th>\n",
       "      <th>extension</th>\n",
       "      <th>run</th>\n",
       "      <th>scans</th>\n",
       "      <th>session</th>\n",
       "      <th>subject</th>\n",
       "      <th>suffix</th>\n",
       "      <th>task</th>\n",
       "    </tr>\n",
       "  </thead>\n",
       "  <tbody>\n",
       "    <tr>\n",
       "      <th>0</th>\n",
       "      <td>D:\\miniconda3\\lib\\site-packages\\bids\\tests\\dat...</td>\n",
       "      <td>NaN</td>\n",
       "      <td>NaN</td>\n",
       "      <td>NaN</td>\n",
       "      <td>NaN</td>\n",
       "      <td>NaN</td>\n",
       "      <td>NaN</td>\n",
       "      <td>.json</td>\n",
       "      <td>NaN</td>\n",
       "      <td>NaN</td>\n",
       "      <td>NaN</td>\n",
       "      <td>NaN</td>\n",
       "      <td>description</td>\n",
       "      <td>NaN</td>\n",
       "    </tr>\n",
       "    <tr>\n",
       "      <th>1</th>\n",
       "      <td>D:\\miniconda3\\lib\\site-packages\\bids\\tests\\dat...</td>\n",
       "      <td>NaN</td>\n",
       "      <td>NaN</td>\n",
       "      <td>NaN</td>\n",
       "      <td>NaN</td>\n",
       "      <td>NaN</td>\n",
       "      <td>NaN</td>\n",
       "      <td>.tsv</td>\n",
       "      <td>NaN</td>\n",
       "      <td>NaN</td>\n",
       "      <td>NaN</td>\n",
       "      <td>NaN</td>\n",
       "      <td>participants</td>\n",
       "      <td>NaN</td>\n",
       "    </tr>\n",
       "    <tr>\n",
       "      <th>2</th>\n",
       "      <td>D:\\miniconda3\\lib\\site-packages\\bids\\tests\\dat...</td>\n",
       "      <td>NaN</td>\n",
       "      <td>NaN</td>\n",
       "      <td>NaN</td>\n",
       "      <td>NaN</td>\n",
       "      <td>NaN</td>\n",
       "      <td>anat</td>\n",
       "      <td>.nii</td>\n",
       "      <td>NaN</td>\n",
       "      <td>NaN</td>\n",
       "      <td>01</td>\n",
       "      <td>01</td>\n",
       "      <td>T1w</td>\n",
       "      <td>NaN</td>\n",
       "    </tr>\n",
       "    <tr>\n",
       "      <th>3</th>\n",
       "      <td>D:\\miniconda3\\lib\\site-packages\\bids\\tests\\dat...</td>\n",
       "      <td>NaN</td>\n",
       "      <td>NaN</td>\n",
       "      <td>NaN</td>\n",
       "      <td>NaN</td>\n",
       "      <td>NaN</td>\n",
       "      <td>anat</td>\n",
       "      <td>.nii.gz</td>\n",
       "      <td>NaN</td>\n",
       "      <td>NaN</td>\n",
       "      <td>01</td>\n",
       "      <td>01</td>\n",
       "      <td>T1w</td>\n",
       "      <td>NaN</td>\n",
       "    </tr>\n",
       "    <tr>\n",
       "      <th>4</th>\n",
       "      <td>D:\\miniconda3\\lib\\site-packages\\bids\\tests\\dat...</td>\n",
       "      <td>NaN</td>\n",
       "      <td>2.5</td>\n",
       "      <td>NaN</td>\n",
       "      <td>NaN</td>\n",
       "      <td>N-Back</td>\n",
       "      <td>func</td>\n",
       "      <td>.nii</td>\n",
       "      <td>1</td>\n",
       "      <td>NaN</td>\n",
       "      <td>01</td>\n",
       "      <td>01</td>\n",
       "      <td>bold</td>\n",
       "      <td>nback</td>\n",
       "    </tr>\n",
       "  </tbody>\n",
       "</table>\n",
       "</div>"
      ],
      "text/plain": [
       "entity                                               path Columns  \\\n",
       "0       D:\\miniconda3\\lib\\site-packages\\bids\\tests\\dat...     NaN   \n",
       "1       D:\\miniconda3\\lib\\site-packages\\bids\\tests\\dat...     NaN   \n",
       "2       D:\\miniconda3\\lib\\site-packages\\bids\\tests\\dat...     NaN   \n",
       "3       D:\\miniconda3\\lib\\site-packages\\bids\\tests\\dat...     NaN   \n",
       "4       D:\\miniconda3\\lib\\site-packages\\bids\\tests\\dat...     NaN   \n",
       "\n",
       "entity RepetitionTime SamplingFrequency StartTime TaskName datatype extension  \\\n",
       "0                 NaN               NaN       NaN      NaN      NaN     .json   \n",
       "1                 NaN               NaN       NaN      NaN      NaN      .tsv   \n",
       "2                 NaN               NaN       NaN      NaN     anat      .nii   \n",
       "3                 NaN               NaN       NaN      NaN     anat   .nii.gz   \n",
       "4                 2.5               NaN       NaN   N-Back     func      .nii   \n",
       "\n",
       "entity  run scans session subject        suffix   task  \n",
       "0       NaN   NaN     NaN     NaN   description    NaN  \n",
       "1       NaN   NaN     NaN     NaN  participants    NaN  \n",
       "2       NaN   NaN      01      01           T1w    NaN  \n",
       "3       NaN   NaN      01      01           T1w    NaN  \n",
       "4         1   NaN      01      01          bold  nback  "
      ]
     },
     "execution_count": 20,
     "metadata": {},
     "output_type": "execute_result"
    }
   ],
   "source": [
    "df = layout.to_df(metadata=True)\n",
    "df.head()"
   ]
  },
  {
   "cell_type": "markdown",
   "id": "0d57ba14",
   "metadata": {},
   "source": [
    "## Retrieving BIDS variables \n",
    "BIDS variables are stored in .tsv files at the run, session, subject, or dataset level. You can retrieve these variables with `layout.get_collections()`. The resulting objects can be converted to dataframes and merged with the layout to associate the variables with corresponding scans.\n",
    "\n",
    "In the following example, we request all subject-level variable data available anywhere in the BIDS project, and merge the results into a single `DataFrame` (by default, we'll get back a single `BIDSVariableCollection` object for each subject). "
   ]
  },
  {
   "cell_type": "code",
   "execution_count": 21,
   "id": "5ccdfa7e",
   "metadata": {},
   "outputs": [
    {
     "data": {
      "text/html": [
       "<div>\n",
       "<style scoped>\n",
       "    .dataframe tbody tr th:only-of-type {\n",
       "        vertical-align: middle;\n",
       "    }\n",
       "\n",
       "    .dataframe tbody tr th {\n",
       "        vertical-align: top;\n",
       "    }\n",
       "\n",
       "    .dataframe thead th {\n",
       "        text-align: right;\n",
       "    }\n",
       "</style>\n",
       "<table border=\"1\" class=\"dataframe\">\n",
       "  <thead>\n",
       "    <tr style=\"text-align: right;\">\n",
       "      <th></th>\n",
       "      <th>session</th>\n",
       "      <th>subject</th>\n",
       "      <th>systolic_blood_pressure</th>\n",
       "      <th>suffix</th>\n",
       "    </tr>\n",
       "  </thead>\n",
       "  <tbody>\n",
       "    <tr>\n",
       "      <th>0</th>\n",
       "      <td>01</td>\n",
       "      <td>01</td>\n",
       "      <td>112</td>\n",
       "      <td>sessions</td>\n",
       "    </tr>\n",
       "    <tr>\n",
       "      <th>1</th>\n",
       "      <td>01</td>\n",
       "      <td>02</td>\n",
       "      <td>114</td>\n",
       "      <td>sessions</td>\n",
       "    </tr>\n",
       "    <tr>\n",
       "      <th>2</th>\n",
       "      <td>01</td>\n",
       "      <td>03</td>\n",
       "      <td>112</td>\n",
       "      <td>sessions</td>\n",
       "    </tr>\n",
       "    <tr>\n",
       "      <th>3</th>\n",
       "      <td>01</td>\n",
       "      <td>04</td>\n",
       "      <td>111</td>\n",
       "      <td>sessions</td>\n",
       "    </tr>\n",
       "    <tr>\n",
       "      <th>4</th>\n",
       "      <td>01</td>\n",
       "      <td>05</td>\n",
       "      <td>114</td>\n",
       "      <td>sessions</td>\n",
       "    </tr>\n",
       "  </tbody>\n",
       "</table>\n",
       "</div>"
      ],
      "text/plain": [
       "  session subject  systolic_blood_pressure    suffix\n",
       "0      01      01                      112  sessions\n",
       "1      01      02                      114  sessions\n",
       "2      01      03                      112  sessions\n",
       "3      01      04                      111  sessions\n",
       "4      01      05                      114  sessions"
      ]
     },
     "execution_count": 21,
     "metadata": {},
     "output_type": "execute_result"
    }
   ],
   "source": [
    "# Get subject variables as a dataframe and merge them back in with the layout\n",
    "subj_df = layout.get_collections(level='subject', merge=True).to_df()\n",
    "subj_df.head()"
   ]
  },
  {
   "cell_type": "code",
   "execution_count": 22,
   "id": "1d0fa64d",
   "metadata": {},
   "outputs": [
    {
     "data": {
      "text/html": [
       "<div>\n",
       "<style scoped>\n",
       "    .dataframe tbody tr th:only-of-type {\n",
       "        vertical-align: middle;\n",
       "    }\n",
       "\n",
       "    .dataframe tbody tr th {\n",
       "        vertical-align: top;\n",
       "    }\n",
       "\n",
       "    .dataframe thead th {\n",
       "        text-align: right;\n",
       "    }\n",
       "</style>\n",
       "<table border=\"1\" class=\"dataframe\">\n",
       "  <thead>\n",
       "    <tr style=\"text-align: right;\">\n",
       "      <th></th>\n",
       "      <th>subject</th>\n",
       "      <th>age</th>\n",
       "      <th>sex</th>\n",
       "      <th>subject_id</th>\n",
       "      <th>suffix</th>\n",
       "    </tr>\n",
       "  </thead>\n",
       "  <tbody>\n",
       "    <tr>\n",
       "      <th>0</th>\n",
       "      <td>01</td>\n",
       "      <td>34</td>\n",
       "      <td>F</td>\n",
       "      <td>001</td>\n",
       "      <td>participants</td>\n",
       "    </tr>\n",
       "    <tr>\n",
       "      <th>1</th>\n",
       "      <td>02</td>\n",
       "      <td>38</td>\n",
       "      <td>M</td>\n",
       "      <td>2</td>\n",
       "      <td>participants</td>\n",
       "    </tr>\n",
       "    <tr>\n",
       "      <th>2</th>\n",
       "      <td>03</td>\n",
       "      <td>22</td>\n",
       "      <td>M</td>\n",
       "      <td>3</td>\n",
       "      <td>participants</td>\n",
       "    </tr>\n",
       "    <tr>\n",
       "      <th>3</th>\n",
       "      <td>04</td>\n",
       "      <td>21</td>\n",
       "      <td>F</td>\n",
       "      <td>4</td>\n",
       "      <td>participants</td>\n",
       "    </tr>\n",
       "    <tr>\n",
       "      <th>4</th>\n",
       "      <td>05</td>\n",
       "      <td>42</td>\n",
       "      <td>M</td>\n",
       "      <td>5</td>\n",
       "      <td>participants</td>\n",
       "    </tr>\n",
       "  </tbody>\n",
       "</table>\n",
       "</div>"
      ],
      "text/plain": [
       "  subject age sex subject_id        suffix\n",
       "0      01  34   F        001  participants\n",
       "1      02  38   M          2  participants\n",
       "2      03  22   M          3  participants\n",
       "3      04  21   F          4  participants\n",
       "4      05  42   M          5  participants"
      ]
     },
     "execution_count": 22,
     "metadata": {},
     "output_type": "execute_result"
    }
   ],
   "source": [
    "# Get dataset variables as a dataframe and merge them back in with the layout\n",
    "layout.get_collections(level='dataset', merge=True).to_df()"
   ]
  },
  {
   "cell_type": "markdown",
   "id": "50eeef0c",
   "metadata": {},
   "source": [
    "## Report generation\n",
    "`PyBIDS` also allows you to automatically create data acquisition reports based on the available `image` and `meta-data` information. This enables a new level of standardisation and transparency. FAIR-ness, meta-analyses, etc.). "
   ]
  },
  {
   "cell_type": "code",
   "execution_count": 23,
   "id": "a089b960",
   "metadata": {},
   "outputs": [],
   "source": [
    "# import the BIDSReport function from the reports submodule\n",
    "from bids.reports import BIDSReport"
   ]
  },
  {
   "cell_type": "markdown",
   "id": "1f0ea233",
   "metadata": {},
   "source": [
    "Now we only need to apply the `BIDSReport` function to our `layout` and generate our report. We'll get some warnings as the example data set is missing some parts."
   ]
  },
  {
   "cell_type": "code",
   "execution_count": 24,
   "id": "981212ff",
   "metadata": {},
   "outputs": [],
   "source": [
    "# Initialize a report for the dataset\n",
    "report = BIDSReport(layout)"
   ]
  },
  {
   "cell_type": "code",
   "execution_count": 25,
   "id": "6a681c0c",
   "metadata": {},
   "outputs": [
    {
     "name": "stderr",
     "output_type": "stream",
     "text": [
      "WARNING:pybids.reports.parsing:No json file found for D:\\miniconda3\\lib\\site-packages\\bids\\tests\\data\\synthetic\\sub-02\\ses-01\\anat\\sub-02_ses-01_T1w.nii\n",
      "WARNING:pybids.reports.parsing:No json file found for D:\\miniconda3\\lib\\site-packages\\bids\\tests\\data\\synthetic\\sub-02\\ses-01\\anat\\sub-02_ses-01_T1w.nii.gz\n",
      "WARNING:pybids.reports.parsing:No json file found for D:\\miniconda3\\lib\\site-packages\\bids\\tests\\data\\synthetic\\sub-02\\ses-02\\anat\\sub-02_ses-02_T1w.nii\n",
      "WARNING:pybids.reports.parsing:No json file found for D:\\miniconda3\\lib\\site-packages\\bids\\tests\\data\\synthetic\\sub-02\\ses-02\\anat\\sub-02_ses-02_T1w.nii.gz\n",
      "WARNING:pybids.reports.parsing:No json file found for D:\\miniconda3\\lib\\site-packages\\bids\\tests\\data\\synthetic\\sub-02\\ses-01\\anat\\sub-02_ses-01_T1w.nii\n",
      "WARNING:pybids.reports.parsing:No json file found for D:\\miniconda3\\lib\\site-packages\\bids\\tests\\data\\synthetic\\sub-02\\ses-01\\anat\\sub-02_ses-01_T1w.nii.gz\n",
      "WARNING:pybids.reports.parsing:No json file found for D:\\miniconda3\\lib\\site-packages\\bids\\tests\\data\\synthetic\\sub-02\\ses-02\\anat\\sub-02_ses-02_T1w.nii\n",
      "WARNING:pybids.reports.parsing:No json file found for D:\\miniconda3\\lib\\site-packages\\bids\\tests\\data\\synthetic\\sub-02\\ses-02\\anat\\sub-02_ses-02_T1w.nii.gz\n",
      "WARNING:pybids.reports.parsing:No json file found for D:\\miniconda3\\lib\\site-packages\\bids\\tests\\data\\synthetic\\sub-04\\ses-01\\anat\\sub-04_ses-01_T1w.nii\n",
      "WARNING:pybids.reports.parsing:No json file found for D:\\miniconda3\\lib\\site-packages\\bids\\tests\\data\\synthetic\\sub-04\\ses-01\\anat\\sub-04_ses-01_T1w.nii.gz\n",
      "WARNING:pybids.reports.parsing:No json file found for D:\\miniconda3\\lib\\site-packages\\bids\\tests\\data\\synthetic\\sub-04\\ses-02\\anat\\sub-04_ses-02_T1w.nii\n",
      "WARNING:pybids.reports.parsing:No json file found for D:\\miniconda3\\lib\\site-packages\\bids\\tests\\data\\synthetic\\sub-04\\ses-02\\anat\\sub-04_ses-02_T1w.nii.gz\n",
      "WARNING:pybids.reports.parsing:No json file found for D:\\miniconda3\\lib\\site-packages\\bids\\tests\\data\\synthetic\\sub-04\\ses-01\\anat\\sub-04_ses-01_T1w.nii\n",
      "WARNING:pybids.reports.parsing:No json file found for D:\\miniconda3\\lib\\site-packages\\bids\\tests\\data\\synthetic\\sub-04\\ses-01\\anat\\sub-04_ses-01_T1w.nii.gz\n",
      "WARNING:pybids.reports.parsing:No json file found for D:\\miniconda3\\lib\\site-packages\\bids\\tests\\data\\synthetic\\sub-04\\ses-02\\anat\\sub-04_ses-02_T1w.nii\n",
      "WARNING:pybids.reports.parsing:No json file found for D:\\miniconda3\\lib\\site-packages\\bids\\tests\\data\\synthetic\\sub-04\\ses-02\\anat\\sub-04_ses-02_T1w.nii.gz\n",
      "WARNING:pybids.reports.parsing:No json file found for D:\\miniconda3\\lib\\site-packages\\bids\\tests\\data\\synthetic\\sub-01\\ses-01\\anat\\sub-01_ses-01_T1w.nii\n",
      "WARNING:pybids.reports.parsing:No json file found for D:\\miniconda3\\lib\\site-packages\\bids\\tests\\data\\synthetic\\sub-01\\ses-01\\anat\\sub-01_ses-01_T1w.nii.gz\n",
      "WARNING:pybids.reports.parsing:No json file found for D:\\miniconda3\\lib\\site-packages\\bids\\tests\\data\\synthetic\\sub-01\\ses-02\\anat\\sub-01_ses-02_T1w.nii\n",
      "WARNING:pybids.reports.parsing:No json file found for D:\\miniconda3\\lib\\site-packages\\bids\\tests\\data\\synthetic\\sub-01\\ses-02\\anat\\sub-01_ses-02_T1w.nii.gz\n",
      "WARNING:pybids.reports.parsing:No json file found for D:\\miniconda3\\lib\\site-packages\\bids\\tests\\data\\synthetic\\sub-01\\ses-01\\anat\\sub-01_ses-01_T1w.nii\n",
      "WARNING:pybids.reports.parsing:No json file found for D:\\miniconda3\\lib\\site-packages\\bids\\tests\\data\\synthetic\\sub-01\\ses-01\\anat\\sub-01_ses-01_T1w.nii.gz\n",
      "WARNING:pybids.reports.parsing:No json file found for D:\\miniconda3\\lib\\site-packages\\bids\\tests\\data\\synthetic\\sub-01\\ses-02\\anat\\sub-01_ses-02_T1w.nii\n",
      "WARNING:pybids.reports.parsing:No json file found for D:\\miniconda3\\lib\\site-packages\\bids\\tests\\data\\synthetic\\sub-01\\ses-02\\anat\\sub-01_ses-02_T1w.nii.gz\n",
      "WARNING:pybids.reports.parsing:No json file found for D:\\miniconda3\\lib\\site-packages\\bids\\tests\\data\\synthetic\\sub-03\\ses-01\\anat\\sub-03_ses-01_T1w.nii\n",
      "WARNING:pybids.reports.parsing:No json file found for D:\\miniconda3\\lib\\site-packages\\bids\\tests\\data\\synthetic\\sub-03\\ses-01\\anat\\sub-03_ses-01_T1w.nii.gz\n",
      "WARNING:pybids.reports.parsing:No json file found for D:\\miniconda3\\lib\\site-packages\\bids\\tests\\data\\synthetic\\sub-03\\ses-02\\anat\\sub-03_ses-02_T1w.nii\n",
      "WARNING:pybids.reports.parsing:No json file found for D:\\miniconda3\\lib\\site-packages\\bids\\tests\\data\\synthetic\\sub-03\\ses-02\\anat\\sub-03_ses-02_T1w.nii.gz\n",
      "WARNING:pybids.reports.parsing:No json file found for D:\\miniconda3\\lib\\site-packages\\bids\\tests\\data\\synthetic\\sub-03\\ses-01\\anat\\sub-03_ses-01_T1w.nii\n",
      "WARNING:pybids.reports.parsing:No json file found for D:\\miniconda3\\lib\\site-packages\\bids\\tests\\data\\synthetic\\sub-03\\ses-01\\anat\\sub-03_ses-01_T1w.nii.gz\n",
      "WARNING:pybids.reports.parsing:No json file found for D:\\miniconda3\\lib\\site-packages\\bids\\tests\\data\\synthetic\\sub-03\\ses-02\\anat\\sub-03_ses-02_T1w.nii\n",
      "WARNING:pybids.reports.parsing:No json file found for D:\\miniconda3\\lib\\site-packages\\bids\\tests\\data\\synthetic\\sub-03\\ses-02\\anat\\sub-03_ses-02_T1w.nii.gz\n",
      "WARNING:pybids.reports.parsing:No json file found for D:\\miniconda3\\lib\\site-packages\\bids\\tests\\data\\synthetic\\sub-05\\ses-01\\anat\\sub-05_ses-01_T1w.nii\n",
      "WARNING:pybids.reports.parsing:No json file found for D:\\miniconda3\\lib\\site-packages\\bids\\tests\\data\\synthetic\\sub-05\\ses-01\\anat\\sub-05_ses-01_T1w.nii.gz\n",
      "WARNING:pybids.reports.parsing:No json file found for D:\\miniconda3\\lib\\site-packages\\bids\\tests\\data\\synthetic\\sub-05\\ses-02\\anat\\sub-05_ses-02_T1w.nii\n",
      "WARNING:pybids.reports.parsing:No json file found for D:\\miniconda3\\lib\\site-packages\\bids\\tests\\data\\synthetic\\sub-05\\ses-02\\anat\\sub-05_ses-02_T1w.nii.gz\n",
      "WARNING:pybids.reports.parsing:No json file found for D:\\miniconda3\\lib\\site-packages\\bids\\tests\\data\\synthetic\\sub-05\\ses-01\\anat\\sub-05_ses-01_T1w.nii\n",
      "WARNING:pybids.reports.parsing:No json file found for D:\\miniconda3\\lib\\site-packages\\bids\\tests\\data\\synthetic\\sub-05\\ses-01\\anat\\sub-05_ses-01_T1w.nii.gz\n",
      "WARNING:pybids.reports.parsing:No json file found for D:\\miniconda3\\lib\\site-packages\\bids\\tests\\data\\synthetic\\sub-05\\ses-02\\anat\\sub-05_ses-02_T1w.nii\n",
      "WARNING:pybids.reports.parsing:No json file found for D:\\miniconda3\\lib\\site-packages\\bids\\tests\\data\\synthetic\\sub-05\\ses-02\\anat\\sub-05_ses-02_T1w.nii.gz\n"
     ]
    },
    {
     "name": "stdout",
     "output_type": "stream",
     "text": [
      "Number of patterns detected: 1\n",
      "Remember to double-check everything and to replace <deg> with a degree symbol.\n"
     ]
    }
   ],
   "source": [
    "# Method generate returns a Counter of unique descriptions across subjects\n",
    "descriptions = report.generate()"
   ]
  },
  {
   "cell_type": "markdown",
   "id": "cfb99281",
   "metadata": {},
   "source": [
    "As we can see, one pattern was detected and we can evaluate the actual corresponding information, that is our report."
   ]
  },
  {
   "cell_type": "code",
   "execution_count": 26,
   "id": "bb7daac1",
   "metadata": {},
   "outputs": [
    {
     "name": "stdout",
     "output_type": "stream",
     "text": [
      "For session 02:\n",
      "\tMR data were acquired using a UNKNOWN-Tesla MANUFACTURER MODEL MRI scanner.\n",
      "\tTwo runs of N-Back UNKNOWN-echo fMRI data were collected (64 slices; repetition time, TR=2500ms; echo time, TE=UNKNOWNms; flip angle, FA=UNKNOWN<deg>; field of view, FOV=128x128mm; matrix size=64x64; voxel size=2x2x2mm). Each run was 2:40 minutes in length, during which 64 functional volumes were acquired. \n",
      "\tOne run of Rest UNKNOWN-echo fMRI data were collected (64 slices; repetition time, TR=2500ms; echo time, TE=UNKNOWNms; flip angle, FA=UNKNOWN<deg>; field of view, FOV=128x128mm; matrix size=64x64; voxel size=2x2x2mm). Each run was 2:40 minutes in length, during which 64 functional volumes were acquired. \n",
      "\n",
      "For session 01:\n",
      "\tMR data were acquired using a UNKNOWN-Tesla MANUFACTURER MODEL MRI scanner.\n",
      "\tTwo runs of N-Back UNKNOWN-echo fMRI data were collected (64 slices; repetition time, TR=2500ms; echo time, TE=UNKNOWNms; flip angle, FA=UNKNOWN<deg>; field of view, FOV=128x128mm; matrix size=64x64; voxel size=2x2x2mm). Each run was 2:40 minutes in length, during which 64 functional volumes were acquired. \n",
      "\tOne run of Rest UNKNOWN-echo fMRI data were collected (64 slices; repetition time, TR=2500ms; echo time, TE=UNKNOWNms; flip angle, FA=UNKNOWN<deg>; field of view, FOV=128x128mm; matrix size=64x64; voxel size=2x2x2mm). Each run was 2:40 minutes in length, during which 64 functional volumes were acquired. \n",
      "\n",
      "Dicoms were converted to NIfTI-1 format. This section was (in part) generated automatically using pybids (0.14.0). \n"
     ]
    }
   ],
   "source": [
    "pub_description = descriptions.most_common()[0][0]\n",
    "print(pub_description)"
   ]
  },
  {
   "cell_type": "code",
   "execution_count": null,
   "id": "37207901",
   "metadata": {},
   "outputs": [],
   "source": []
  }
 ],
 "metadata": {
  "kernelspec": {
   "display_name": "Python 3 (ipykernel)",
   "language": "python",
   "name": "python3"
  },
  "language_info": {
   "codemirror_mode": {
    "name": "ipython",
    "version": 3
   },
   "file_extension": ".py",
   "mimetype": "text/x-python",
   "name": "python",
   "nbconvert_exporter": "python",
   "pygments_lexer": "ipython3",
   "version": "3.9.7"
  },
  "toc": {
   "base_numbering": 1,
   "nav_menu": {},
   "number_sections": true,
   "sideBar": true,
   "skip_h1_title": true,
   "title_cell": "Table of Contents",
   "title_sidebar": "Contents",
   "toc_cell": false,
   "toc_position": {
    "height": "calc(100% - 180px)",
    "left": "10px",
    "top": "150px",
    "width": "512px"
   },
   "toc_section_display": true,
   "toc_window_display": true
  }
 },
 "nbformat": 4,
 "nbformat_minor": 5
}
