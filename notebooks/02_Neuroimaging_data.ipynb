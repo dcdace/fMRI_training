{
 "cells": [
  {
   "cell_type": "code",
   "execution_count": null,
   "id": "9d848b91",
   "metadata": {},
   "outputs": [],
   "source": []
  },
  {
   "cell_type": "markdown",
   "id": "8da6dfec",
   "metadata": {},
   "source": [
    "# Neuroimaging data"
   ]
  },
  {
   "cell_type": "markdown",
   "id": "113ee7e8",
   "metadata": {},
   "source": [
    "## Python libraries `nibabel` and `nilearn`\n",
    "<img align=\"right\" src=\"https://nipy.org/nibabel/_static/nibabel-logo.svg\" width=\"20%\">\n",
    "\n",
    "**Nibabel** is a low-level Python library that gives access to a variety of imaging formats, with a particular focus on providing a common interface to the various **volumetric** formats produced by scanners and used in common neuroimaging toolkits.\n",
    "\n",
    " - NIfTI-1\n",
    " - NIfTI-2\n",
    " - SPM Analyze\n",
    " - FreeSurfer .mgh/.mgz files\n",
    " - Philips PAR/REC\n",
    " - Siemens ECAT\n",
    " - DICOM (limited support)\n",
    "\n",
    "It also supports **surface** file formats\n",
    "\n",
    " - GIFTI\n",
    " - FreeSurfer surfaces, labels and annotations\n",
    "\n",
    "**Connectivity**\n",
    "\n",
    " - CIFTI-2\n",
    "\n",
    "**Tractography**\n",
    "\n",
    " - TrackViz .trk files\n",
    "\n",
    "And a number of related formats.\n",
    "\n",
    "**Note:** Almost all of these can be loaded through the `nibabel.load` interface."
   ]
  },
  {
   "cell_type": "markdown",
   "id": "73116cbf",
   "metadata": {},
   "source": [
    "## Reading NIfTI files\n",
    ".nii - Neuroimaging Informatics Technology Initiative"
   ]
  },
  {
   "cell_type": "code",
   "execution_count": 2,
   "id": "5f97371a",
   "metadata": {},
   "outputs": [],
   "source": [
    "import nibabel as nib"
   ]
  },
  {
   "cell_type": "markdown",
   "id": "e012bffa",
   "metadata": {},
   "source": [
    "First, use the `load()` function to create a `NiBabel` image object from a NIfTI file. We’ll load in an example `T1w` image."
   ]
  },
  {
   "cell_type": "code",
   "execution_count": 3,
   "id": "f5275f30",
   "metadata": {},
   "outputs": [],
   "source": [
    "t1_img = nib.load('sub-01_T1w.nii.gz')"
   ]
  },
  {
   "cell_type": "markdown",
   "id": "21ab3cb7",
   "metadata": {},
   "source": [
    "Loading in a NIfTI file with `NiBabel` gives us a special type of data object which encodes all the information in the file. Each bit of information is called an attribute in Python’s terminology. To see all of these attributes, type `t1_img.` followed by pressing `Tab`. There are three main attributes that we’ll discuss today:\n",
    "* `Header`\n",
    "* `Data`\n",
    "* `Affine`"
   ]
  },
  {
   "cell_type": "markdown",
   "id": "79535622",
   "metadata": {},
   "source": [
    "### Header\n",
    "`Header` contains metadata about the image, such as image dimensions, data type, etc."
   ]
  },
  {
   "cell_type": "code",
   "execution_count": 4,
   "id": "17177411",
   "metadata": {},
   "outputs": [
    {
     "name": "stdout",
     "output_type": "stream",
     "text": [
      "<class 'nibabel.nifti1.Nifti1Header'> object, endian='<'\n",
      "sizeof_hdr      : 348\n",
      "data_type       : b''\n",
      "db_name         : b''\n",
      "extents         : 0\n",
      "session_error   : 0\n",
      "regular         : b''\n",
      "dim_info        : 0\n",
      "dim             : [  3 160 192 192   1   1   1   1]\n",
      "intent_p1       : 0.0\n",
      "intent_p2       : 0.0\n",
      "intent_p3       : 0.0\n",
      "intent_code     : none\n",
      "datatype        : float32\n",
      "bitpix          : 32\n",
      "slice_start     : 0\n",
      "pixdim          : [1.        0.9999999 1.3333334 1.3333334 2.3       1.        1.\n",
      " 1.       ]\n",
      "vox_offset      : 0.0\n",
      "scl_slope       : nan\n",
      "scl_inter       : nan\n",
      "slice_end       : 0\n",
      "slice_code      : unknown\n",
      "xyzt_units      : 10\n",
      "cal_max         : 0.0\n",
      "cal_min         : 0.0\n",
      "slice_duration  : 0.0\n",
      "toffset         : 0.0\n",
      "glmax           : 0\n",
      "glmin           : 0\n",
      "descrip         : b'FreeSurfer May 13 2013'\n",
      "aux_file        : b''\n",
      "qform_code      : scanner\n",
      "sform_code      : scanner\n",
      "quatern_b       : 0.0\n",
      "quatern_c       : -0.0043632984\n",
      "quatern_d       : 0.0\n",
      "qoffset_x       : -84.77323\n",
      "qoffset_y       : -140.18002\n",
      "qoffset_z       : -144.20288\n",
      "srow_x          : [ 9.9996179e-01  0.0000000e+00 -1.1635352e-02 -8.4773232e+01]\n",
      "srow_y          : [   0.           1.3333334    0.        -140.18002  ]\n",
      "srow_z          : [ 8.7265130e-03  0.0000000e+00  1.3332826e+00 -1.4420288e+02]\n",
      "intent_name     : b''\n",
      "magic           : b'n+1'\n"
     ]
    }
   ],
   "source": [
    "t1_hdr = t1_img.header\n",
    "print(t1_hdr)"
   ]
  },
  {
   "cell_type": "markdown",
   "id": "0e98a6ab",
   "metadata": {},
   "source": [
    "`t1_hdr` is a Python **dictionary**. Dictionaries are containers that hold pairs of objects - **keys** and **values**. Let’s take a look at all of the keys. Similar to `t1_img` in which attributes can be accessed by typing `t1_img.` followed by `Tab`, you can do the same with `t1_hdr`. In particular, we’ll be using a **method** belonging to `t1_hdr` that will allow you to view the keys associated with it."
   ]
  },
  {
   "cell_type": "code",
   "execution_count": 5,
   "id": "2e60f805",
   "metadata": {},
   "outputs": [
    {
     "data": {
      "text/plain": [
       "['sizeof_hdr',\n",
       " 'data_type',\n",
       " 'db_name',\n",
       " 'extents',\n",
       " 'session_error',\n",
       " 'regular',\n",
       " 'dim_info',\n",
       " 'dim',\n",
       " 'intent_p1',\n",
       " 'intent_p2',\n",
       " 'intent_p3',\n",
       " 'intent_code',\n",
       " 'datatype',\n",
       " 'bitpix',\n",
       " 'slice_start',\n",
       " 'pixdim',\n",
       " 'vox_offset',\n",
       " 'scl_slope',\n",
       " 'scl_inter',\n",
       " 'slice_end',\n",
       " 'slice_code',\n",
       " 'xyzt_units',\n",
       " 'cal_max',\n",
       " 'cal_min',\n",
       " 'slice_duration',\n",
       " 'toffset',\n",
       " 'glmax',\n",
       " 'glmin',\n",
       " 'descrip',\n",
       " 'aux_file',\n",
       " 'qform_code',\n",
       " 'sform_code',\n",
       " 'quatern_b',\n",
       " 'quatern_c',\n",
       " 'quatern_d',\n",
       " 'qoffset_x',\n",
       " 'qoffset_y',\n",
       " 'qoffset_z',\n",
       " 'srow_x',\n",
       " 'srow_y',\n",
       " 'srow_z',\n",
       " 'intent_name',\n",
       " 'magic']"
      ]
     },
     "execution_count": 5,
     "metadata": {},
     "output_type": "execute_result"
    }
   ],
   "source": [
    "t1_hdr.keys()"
   ]
  },
  {
   "cell_type": "markdown",
   "id": "746bb086",
   "metadata": {},
   "source": [
    "Notice that **methods** require you to include `()` at the end of them whereas attributes do not. The key difference between a method and an attribute is:\n",
    "* Attributes are stored *values* kept within an object\n",
    "* Methods are *processes* that we can run using the object. Usually a method takes attributes, performs an operation on them, then returns it for you to use.\n",
    "\n",
    "The output above is a list of **keys** you can use from `t1_hdr` to access values. We can access the value stored by a given key by typing: `t1_hdr['<key_name>']`"
   ]
  },
  {
   "cell_type": "markdown",
   "id": "2eafe9e9",
   "metadata": {},
   "source": [
    "#### Exercise 1"
   ]
  },
  {
   "cell_type": "markdown",
   "id": "a5dd1e5a",
   "metadata": {},
   "source": [
    " Extract `pixdim` value from the `t1_hdr`."
   ]
  },
  {
   "cell_type": "code",
   "execution_count": 8,
   "id": "5b838a64",
   "metadata": {
    "code_folding": [],
    "solution2": "shown",
    "solution2_first": true
   },
   "outputs": [],
   "source": [
    "# Work on your solution here"
   ]
  },
  {
   "cell_type": "code",
   "execution_count": 10,
   "id": "55c69af1",
   "metadata": {
    "solution": "shown",
    "solution2": "shown",
    "solution_first": true
   },
   "outputs": [
    {
     "data": {
      "text/plain": [
       "array([1.       , 0.9999999, 1.3333334, 1.3333334, 2.3      , 1.       ,\n",
       "       1.       , 1.       ], dtype=float32)"
      ]
     },
     "execution_count": 10,
     "metadata": {},
     "output_type": "execute_result"
    }
   ],
   "source": [
    "t1_hdr['pixdim']"
   ]
  },
  {
   "cell_type": "markdown",
   "id": "b7459f80",
   "metadata": {},
   "source": [
    "## Data\n",
    "As you’ve seen above, the header contains useful information that gives us information about the properties (metadata) associated with the MR data we’ve loaded in. Now we’ll move in to loading the actual image data itself. We can achieve this by using the method called `t1_img.get_fdata()`."
   ]
  },
  {
   "cell_type": "code",
   "execution_count": 50,
   "id": "61c0a9b1",
   "metadata": {},
   "outputs": [
    {
     "data": {
      "text/plain": [
       "array([[[ 9., 26., 11., ..., 10.,  5.,  0.],\n",
       "        [ 4., 10., 13., ...,  7.,  5.,  0.],\n",
       "        [ 5.,  8., 12., ...,  5., 10.,  0.],\n",
       "        ...,\n",
       "        [11.,  5.,  8., ...,  5.,  8.,  0.],\n",
       "        [12.,  4.,  4., ...,  9., 13.,  0.],\n",
       "        [ 0.,  0.,  0., ...,  0.,  0.,  0.]],\n",
       "\n",
       "       [[13.,  7., 10., ..., 11.,  7.,  0.],\n",
       "        [18., 18.,  1., ...,  5., 24.,  0.],\n",
       "        [15.,  7.,  2., ...,  4., 16.,  0.],\n",
       "        ...,\n",
       "        [ 6., 18.,  9., ...,  5., 10.,  0.],\n",
       "        [ 8.,  8.,  8., ..., 14., 10.,  0.],\n",
       "        [ 0.,  0.,  0., ...,  0.,  0.,  0.]],\n",
       "\n",
       "       [[ 5.,  8.,  9., ...,  5., 14.,  0.],\n",
       "        [13.,  9.,  9., ...,  1., 30.,  0.],\n",
       "        [26.,  5., 12., ..., 13., 12.,  0.],\n",
       "        ...,\n",
       "        [13., 21., 13., ...,  4.,  7.,  0.],\n",
       "        [ 4., 11., 21., ..., 10., 10.,  0.],\n",
       "        [ 0.,  0.,  0., ...,  0.,  0.,  0.]],\n",
       "\n",
       "       ...,\n",
       "\n",
       "       [[ 9.,  4., 10., ...,  8.,  9.,  0.],\n",
       "        [14.,  9.,  3., ...,  3., 18.,  0.],\n",
       "        [ 4., 12.,  5., ...,  2., 12.,  0.],\n",
       "        ...,\n",
       "        [ 7., 14., 13., ...,  5.,  8.,  0.],\n",
       "        [17., 19.,  6., ...,  7.,  5.,  0.],\n",
       "        [ 0.,  0.,  0., ...,  0.,  0.,  0.]],\n",
       "\n",
       "       [[17.,  1., 14., ..., 17.,  8.,  0.],\n",
       "        [ 3., 10.,  9., ...,  4., 17.,  0.],\n",
       "        [ 8., 15.,  5., ...,  7., 12.,  0.],\n",
       "        ...,\n",
       "        [10., 17., 10., ...,  7.,  4.,  0.],\n",
       "        [16., 10.,  8., ...,  7., 10.,  0.],\n",
       "        [ 0.,  0.,  0., ...,  0.,  0.,  0.]],\n",
       "\n",
       "       [[19., 22.,  2., ...,  9.,  6.,  0.],\n",
       "        [18., 13.,  2., ..., 10.,  7.,  0.],\n",
       "        [11.,  7., 13., ...,  7.,  3.,  0.],\n",
       "        ...,\n",
       "        [ 6.,  5., 16., ...,  6.,  7.,  0.],\n",
       "        [ 7.,  2., 12., ...,  7.,  5.,  0.],\n",
       "        [ 0.,  0.,  0., ...,  0.,  0.,  0.]]])"
      ]
     },
     "execution_count": 50,
     "metadata": {},
     "output_type": "execute_result"
    }
   ],
   "source": [
    "t1_data = t1_img.get_fdata()\n",
    "t1_data"
   ]
  },
  {
   "cell_type": "markdown",
   "id": "f81f1e50",
   "metadata": {},
   "source": [
    "What type of data is this exactly? We can determine this by calling the `type()` function on `t1_data`."
   ]
  },
  {
   "cell_type": "code",
   "execution_count": 51,
   "id": "a029c046",
   "metadata": {},
   "outputs": [
    {
     "data": {
      "text/plain": [
       "numpy.ndarray"
      ]
     },
     "execution_count": 51,
     "metadata": {},
     "output_type": "execute_result"
    }
   ],
   "source": [
    "type(t1_data)"
   ]
  },
  {
   "cell_type": "markdown",
   "id": "4521c638",
   "metadata": {},
   "source": [
    "The data is a **multidimensional array** representing the image data. In Python, an array is used to store lists of numerical data into something like a table."
   ]
  },
  {
   "cell_type": "markdown",
   "id": "faf3033d",
   "metadata": {},
   "source": [
    "How can we see the number of dimensions in the `t1_data` array? Once again, all of the attributes of the array can be seen by typing `t1_data.` followed by `Tab`."
   ]
  },
  {
   "cell_type": "code",
   "execution_count": 52,
   "id": "809a2924",
   "metadata": {},
   "outputs": [
    {
     "data": {
      "text/plain": [
       "3"
      ]
     },
     "execution_count": 52,
     "metadata": {},
     "output_type": "execute_result"
    }
   ],
   "source": [
    "# number of dimensions\n",
    "t1_data.ndim"
   ]
  },
  {
   "cell_type": "code",
   "execution_count": 53,
   "id": "3297cfbb",
   "metadata": {},
   "outputs": [
    {
     "data": {
      "text/plain": [
       "(160, 192, 192)"
      ]
     },
     "execution_count": 53,
     "metadata": {},
     "output_type": "execute_result"
    }
   ],
   "source": [
    "# how big each dimension is\n",
    "t1_data.shape"
   ]
  },
  {
   "cell_type": "markdown",
   "id": "b006807d",
   "metadata": {},
   "source": [
    "The 3 numbers given here represent the number of values along a respective dimension *(x,y,z)*. This brain was scanned in 160 slices with a resolution of 192 x 192 voxels per slice. That means there are:\n",
    "\n",
    "`160 * 192 * 192 = 5898240`\n",
    "\n",
    "voxels in total!\n",
    "\n",
    "Let’s see the type of data inside of the array."
   ]
  },
  {
   "cell_type": "code",
   "execution_count": 55,
   "id": "7b50026a",
   "metadata": {},
   "outputs": [
    {
     "data": {
      "text/plain": [
       "dtype('float64')"
      ]
     },
     "execution_count": 55,
     "metadata": {},
     "output_type": "execute_result"
    }
   ],
   "source": [
    "t1_data.dtype"
   ]
  },
  {
   "cell_type": "markdown",
   "id": "d2108d0b",
   "metadata": {},
   "source": [
    "This tells us that each element in the array (or voxel) is a floating-point number.\n",
    "The data type of an image controls the range of possible intensities. As the number of possible values increases, the amount of space the image takes up in memory also increases. \n",
    "\n",
    "Let's see what the range of this image is. "
   ]
  },
  {
   "cell_type": "code",
   "execution_count": 56,
   "id": "b9f3036c",
   "metadata": {},
   "outputs": [
    {
     "name": "stdout",
     "output_type": "stream",
     "text": [
      "0.0\n",
      "962.0\n"
     ]
    }
   ],
   "source": [
    "import numpy as np\n",
    "print(np.min(t1_data))\n",
    "print(np.max(t1_data))"
   ]
  },
  {
   "cell_type": "code",
   "execution_count": null,
   "id": "be4f9454",
   "metadata": {},
   "outputs": [],
   "source": []
  },
  {
   "cell_type": "code",
   "execution_count": null,
   "id": "f2ac9ac3",
   "metadata": {},
   "outputs": [],
   "source": []
  },
  {
   "cell_type": "code",
   "execution_count": null,
   "id": "49ca1c2a",
   "metadata": {},
   "outputs": [],
   "source": []
  }
 ],
 "metadata": {
  "kernelspec": {
   "display_name": "Python 3 (ipykernel)",
   "language": "python",
   "name": "python3"
  },
  "language_info": {
   "codemirror_mode": {
    "name": "ipython",
    "version": 3
   },
   "file_extension": ".py",
   "mimetype": "text/x-python",
   "name": "python",
   "nbconvert_exporter": "python",
   "pygments_lexer": "ipython3",
   "version": "3.9.7"
  },
  "toc": {
   "base_numbering": 1,
   "nav_menu": {},
   "number_sections": true,
   "sideBar": true,
   "skip_h1_title": true,
   "title_cell": "Table of Contents",
   "title_sidebar": "Contents",
   "toc_cell": false,
   "toc_position": {},
   "toc_section_display": true,
   "toc_window_display": true
  }
 },
 "nbformat": 4,
 "nbformat_minor": 5
}
