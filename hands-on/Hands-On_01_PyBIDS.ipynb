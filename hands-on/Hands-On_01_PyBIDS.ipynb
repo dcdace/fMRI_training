{
 "cells": [
  {
   "cell_type": "markdown",
   "id": "64519477",
   "metadata": {},
   "source": [
    "# Introduction to BIDS and `PyBIDS`\n",
    "[Brain Imaging Data Structure (**BIDS**)](https://bids-specification.readthedocs.io/en/stable/) is a a standard for organizing and describing neuroimaging (and behavioural) datasets. See [BIDS paper](https://doi.org/10.1038/sdata.2016.44) and http://bids.neuroimaging.io website for more information.\n",
    "\n",
    "`PyBids` is a Python module to interface with datasets conforming BIDS. See the [documentation](https://bids-standard.github.io/pybids/) and [paper](https://www.ncbi.nlm.nih.gov/pmc/articles/PMC7409983/) for more info. `PyBids` can be installed with `pip install pybids` command.\n",
    "\n",
    "**Here we will explore some of the functionality of pybids.layout.** The material is adapted from https://github.com/bids-standard/pybids/tree/master/examples\n",
    "\n",
    "**First you will need to download the example dataset by executing the cell below:**"
   ]
  },
  {
   "cell_type": "code",
   "execution_count": 1,
   "id": "a0a7f3c4",
   "metadata": {},
   "outputs": [
    {
     "name": "stdout",
     "output_type": "stream",
     "text": [
      "Downloding the example dataset ... please wait ... \n",
      "Dataset downloaded, carry on!\n"
     ]
    }
   ],
   "source": [
    "print(\"Downloding the example dataset ... please wait ... \")\n",
    "![ ! -d \"FaceRecognition\" ] && wget \"FaceRecognition.zip\" \"https://dl.dropboxusercontent.com/s/q030cu844joczm6/FaceRecognition.zip\"\n",
    "![ ! -d \"FaceRecognition\" ] && unzip -q ~/hands-on/FaceRecognition.zip -d ~/hands-on && rm ~/hands-on/FaceRecognition.zip \n",
    "print(\"Dataset downloaded, carry on!\")"
   ]
  },
  {
   "cell_type": "markdown",
   "id": "d07d11ed",
   "metadata": {},
   "source": [
    "## The `BIDSLayout`\n",
    "A `BIDSLayout` is a Python class that represents a BIDS project file tree and provides a variety of helpful methods for querying and manipulating BIDS files. The `BIDSLayout` initializer has a large number of arguments you can use to control the way files are indexed and accessed. But usually you'd initialise a `BIDSLayout` with just its root path location."
   ]
  },
  {
   "cell_type": "code",
   "execution_count": null,
   "id": "f2e9bfb1",
   "metadata": {},
   "outputs": [],
   "source": [
    "import os\n",
    "from bids.layout import BIDSLayout\n",
    "\n",
    "ds_path = 'FaceRecognition/data/bids'\n",
    "\n",
    "# Initialize the layout\n",
    "layout = BIDSLayout(ds_path)\n",
    "\n",
    "# Print some basic information about the layout\n",
    "layout"
   ]
  },
  {
   "cell_type": "markdown",
   "id": "72e289ca",
   "metadata": {},
   "source": [
    "### Querying the BIDSLayout\n",
    "The main method for querying `BIDSLayout` is `.get()`.\n",
    "\n",
    "If we call `.get()` with no additional arguments, we get back a list of all the BIDS files in our dataset."
   ]
  },
  {
   "cell_type": "code",
   "execution_count": null,
   "id": "d8b58b95",
   "metadata": {},
   "outputs": [],
   "source": [
    "all_files = layout.get()\n",
    "print(\"There are {} files in the layout.\".format(len(all_files)))\n",
    "print(\"\\nThe first 5 files are:\")\n",
    "all_files[:5]"
   ]
  },
  {
   "cell_type": "markdown",
   "id": "41fb1f17",
   "metadata": {},
   "source": [
    "The returned object is a **Python list**. Each element in the list is a `BIDSFile` object. \n",
    "\n",
    "We can also get just filenames."
   ]
  },
  {
   "cell_type": "code",
   "execution_count": null,
   "id": "9cc55f03",
   "metadata": {},
   "outputs": [],
   "source": [
    "layout.get(return_type='filename')[:5]"
   ]
  },
  {
   "cell_type": "markdown",
   "id": "b6f76d4f",
   "metadata": {},
   "source": [
    "We can also get such information as\n",
    "* all `subject` IDs\n",
    "* all `task` names\n",
    "* dataset `description`\n",
    "* the BOLD repetition time TR\n",
    "* how many `runs` there are"
   ]
  },
  {
   "cell_type": "markdown",
   "id": "208ef1c3",
   "metadata": {},
   "source": [
    "Get a list of all subject IDs. "
   ]
  },
  {
   "cell_type": "code",
   "execution_count": null,
   "id": "638cb416",
   "metadata": {
    "solution2": "hidden",
    "solution2_first": true
   },
   "outputs": [],
   "source": [
    "# write your code here\n"
   ]
  },
  {
   "cell_type": "code",
   "execution_count": null,
   "id": "1e4c1e7b",
   "metadata": {
    "solution2": "hidden"
   },
   "outputs": [],
   "source": [
    "layout.get_subjects()"
   ]
  },
  {
   "cell_type": "markdown",
   "id": "08b6564b",
   "metadata": {},
   "source": [
    "Get a list of all tasks in this dataset"
   ]
  },
  {
   "cell_type": "code",
   "execution_count": null,
   "id": "8a8f0d7e",
   "metadata": {
    "solution2": "hidden",
    "solution2_first": true
   },
   "outputs": [],
   "source": [
    "# write your code here\n"
   ]
  },
  {
   "cell_type": "code",
   "execution_count": null,
   "id": "4dd37410",
   "metadata": {
    "solution2": "hidden"
   },
   "outputs": [],
   "source": [
    "layout.get_tasks()"
   ]
  },
  {
   "cell_type": "markdown",
   "id": "f4c25e27",
   "metadata": {},
   "source": [
    "Get description of the dataset"
   ]
  },
  {
   "cell_type": "code",
   "execution_count": null,
   "id": "29103770",
   "metadata": {
    "solution2": "hidden",
    "solution2_first": true
   },
   "outputs": [],
   "source": [
    "# write your code here\n"
   ]
  },
  {
   "cell_type": "code",
   "execution_count": null,
   "id": "f4832769",
   "metadata": {
    "solution2": "hidden"
   },
   "outputs": [],
   "source": [
    "layout.get_dataset_description()"
   ]
  },
  {
   "cell_type": "markdown",
   "id": "80b8f2e7",
   "metadata": {},
   "source": [
    "Get the repetition time of the functional runs"
   ]
  },
  {
   "cell_type": "code",
   "execution_count": null,
   "id": "c69f00d0",
   "metadata": {
    "solution2": "hidden",
    "solution2_first": true
   },
   "outputs": [],
   "source": [
    "# write your code here\n"
   ]
  },
  {
   "cell_type": "code",
   "execution_count": null,
   "id": "3791863f",
   "metadata": {
    "solution2": "hidden"
   },
   "outputs": [],
   "source": [
    "layout.get_tr()"
   ]
  },
  {
   "cell_type": "markdown",
   "id": "97937cce",
   "metadata": {},
   "source": [
    "Get functional run numbers for each subject"
   ]
  },
  {
   "cell_type": "code",
   "execution_count": null,
   "id": "2800942b",
   "metadata": {
    "solution2": "hidden",
    "solution2_first": true
   },
   "outputs": [],
   "source": [
    "# write your code here\n"
   ]
  },
  {
   "cell_type": "code",
   "execution_count": null,
   "id": "5fffe0f4",
   "metadata": {
    "solution2": "hidden"
   },
   "outputs": [],
   "source": [
    "for sID in layout.get_subjects(): \n",
    "    print(layout.get_runs(subject = sID))"
   ]
  },
  {
   "cell_type": "markdown",
   "id": "88cb5f02",
   "metadata": {},
   "source": [
    "### Filtering files by entities\n",
    "We can pass any BIDS-defined entities (keywords) to `.get()` method. \n",
    "\n",
    "Retrieve all BOLD runs with `.nii.gz` extensions for subject `04`."
   ]
  },
  {
   "cell_type": "code",
   "execution_count": null,
   "id": "a5c36310",
   "metadata": {
    "solution2": "hidden",
    "solution2_first": true
   },
   "outputs": [],
   "source": [
    "# write your code here\n"
   ]
  },
  {
   "cell_type": "code",
   "execution_count": null,
   "id": "f0d5a0ed",
   "metadata": {
    "solution2": "hidden"
   },
   "outputs": [],
   "source": [
    "# Retrieve filenames of all BOLD runs for subject 01\n",
    "layout.get(subject='04', extension='nii.gz', suffix='bold', return_type='filename')"
   ]
  },
  {
   "cell_type": "markdown",
   "id": "a81a10a2",
   "metadata": {},
   "source": [
    "All of the entities are found in the names of BIDS files. For example `sub-01_task-facerecognition_run-01_bold.nii.gz` has entities: **subject** **task** **run** **suffix** **extension**."
   ]
  },
  {
   "cell_type": "markdown",
   "id": "507ffa5c",
   "metadata": {},
   "source": [
    "You can get the list of all availabe entities by `layout.get_entities()`.\n",
    "\n",
    "Here are a few of the most common entities:\n",
    "\n",
    "* `suffix`: The part of a BIDS filename just before the extension (e.g., 'bold', 'events', 'T1w', etc.).\n",
    "* `subject`: The subject label\n",
    "* `session`: The session label\n",
    "* `run`: The run index\n",
    "* `task`: The task name"
   ]
  },
  {
   "cell_type": "markdown",
   "id": "5f3f000f",
   "metadata": {},
   "source": [
    "### Filtering by metadata\n",
    "Sometimes we want to search for files based not just on their names, but also based on metadata defined in JSON files. We can pass any key that occurs in any JSON file in our project as an argument to `.get()`. We can combine these with any number of core BIDS entities (like `subject`, `run`, etc.).\n",
    "\n",
    "Write a code to retrieve `SpacingBetweenSlices` for all subjects. And create a nice data frame of this information."
   ]
  },
  {
   "cell_type": "code",
   "execution_count": null,
   "id": "0ba72f6f",
   "metadata": {
    "solution2": "hidden",
    "solution2_first": true
   },
   "outputs": [],
   "source": [
    "# write your code here\n"
   ]
  },
  {
   "cell_type": "code",
   "execution_count": null,
   "id": "27f3a0a2",
   "metadata": {
    "solution2": "hidden"
   },
   "outputs": [],
   "source": [
    "import pandas as pd\n",
    "d = []\n",
    "for subject in layout.get_subjects():\n",
    "    d.append(\n",
    "        {\n",
    "            'subject': subject,\n",
    "            'spacing': layout.get_SpacingBetweenSlices(subject=subject, suffix='bold')\n",
    "        }\n",
    "    )\n",
    "df = pd.DataFrame(d)\n",
    "df = df.sort_values(by=['subject'])\n",
    "\n",
    "print(df.to_string(index=False))"
   ]
  },
  {
   "cell_type": "markdown",
   "id": "b973c33f",
   "metadata": {},
   "source": [
    "### Other `return_type` values\n",
    "We can also ask `get()` to return unique values (or IDs) of particular entities. For example, we want to know which subjects have at least one `T1w` file. We can request that information by setting `return_type='id'`. When using this option, we also need to specify a target entity (or metadata keyword) called `target`. This combination tells the `BIDSLayout` to return the unique values for the specified `target` entity. \n",
    "\n",
    "Ask for all of the unique subject IDs that have at least one file with a `phasediff` suffix. "
   ]
  },
  {
   "cell_type": "code",
   "execution_count": null,
   "id": "82c89b8c",
   "metadata": {
    "solution2": "hidden",
    "solution2_first": true
   },
   "outputs": [],
   "source": [
    "# write your code here\n"
   ]
  },
  {
   "cell_type": "code",
   "execution_count": null,
   "id": "cb7b7d4a",
   "metadata": {
    "solution2": "hidden"
   },
   "outputs": [],
   "source": [
    "layout.get(return_type='id', target='subject', suffix='phasediff')"
   ]
  },
  {
   "cell_type": "markdown",
   "id": "f1f68a95",
   "metadata": {},
   "source": [
    "If our `target` is a BIDS entity that corresponds to a particular directory in the BIDS specification (e.g., `subject` or `session`) we can also use `return_type='dir'` to get all matching subdirectories. "
   ]
  },
  {
   "cell_type": "code",
   "execution_count": null,
   "id": "ffe9d502",
   "metadata": {},
   "outputs": [],
   "source": [
    "layout.get(return_type='dir', target='subject')"
   ]
  },
  {
   "cell_type": "markdown",
   "id": "6c852633",
   "metadata": {},
   "source": [
    "## The `BIDSFile`\n",
    "When you call `.get()` on a `BIDSLayout`, the default returned values are objects of class `BIDSFile`. A `BIDSFile` is a lightweight container for individual files in a BIDS dataset. It provides easy access to a variety of useful attributes and methods. Let's take a closer look. First, let's pick a random file from our existing `layout`."
   ]
  },
  {
   "cell_type": "code",
   "execution_count": null,
   "id": "25aeb3fc",
   "metadata": {},
   "outputs": [],
   "source": [
    "# Pick the 7th file in the dataset\n",
    "bf = layout.get()[7]\n",
    "# Print it\n",
    "bf"
   ]
  },
  {
   "cell_type": "markdown",
   "id": "45e9d47f",
   "metadata": {},
   "source": [
    "Here are some of the attributes and methods available to us in a `BIDSFile` (note that some of these are only available for certain subclasses of `BIDSFile`; e.g., you can't call `get_image()` on a `BIDSFile` that doesn't correspond to an image file!):\n",
    "* `.path`: The full path of the associated file\n",
    "* `.filename`: The associated file's filename (without directory)\n",
    "* `.dirname`: The directory containing the file\n",
    "* `.get_entities()`: Returns information about entities associated with this `BIDSFile` (optionally including metadata)\n",
    "* `.get_image()`: Returns the file contents as a nibabel image (only works for image files)\n",
    "* `.get_df()`: Get file contents as a pandas DataFrame (only works for TSV files)\n",
    "* `.get_metadata()`: Returns a dictionary of all metadata found in associated JSON files\n",
    "* `.get_associations()`: Returns a list of all files associated with this one in some way\n",
    "\n",
    "Let's see some of these in action."
   ]
  },
  {
   "cell_type": "code",
   "execution_count": null,
   "id": "36f773ca",
   "metadata": {
    "solution2": "hidden",
    "solution2_first": true
   },
   "outputs": [],
   "source": [
    "# Print all the entities associated with this file, and their values\n"
   ]
  },
  {
   "cell_type": "code",
   "execution_count": null,
   "id": "66feb506",
   "metadata": {
    "solution2": "hidden"
   },
   "outputs": [],
   "source": [
    "bf.get_entities()"
   ]
  },
  {
   "cell_type": "code",
   "execution_count": null,
   "id": "68b11c60",
   "metadata": {
    "solution2": "hidden",
    "solution2_first": true
   },
   "outputs": [],
   "source": [
    "# Print all the metadata associated with this file\n"
   ]
  },
  {
   "cell_type": "code",
   "execution_count": null,
   "id": "32a4bc4e",
   "metadata": {
    "solution2": "hidden"
   },
   "outputs": [],
   "source": [
    "bf.get_metadata()"
   ]
  },
  {
   "cell_type": "code",
   "execution_count": null,
   "id": "95e858bb",
   "metadata": {},
   "outputs": [],
   "source": [
    "# We can the union of both of the above in one shot like this\n",
    "bf.get_entities(metadata='all')"
   ]
  },
  {
   "cell_type": "markdown",
   "id": "7a3f5ec2",
   "metadata": {},
   "source": [
    "Here are all the files associated with our target file in some way."
   ]
  },
  {
   "cell_type": "code",
   "execution_count": null,
   "id": "ae6160e3",
   "metadata": {},
   "outputs": [],
   "source": [
    "bf.get_associations()"
   ]
  },
  {
   "cell_type": "markdown",
   "id": "0b24919d",
   "metadata": {},
   "source": [
    "`.get_image()`: Returns the file contents as a `nibabel` image (only works for image files). We can then display the image, for example, using `OrthoSlicer3D` which requires `matplotlib`.   \n",
    "\n",
    "**Note:** When using `orthoview()` in notebook, don't forget to close figures afterward again or use `%matplotlib inline` again, otherwise, you cannot plot any other figures."
   ]
  },
  {
   "cell_type": "code",
   "execution_count": null,
   "id": "ce9717c5",
   "metadata": {},
   "outputs": [],
   "source": [
    "import matplotlib.pyplot as plt\n",
    "%matplotlib notebook\n",
    "\n",
    "bf.get_image().orthoview()"
   ]
  },
  {
   "cell_type": "code",
   "execution_count": null,
   "id": "07270602",
   "metadata": {
    "solution2": "hidden",
    "solution2_first": true
   },
   "outputs": [],
   "source": [
    "# Pick the 18th file in the dataset\n",
    "# Assign it a variable name b18\n",
    "# Display the file with orthoview\n",
    "\n",
    "\n"
   ]
  },
  {
   "cell_type": "code",
   "execution_count": null,
   "id": "73f2b3d2",
   "metadata": {
    "solution2": "hidden"
   },
   "outputs": [],
   "source": [
    "bf18 = layout.get()[18]\n",
    "bf18.get_image().orthoview()"
   ]
  },
  {
   "cell_type": "markdown",
   "id": "04824519",
   "metadata": {},
   "source": [
    "## `.tsv` files"
   ]
  },
  {
   "cell_type": "markdown",
   "id": "d2d657a2",
   "metadata": {},
   "source": [
    "In cases where a file has a `.tsv.gz` or `.tsv` extension, it will automatically be created as a `BIDSDataFile`, and we can easily grab the contents as a `DataFrame`.\n",
    "\n",
    "Let's look at the first `events` file from our layout."
   ]
  },
  {
   "cell_type": "code",
   "execution_count": null,
   "id": "2bd7e7b5",
   "metadata": {},
   "outputs": [],
   "source": [
    "# Get the first events file\n",
    "evfile = layout.get(suffix='events')[0]\n",
    "\n",
    "# Get contents as a DataFrame and show the first few rows\n",
    "df = evfile.get_df()\n",
    "df.head()"
   ]
  },
  {
   "cell_type": "markdown",
   "id": "18983b51",
   "metadata": {},
   "source": [
    "Let's look at the `participants` information. "
   ]
  },
  {
   "cell_type": "code",
   "execution_count": null,
   "id": "c579b9eb-3537-4f6a-af23-a9aff5256b0b",
   "metadata": {},
   "outputs": [],
   "source": [
    "participants = layout.get(suffix='participants', extension='tsv')[0]\n",
    "participants.get_df()"
   ]
  },
  {
   "cell_type": "markdown",
   "id": "871c98d2",
   "metadata": {},
   "source": [
    "## Other utilities"
   ]
  },
  {
   "cell_type": "markdown",
   "id": "0b3f2463",
   "metadata": {},
   "source": [
    "### Filename parsing\n",
    "Let's say you have a filename, and you want to manually extract BIDS entities from it. The parse_file_entities method provides the facility:"
   ]
  },
  {
   "cell_type": "code",
   "execution_count": null,
   "id": "44bab88f",
   "metadata": {},
   "outputs": [],
   "source": [
    "layout.parse_file_entities('some_path_to_bids_file/sub-04_task-facerecognition_run-01_bold.nii.gz')"
   ]
  },
  {
   "cell_type": "markdown",
   "id": "aa366248",
   "metadata": {},
   "source": [
    "You can do the same for `BIDSFile` object that we defined earlier. How would you do it for either `bf` or `bf18`?"
   ]
  },
  {
   "cell_type": "code",
   "execution_count": null,
   "id": "2e690719",
   "metadata": {
    "solution2": "hidden",
    "solution2_first": true
   },
   "outputs": [],
   "source": [
    "# write your code here\n"
   ]
  },
  {
   "cell_type": "code",
   "execution_count": null,
   "id": "6591f3b7",
   "metadata": {
    "scrolled": true,
    "solution2": "hidden"
   },
   "outputs": [],
   "source": [
    "layout.parse_file_entities(bf.path)"
   ]
  },
  {
   "cell_type": "markdown",
   "id": "5d2340ef",
   "metadata": {},
   "source": [
    "### Path construction\n",
    "You may want to create valid BIDS filenames for files that are new or hypothetical that would sit within your BIDS project. This is useful when you know what entity values you need to write out to, but don’t want to deal with looking up the precise BIDS file-naming syntax. In the example below, imagine we’ve created a new file containing stimulus presentation information, and we want to save it to a `.tsv.gz` file, per the BIDS naming conventions. All we need to do is define a dictionary with the name components, and build_path takes care of the rest (including injecting sub-directories!):"
   ]
  },
  {
   "cell_type": "code",
   "execution_count": null,
   "id": "8d6254f7",
   "metadata": {},
   "outputs": [],
   "source": [
    "entities = {\n",
    "    'subject': '01',\n",
    "    'run': '02',\n",
    "    'task': 'facerecognition',\n",
    "    'suffix': 'bold'\n",
    "}\n",
    "\n",
    "layout.build_path(entities)"
   ]
  },
  {
   "cell_type": "markdown",
   "id": "06d3f081",
   "metadata": {},
   "source": [
    "Keep in mind that `_` and `-` have special meaning in BIDS specification. E.g., you can't name your task `face-recognition`, that would not be 'spec-compliant' and would end in an error! However, if you add `validate=False`, you can get away with it (i'e', `layout.build_path(entities, validate=False)`). \n",
    "\n",
    "You can also use `build_path` in more sophisticated ways by defining your own set of matching templates that cover cases not supported by BIDS out of the box. For example, suppose you want to create a template for naming a new `stat` file. You could do something like:"
   ]
  },
  {
   "cell_type": "code",
   "execution_count": null,
   "id": "3e5ca2e2",
   "metadata": {},
   "outputs": [],
   "source": [
    "# Define the pattern to build out of the components passed in the dictionary\n",
    "pattern = \"sub-{subject}[_ses-{session}]_task-{task}[_run-{run}]_{suffix}.nii.gz\"\n",
    "\n",
    "entities = {\n",
    "    'subject': '01',\n",
    "    'run': '02',\n",
    "    'task': 'facerecognition',\n",
    "    'suffix': 'stat'\n",
    "}\n",
    "\n",
    "# Notice we pass the new pattern as the second argument\n",
    "layout.build_path(entities, pattern, validate=False)"
   ]
  },
  {
   "cell_type": "markdown",
   "id": "fcf3c781",
   "metadata": {},
   "source": [
    "### Exporting a `BIDSLayout` to a pandas `Dataframe`\n",
    "If you want a summary of all the files in your `BIDSLayout`, but don't want to have to iterate `BIDSFile` objects and extract their entities, you can get a nice bird's-eye view of your dataset using the `to_df()` method."
   ]
  },
  {
   "cell_type": "code",
   "execution_count": null,
   "id": "6d649d73",
   "metadata": {},
   "outputs": [],
   "source": [
    "# Convert the layout to a pandas dataframe\n",
    "df = layout.to_df()\n",
    "df.head()"
   ]
  },
  {
   "cell_type": "markdown",
   "id": "7de3d462",
   "metadata": {},
   "source": [
    "We can also include metadata in the result if we like (which may blow up our `DataFrame` if we have a large dataset). Note that in this case, most of our cells will have missing values."
   ]
  },
  {
   "cell_type": "code",
   "execution_count": null,
   "id": "ba426a89",
   "metadata": {},
   "outputs": [],
   "source": [
    "df = layout.to_df(metadata=True)\n",
    "df.head()"
   ]
  },
  {
   "cell_type": "markdown",
   "id": "50eeef0c",
   "metadata": {},
   "source": [
    "## Report generation\n",
    "`PyBIDS` also allows you to automatically create data acquisition reports based on the available `image` and `meta-data` information. This enables a new level of standardisation and transparency. FAIR-ness, meta-analyses, etc. "
   ]
  },
  {
   "cell_type": "code",
   "execution_count": null,
   "id": "a089b960",
   "metadata": {},
   "outputs": [],
   "source": [
    "# import the BIDSReport function from the reports submodule\n",
    "from bids.reports import BIDSReport"
   ]
  },
  {
   "cell_type": "markdown",
   "id": "1f0ea233",
   "metadata": {},
   "source": [
    "Now we only need to apply the `BIDSReport` function to our `layout` and generate our report. \n",
    "\n",
    "In your example dataset the report might run into error as the dataset is incomplete. The code below deals with that case. But a successfull report would look something like this:\n",
    "\n",
    ">In session None, MR data were acquired using a 3-Tesla Siemens TrioTim MRI scanner.\n",
    "\tOne run of T1-weighted SP\\MP\\OSP GR\\IR (GR\\IR) single-echo structural MRI data were collected (256 slices; repetition time, TR=2250ms; echo time, TE=2.98ms; flip angle, FA=9<deg>; field of view, FOV=192x256mm; matrix size=192x256; voxel size=1x1x1mm).\n",
    "\tA spoiled gradient recalled (GR) field map (phase encoding: anterior to posterior; 33 slices in interleaved ascending order; repetition time, TR=400ms; echo time 1 / 2, TE1/2=5.197.65ms; flip angle, FA=60<deg>; field of view, FOV=192x192mm; matrix size=64x64; voxel size=3x3x3.75mm) was acquired for the first, second, third, fourth, fifth, sixth, seventh, eighth, and ninth runs of the facerecognition BOLD scan.\n",
    "\tNine runs of facerecognition segmented k-space echo planar (EP) single-echo fMRI data were collected (33 slices in interleaved ascending order; repetition time, TR=2000ms; echo time, TE=30ms; flip angle, FA=78<deg>; field of view, FOV=192x192mm; matrix size=64x64; voxel size=3x3x3.75mm). Run duration was 6:56 minutes, during which 208 volumes were acquired.\n",
    "\n",
    ">Dicoms were converted to NIfTI-1 format using dcm2niix (v1.0.20220720). This section was (in part) generated automatically using pybids (0.15.3)."
   ]
  },
  {
   "cell_type": "code",
   "execution_count": null,
   "id": "981212ff",
   "metadata": {},
   "outputs": [],
   "source": [
    "# Initialize a report for the dataset\n",
    "report = BIDSReport(layout)\n",
    "\n",
    "# Method generate returns a Counter of unique descriptions across subjects\n",
    "try:\n",
    "    descriptions = report.generate()\n",
    "    pub_description = descriptions.most_common()[0][0]\n",
    "    print(pub_description)\n",
    "except IndexError:\n",
    "    print('Sorry, it seems that the dataset is not complete and report cannot be generated.')"
   ]
  }
 ],
 "metadata": {
  "kernelspec": {
   "display_name": "Python 3 (ipykernel)",
   "language": "python",
   "name": "python3"
  },
  "language_info": {
   "codemirror_mode": {
    "name": "ipython",
    "version": 3
   },
   "file_extension": ".py",
   "mimetype": "text/x-python",
   "name": "python",
   "nbconvert_exporter": "python",
   "pygments_lexer": "ipython3",
   "version": "3.9.13"
  },
  "toc": {
   "base_numbering": 1,
   "nav_menu": {},
   "number_sections": true,
   "sideBar": true,
   "skip_h1_title": true,
   "title_cell": "Table of Contents",
   "title_sidebar": "Contents",
   "toc_cell": false,
   "toc_position": {
    "height": "calc(100% - 180px)",
    "left": "10px",
    "top": "150px",
    "width": "165px"
   },
   "toc_section_display": true,
   "toc_window_display": true
  },
  "varInspector": {
   "cols": {
    "lenName": 16,
    "lenType": 16,
    "lenVar": 40
   },
   "kernels_config": {
    "python": {
     "delete_cmd_postfix": "",
     "delete_cmd_prefix": "del ",
     "library": "var_list.py",
     "varRefreshCmd": "print(var_dic_list())"
    },
    "r": {
     "delete_cmd_postfix": ") ",
     "delete_cmd_prefix": "rm(",
     "library": "var_list.r",
     "varRefreshCmd": "cat(var_dic_list()) "
    }
   },
   "types_to_exclude": [
    "module",
    "function",
    "builtin_function_or_method",
    "instance",
    "_Feature"
   ],
   "window_display": false
  }
 },
 "nbformat": 4,
 "nbformat_minor": 5
}
